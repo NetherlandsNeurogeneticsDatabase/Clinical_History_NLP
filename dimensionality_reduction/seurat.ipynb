{
 "cells": [
  {
   "cell_type": "markdown",
   "id": "8bbf583b-23d4-4f7f-8b42-2f808bcc4d8f",
   "metadata": {},
   "source": [
    "# Netherlands Neurogenetics Database\n",
    "Author: Nienke Mekkes <br>\n",
    "Date: 17-01-2024. <br>\n",
    "Correspond: n.j.mekkes@umcg.nl <br>\n",
    "\n",
    "## Script: Seurat dimensionality reduction\n",
    "Objectives: Implementation of Seurat dimensionality reduction <br>\n",
    "\n",
    "#### Minimal requirements"
   ]
  },
  {
   "cell_type": "code",
   "execution_count": null,
   "id": "8850c54c-c0b2-4c5c-866d-3cc9ab363a66",
   "metadata": {
    "tags": []
   },
   "outputs": [],
   "source": [
    "# Enter commands in R (or R studio, if installed)\n",
    "# install.packages('Seurat')\n",
    "\n",
    "#####\n",
    "library(Seurat)\n",
    "library(dplyr)\n",
    "library(patchwork)\n",
    "\n",
    "library(ggplot2) \n",
    "library(stringr)\n",
    "library(data.table)\n",
    "library(readxl)\n",
    "library(viridis)\n",
    "\n"
   ]
  },
  {
   "cell_type": "code",
   "execution_count": null,
   "id": "90cb7a0f-2d20-4770-b4d5-361fd4bf0a7d",
   "metadata": {},
   "outputs": [],
   "source": [
    "sessionInfo()"
   ]
  },
  {
   "cell_type": "markdown",
   "id": "4ffebe52-8b5f-4734-9e15-26fc2dc9d910",
   "metadata": {},
   "source": [
    "## Loading custom colour dictionaries\n",
    "We will use specific colours for specific diagnoses/categories. All these colours are predefined in the colours_seurat.R script."
   ]
  },
  {
   "cell_type": "code",
   "execution_count": null,
   "id": "14a6405c-1fcf-4b56-893e-f001ce881815",
   "metadata": {},
   "outputs": [],
   "source": [
    "source(\"colours_seurat.R\")"
   ]
  },
  {
   "cell_type": "markdown",
   "id": "43bfdbff-6449-4b35-bbee-ffe39757b732",
   "metadata": {},
   "source": [
    "Small example:"
   ]
  },
  {
   "cell_type": "code",
   "execution_count": null,
   "id": "fb181215-c7cf-470c-9bb4-d4f24578bcc1",
   "metadata": {},
   "outputs": [],
   "source": [
    "custom_colors_origin"
   ]
  },
  {
   "cell_type": "markdown",
   "id": "3763a9df-b47d-4fa8-b026-853404c70d86",
   "metadata": {},
   "source": [
    "## Custom functions\n",
    "Custom functions for:  \n",
    "- Preprocessing seurat objects  \n",
    "- Calculating p-values with chi-squared test. \n",
    "- Creating different kinds of plots\n",
    "- Finding significant markers\n",
    "- Performing PCA\n",
    "- Performing coherent analysis \n",
    "\n",
    "These functions are encompassed in a single R script called functions_seurat.R"
   ]
  },
  {
   "cell_type": "code",
   "execution_count": null,
   "id": "96f71489-89d5-4918-86d8-896184cccd54",
   "metadata": {},
   "outputs": [],
   "source": [
    "source(\"functions_seurat.R\")"
   ]
  },
  {
   "cell_type": "markdown",
   "id": "c9ce63b8-8e8d-4d9e-a5ad-1ec1b890c36c",
   "metadata": {},
   "source": [
    "#### load in sup3, which contains symptom domain ordering"
   ]
  },
  {
   "cell_type": "code",
   "execution_count": null,
   "id": "7098f85b-d84c-4683-b3e8-b108274a3fc1",
   "metadata": {
    "tags": []
   },
   "outputs": [],
   "source": [
    "path_to_sup3 <- \"/home/jupyter-n.mekkes@gmail.com-f6d87/clinical_history/input_data/sup3.xlsx\"\n",
    "sup3 <- read_excel(path_to_sup3)\n",
    "sup3 <- sup3 %>%\n",
    "  mutate(ITname = str_replace_all(ITname, \"_\", \"-\"))\n",
    "\n",
    "head(sup3)"
   ]
  },
  {
   "cell_type": "markdown",
   "id": "95f85fe1-e79c-4945-a27d-e0323e5621cd",
   "metadata": {},
   "source": [
    "#### load in PRS scores, can be added to analysis"
   ]
  },
  {
   "cell_type": "code",
   "execution_count": null,
   "id": "a46e99d5-f141-41b6-b790-8fa7fa2d8250",
   "metadata": {},
   "outputs": [],
   "source": [
    "path_to_prs <- \"/home/jupyter-n.mekkes@gmail.com-f6d87/genetics/analyse_PRS/PRS_combined_zscore.xlsx\"\n",
    "prs_scores <- read_excel(path_to_prs)\n",
    "# prs_scores"
   ]
  },
  {
   "cell_type": "markdown",
   "id": "0cf71b04-8662-47f1-adbb-a313c59cb3ff",
   "metadata": {},
   "source": [
    "#### load in rules of thumb predictions"
   ]
  },
  {
   "cell_type": "code",
   "execution_count": null,
   "id": "8a0d2002-cad3-4d21-b5a0-ee25e7b8ccbb",
   "metadata": {
    "tags": []
   },
   "outputs": [],
   "source": [
    "# df = read.table('/home/jupyter-n.mekkes@gmail.com-f6d87/clinical_diagnosis/output/selected_diagnoses_july.csv', sep=',', header= TRUE)\n",
    "df = read.table('/home/jupyter-n.mekkes@gmail.com-f6d87/clinical_analysis/data/seurat_input.csv', sep=',', header= TRUE)\n",
    "# # colnames(df)\n",
    "non_attributes <- c('neuropathological_diagnosis','age_at_death','Year','sex','DonorID','Age','file_year','simplified_diagnosis')\n",
    "attributes <- colnames(df)[!(colnames(df) %in% non_attributes)] ## the symptom names\n",
    "metadata_columns <- c(\"DonorID\",\"age_at_death\", \"sex\",\"neuropathological_diagnosis\",'simplified_diagnosis',\"MS\",\"AD\",\"FTD\",\"file_year\"#,\n",
    "                      # 'parsed_clinical_diagnosis', 'diagnosis_info', 'pred', 'pred_info', 'model_vs_clinic'\n",
    "                     ) #diagnosis_info\n",
    "selected_df <- df[, c(\"DonorID\", \"simplified_diagnosis\")]\n",
    "selected_df <- unique(selected_df)\n",
    "diagnosis_counts <- table(selected_df$simplified_diagnosis)\n",
    "print(diagnosis_counts)\n",
    "# print(head(df))\n",
    "\n",
    "head(df)\n",
    "length(unique(df$DonorID))\n",
    "\n",
    "table(df$Age)"
   ]
  },
  {
   "cell_type": "code",
   "execution_count": null,
   "id": "5f49043c-b1df-41dd-8fa7-86af1a5c80a0",
   "metadata": {},
   "outputs": [],
   "source": [
    "jig <- df[df$simplified_diagnosis == 'other_dem', ]\n",
    "table(jig$neuropathological_diagnosis)"
   ]
  },
  {
   "cell_type": "code",
   "execution_count": null,
   "id": "e6fd96ce-c24e-4c73-bb1c-f9ff16a7c01b",
   "metadata": {
    "tags": []
   },
   "outputs": [],
   "source": [
    "\n",
    "# df <- df[df$Age != -9,]\n",
    "# \n",
    "## group some diagnoses together\n",
    "# df <- df %>%\n",
    "#   mutate(neuropathological_diagnosis = ifelse(neuropathological_diagnosis == \"PDD\", \"PD\", neuropathological_diagnosis))\n",
    "df2 <- df %>%\n",
    "  mutate(simplified_diagnosis = ifelse(simplified_diagnosis == \"PDD\", \"PD\",\n",
    "                                             ifelse(simplified_diagnosis %in% c(\"MDD\", \"BP\", \"SCZ\",\"other_psych\"), \"PSYCH\",\n",
    "                                                    simplified_diagnosis)))\n",
    "\n",
    "# df$years_before_death <- df$age_at_death - df$Age\n",
    "\n",
    "# unique_values <- unique(df$simplified_diagnosis)\n",
    "# print(unique_values)\n",
    "# table1 <- c('CON', 'FTD','PD', 'AD', 'PSP', 'MS', 'VD' ,'ATAXIA','MSA', 'MND' ,'DLB','PSYCH')\n",
    "# table1 <- c('CON', 'FTD','PD', 'AD', 'PSP', 'MS', 'VD' ,'ATAXIA','MSA', 'MND' ,'DLB',\"MDD\", \"BP\", \"SCZ\")\n",
    "df2 <- merge(df2, prs_scores, by.x = \"DonorID\", by.y = \"DonorID\", all.x = TRUE)\n",
    "df2$MS <- replace(df2$MS, is.na(df2$MS), 'exclude')\n",
    "df2$AD <- replace(df2$AD, is.na(df2$AD), 'exclude')\n",
    "df2$FTD <- replace(df2$FTD, is.na(df$FTD), 'exclude')\n",
    "# df$neuropathological_diagnosis <- ifelse(df$neuropathological_diagnosis %in% table1, df$neuropathological_diagnosis, 'other')\n",
    "selected_df <- df2[, c(\"DonorID\", \"simplified_diagnosis\")]\n",
    "selected_df <- unique(selected_df)\n",
    "diagnosis_counts <- table(selected_df$simplified_diagnosis)\n",
    "print(diagnosis_counts)\n",
    "\n",
    "selected_df <- df2[, c(\"DonorID\", \"neuropathological_diagnosis\")]\n",
    "selected_df <- unique(selected_df)\n",
    "diagnosis_counts <- table(selected_df$neuropathological_diagnosis)\n",
    "print(diagnosis_counts)\n",
    "new_column_names <- str_replace_all(attributes, \"_\", \"-\")\n",
    "\n",
    "# Rename the columns in the data frame\n",
    "df2 <- df2 %>%\n",
    "  rename_with(~ new_column_names, all_of(attributes))\n",
    "\n",
    "\n",
    "# table(df$Age)\n",
    "############### remove later #############\n",
    "# df <- df %>%\n",
    "#   filter(neuropathological_diagnosis != \"other\")\n",
    "\n",
    "# df$file_year <- gsub(\"NBB (\\\\d{4})-\\\\d{3}\", \"\\\\1\", df$DonorID)\n",
    "# df$file_year <- as.numeric(df$file_year)\n",
    "# df <- subset(df, file_year >= 1997)\n",
    "dim(df)\n",
    "dim(df2)\n",
    "head(df)\n",
    "head(df2)"
   ]
  },
  {
   "cell_type": "markdown",
   "id": "7ecc0e55-73d0-4911-83aa-a88eef152a66",
   "metadata": {},
   "source": [
    "#### Data preprocessing: metadata"
   ]
  },
  {
   "cell_type": "code",
   "execution_count": null,
   "id": "703af537-155b-4d8b-ad63-a83fec698ec5",
   "metadata": {
    "tags": []
   },
   "outputs": [],
   "source": [
    "########## METADATA ##################\n",
    "meta_data <- df2[, metadata_columns]\n",
    "\n",
    "age_bins <- c(\"0-20\", \"20-40\", \"40-60\", \"60-80\", \"80-100\", \"100+\")\n",
    "clin_grud_overview <- read_excel('/home/jupyter-n.mekkes@gmail.com-f6d87/clinical_analysis/data/grud_clin_subset_overview_both.xlsx')\n",
    "clin_grud_overview <- read_excel('/home/jupyter-n.mekkes@gmail.com-f6d87/clinical_analysis/data/grud_clin_subset_overview_newboth.xlsx')\n",
    "gen_info <- read_excel('/home/jupyter-n.mekkes@gmail.com-f6d87/clinical_history/input_data/General_information_11-08-2023.xlsx')\n",
    "\n",
    "# clin_grud_overview$FTD_misdiagnosis <- ifelse(clin_grud_overview$neuropathological_diagnosis == \"FTD\" & clin_grud_overview$diagnosis_info == 'non-coherent', 1, 0)\n",
    "print(dim(clin_grud_overview))\n",
    "# diagnosis_counts <- table(clin_grud_overview$FTD_misdiagnosis)\n",
    "# print(diagnosis_counts)\n",
    "print(dim(meta_data))\n",
    "meta_data <- merge(meta_data, clin_grud_overview[, c('DonorID', 'parsed_clinical_diagnosis', 'clin_coherence')],\n",
    "                   by='DonorID', all.x=TRUE)\n",
    "meta_data <- merge(meta_data, gen_info[, c('DonorID', 'APOE status')],\n",
    "                   by='DonorID', all.x=TRUE)\n",
    "columns_to_replace <- c('parsed_clinical_diagnosis','clin_coherence')\n",
    "# for (col in columns_to_replace) {\n",
    "#   meta_data[[col]] <- ifelse(meta_data$DonorID %in% clin_grud_overview$DonorID, meta_data[[col]], \"unknown/coherent\")\n",
    "# }\n",
    "# order_levels <- c(\"coherent\", \"ambiguous\", \"non-coherent\", \"unknown\")\n",
    "# meta_data$diagnosis_info <- factor(meta_data$diagnosis_info, levels = order_levels)\n",
    "# meta_data$clin_coherence <- ifelse(is.na(meta_data$clin_coherence), \"unknown\", df$clin_coherence)\n",
    "meta_data$clin_coherence <- ifelse(is.na(meta_data$clin_coherence), \"unknown/coherent\", meta_data$clin_coherence)\n",
    "\n",
    "order_levels <- c(\"unknown/coherent\",\"non_coherent\")\n",
    "meta_data$clin_coherence <- factor(meta_data$clin_coherence, levels = order_levels)\n",
    "# Replace the values in the diagnosis_info column with the desired order\n",
    "\n",
    "\n",
    "# ## set up some options to assess the ellips\n",
    "# meta_data <- meta_data %>%\n",
    "#   mutate(model_and_clinic1 =\n",
    "#            case_when(\n",
    "#              diagnosis_info == \"ambiguous\" & pred_info == \"non-coherent\" ~ \"non-coherent\",\n",
    "#              diagnosis_info == \"non-coherent\" & pred_info == \"non-coherent\" ~ \"non-coherent\",\n",
    "#              diagnosis_info == \"unknown\" | pred_info == \"unknown\" ~ \"unknown\",\n",
    "#              TRUE ~ \"coherent\"\n",
    "#            ))\n",
    "# meta_data <- meta_data %>%\n",
    "#   mutate(model_and_clinic2 =\n",
    "#            case_when(\n",
    "#              # (diagnosis_info == \"ambiguous\" & pred_info == \"non-coherent\") |\n",
    "#              (diagnosis_info == \"non-coherent\" & pred_info == \"non-coherent\") ~ \"non-coherent\",\n",
    "#              diagnosis_info == \"unknown\" | pred_info == \"unknown\" ~ \"unknown\",\n",
    "#              TRUE ~ \"coherent\"\n",
    "#            ))\n",
    "# meta_data <- meta_data %>%\n",
    "#   mutate(model_and_clinic3 =\n",
    "#            case_when(\n",
    "#              diagnosis_info == \"non-coherent\" & pred_info == \"ambiguous\" ~ \"non-coherent\",\n",
    "#              diagnosis_info == \"non-coherent\" & pred_info == \"non-coherent\" ~ \"non-coherent\",\n",
    "#              diagnosis_info == \"unknown\" | pred_info == \"unknown\" ~ \"unknown\",\n",
    "#              TRUE ~ \"coherent\"\n",
    "#            ))\n",
    "# meta_data <- meta_data %>%\n",
    "#   mutate(model_and_clinic4 =\n",
    "#            case_when(\n",
    "#              diagnosis_info == \"ambiguous\" & pred_info == \"non-coherent\" ~ \"non-coherent\",\n",
    "#              diagnosis_info == \"ambiguous\" & pred_info == \"ambiguous\" ~ \"non-coherent\",\n",
    "#              diagnosis_info == \"non-coherent\" & pred_info == \"ambiguous\" ~ \"non-coherent\",  \n",
    "#              diagnosis_info == \"non-coherent\" & pred_info == \"non-coherent\" ~ \"non-coherent\",\n",
    "#              diagnosis_info == \"unknown\" | pred_info == \"unknown\" ~ \"unknown\",\n",
    "#              TRUE ~ \"coherent\"\n",
    "#            ))\n",
    "# meta_data <- meta_data %>%\n",
    "#   mutate(clin1 =\n",
    "#            case_when(\n",
    "#              diagnosis_info == \"non-coherent\" ~ \"non-coherent\",\n",
    "#              diagnosis_info == \"unknown\" ~ \"unknown\",\n",
    "#              TRUE ~ \"coherent\"\n",
    "#            ))\n",
    "# meta_data <- meta_data %>%\n",
    "#   mutate(clin2 =\n",
    "#            case_when(\n",
    "#              diagnosis_info == \"coherent\" ~ \"coherent\",\n",
    "#              diagnosis_info == \"unknown\" ~ \"unknown\",\n",
    "#              TRUE ~ \"non-coherent\"\n",
    "#            ))\n",
    "meta_data <- meta_data %>% distinct()\n",
    "tail(meta_data,5)\n",
    "print(dim(meta_data))\n",
    "# print(table(meta_data[, c(\"DonorID\", \"model_and_clinic1\")]$model_and_clinic1))\n",
    "# print(table(meta_data[, c(\"DonorID\", \"model_and_clinic2\")]$model_and_clinic2))\n",
    "# print(table(meta_data[, c(\"DonorID\", \"model_and_clinic3\")]$model_and_clinic3))\n",
    "# print(table(meta_data[, c(\"DonorID\", \"model_and_clinic4\")]$model_and_clinic4))\n",
    "# print(table(meta_data[, c(\"DonorID\", \"clin1\")]$clin1))\n",
    "# print(table(meta_data[, c(\"DonorID\", \"clin2\")]$clin2))\n",
    "# print(table(meta_data[, c(\"DonorID\", \"diagnosis_info\")]$diagnosis_info))\n",
    "# subset(meta_data, model_and_clinic1 == \"other\")\n",
    "# print(table(subset(meta_data, model_and_clinic == \"other\")[, c(\"DonorID\", \"diagnosis_info\")]$diagnosis_info))\n",
    "# # Replace numeric age_bin values with corresponding age bin labels\n",
    "# meta_data$model_and_clinic1 <- factor(meta_data$model_and_clinic1, levels = order_levels)\n",
    "# meta_data$model_and_clinic2 <- factor(meta_data$model_and_clinic2, levels = order_levels)\n",
    "# meta_data$model_and_clinic3 <- factor(meta_data$model_and_clinic3, levels = order_levels)\n",
    "# meta_data$model_and_clinic4 <- factor(meta_data$model_and_clinic4, levels = order_levels)\n",
    "# meta_data$clin1 <- factor(meta_data$clin1, levels = order_levels)\n",
    "# meta_data$clin2 <- factor(meta_data$clin2, levels = order_levels)\n",
    "\n",
    "meta_data$age_bin <- cut(meta_data$age_at_death, breaks = seq(0, 120, by = 20),\n",
    "                         labels = age_bins, include.lowest = TRUE, right = FALSE)\n",
    "# meta_data$AD_misdiagnosis <- ifelse(meta_data$simplified_diagnosis == \"AD\" & meta_data$diagnosis_info == 'non-coherent', 1, 0)\n",
    "# meta_data$FTD_misdiagnosis <- ifelse(meta_data$simplified_diagnosis == \"FTD\" & meta_data$diagnosis_info == 'non-coherent', 1, 0)\n",
    "# meta_data$PD_misdiagnosis <- ifelse(meta_data$simplified_diagnosis == \"PD\" & meta_data$diagnosis_info == 'non-coherent', 1, 0)\n",
    "# meta_data$VD_misdiagnosis <- ifelse(meta_data$simplified_diagnosis == \"VD\" & meta_data$diagnosis_info == 'non-coherent', 1, 0)\n",
    "# meta_data$ATAXIA_misdiagnosis <- ifelse(meta_data$simplified_diagnosis == \"ATAXIA\" & meta_data$diagnosis_info =='non-coherent', 1, 0)\n",
    "# meta_data$DLB_misdiagnosis <- ifelse(meta_data$simplified_diagnosis == \"DLB\" & meta_data$diagnosis_info == 'non-coherent', 1, 0)\n",
    "# meta_data$MND_misdiagnosis <- ifelse(meta_data$simplified_diagnosis == \"MND\" & meta_data$diagnosis_info == 'non-coherent', 1, 0)\n",
    "# meta_data$PSP_misdiagnosis <- ifelse(meta_data$simplified_diagnosis == \"PSP\" & meta_data$diagnosis_info == 'non-coherent', 1, 0)\n",
    "# meta_data$MS_misdiagnosis <- ifelse(meta_data$simplified_diagnosis == \"MS\" & meta_data$diagnosis_info == 'non-coherent', 1, 0)\n",
    "# meta_data$MSA_misdiagnosis <- ifelse(meta_data$simplified_diagnosis == \"MSA\" & meta_data$diagnosis_info == 'non-coherent', 1, 0)\n",
    "\n",
    "meta_data <- unique(meta_data)\n",
    "# mania_metadata <- meta_data\n",
    "row.names(meta_data) <- meta_data$DonorID\n",
    "meta_data$DonorID <- NULL\n",
    "table(meta_data$clin_coherence)"
   ]
  },
  {
   "cell_type": "code",
   "execution_count": null,
   "id": "dd57f075-3b1d-4f40-a814-098a083406bf",
   "metadata": {},
   "outputs": [],
   "source": [
    "head(meta_data)"
   ]
  },
  {
   "cell_type": "markdown",
   "id": "5303519b-98e6-4807-9a5f-41934d527474",
   "metadata": {},
   "source": [
    "#### Data preprocessing: flattened observations"
   ]
  },
  {
   "cell_type": "code",
   "execution_count": null,
   "id": "3866c222-e090-46a5-8ab8-bbcf21a340dd",
   "metadata": {},
   "outputs": [],
   "source": [
    "# flattened_data <- df %>%\n",
    "#   select(-symptoms, -groupings, -Domains)\n",
    "\n",
    "flattened_data <- df2 %>%\n",
    "  group_by(across(all_of(metadata_columns))) %>%\n",
    "  summarise(across(everything(), sum))\n",
    "\n",
    "flattened_data <- as.data.frame(flattened_data)\n",
    "rownames(flattened_data) <- flattened_data$DonorID\n",
    "flattened_data <- flattened_data %>%\n",
    "  select(all_of(c(\"DonorID\", new_column_names)))\n",
    "\n",
    "\n",
    "tail(flattened_data)\n",
    "dim(flattened_data)"
   ]
  },
  {
   "cell_type": "markdown",
   "id": "8391d320-7aa5-476b-ab03-d26630963a8b",
   "metadata": {},
   "source": [
    "#### Data preprocessing: binned observations"
   ]
  },
  {
   "cell_type": "code",
   "execution_count": null,
   "id": "d48ef3c5-abcb-49e3-9407-714bdf270113",
   "metadata": {
    "tags": []
   },
   "outputs": [],
   "source": [
    "print(dim(df2))\n",
    "df2 <- df2[df2$Age >= 0, ]\n",
    "print(dim(df2))\n",
    "######## BINS of AGE ###############\n",
    "custom_start_age <- 15\n",
    "custom_end_age <- 105\n",
    "bin_width <- 30\n",
    "overlap <- 5\n",
    "max_bins <- max(df2$Age)\n",
    "num_bins <- floor((max_bins - bin_width) / overlap) + 1\n",
    "num_bins <- floor((custom_end_age - custom_start_age - bin_width) / overlap) + 1\n",
    "\n",
    "reshaped_data <- data.frame(DonorID = df2$DonorID, Age = df2$Age)\n",
    "\n",
    "print(num_bins)\n",
    "# for (symptom in attributes) {\n",
    "#   for (i in 1:num_bins) {\n",
    "#       start_age <- (i-1)*overlap\n",
    "#       end_age <- start_age + bin_width\n",
    "#       col_name <- paste0(symptom, \".\", start_age, \".\", end_age)\n",
    "#       reshaped_data[col_name] <- ifelse(df$Age >= start_age & df$Age < end_age & df[[symptom]] == 1, 1, 0)\n",
    "#   }\n",
    "# }\n",
    "\n",
    "for (symptom in new_column_names) {\n",
    "  for (i in 1:num_bins) {\n",
    "      start_age <- custom_start_age + (i - 1) * overlap\n",
    "      end_age <- start_age + bin_width\n",
    "      col_name <- paste0(symptom, \".\", start_age, \".\", end_age)\n",
    "      reshaped_data[col_name] <- ifelse(df2$Age >= start_age & df2$Age < end_age & df2[[symptom]] == 1, 1, 0)\n",
    "  }\n",
    "}\n",
    "\n",
    "grouped_data <- reshaped_data %>%\n",
    "  group_by(DonorID) %>%\n",
    "  summarise(across(where(is.numeric), sum))\n",
    "\n",
    "grouped_data <- grouped_data[, -which(names(grouped_data) == \"Age\")]\n",
    "age_reshaped <- as.data.frame(grouped_data)\n",
    "row.names(age_reshaped) <- age_reshaped$DonorID\n",
    "print(dim(age_reshaped))\n",
    "# head(age_reshaped,10)\n",
    "############################################\n",
    "\n",
    "\n",
    "####### TERUG VANAF DOOD ########\n",
    "# reshaped_data_death <- data.frame(DonorID = df$DonorID, Age = df$Age)\n",
    "# bin_width <- 30\n",
    "# overlap <- 15\n",
    "# max_years_before_death <- max(df$years_before_death)\n",
    "# num_bins <- floor((max_years_before_death - bin_width) / overlap) + 1\n",
    "# for (symptom in attributes) {\n",
    "#   for (i in 1:num_bins) {\n",
    "#     bin_start <- (i - 1) * overlap\n",
    "#     bin_end <- bin_start + bin_width\n",
    "#     col_name <- paste0(symptom, \".\", bin_start, \".\", bin_end,'BD')\n",
    "#     reshaped_data_death[col_name] <- ifelse(df$years_before_death >= bin_start & df$years_before_death < bin_end & df[[symptom]] == 1, 1, 0)\n",
    "#   }\n",
    "# }\n",
    "# grouped_data_death <- reshaped_data_death %>%\n",
    "#   group_by(DonorID) %>%\n",
    "#   summarise(across(where(is.numeric), sum)) \n",
    "# reshaped_data_death <- as.data.frame(grouped_data_death)\n",
    "# row.names(reshaped_data_death) <- reshaped_data_death$DonorID\n",
    "############################################\n",
    "\n",
    "########### combineer age met death #####################\n",
    "# merged_data <- merge(age_reshaped, reshaped_data_death, by = \"DonorID\", all = TRUE)\n",
    "# rownames(merged_data) <- merged_data$DonorID ##set rownames\n",
    "\n"
   ]
  },
  {
   "cell_type": "code",
   "execution_count": null,
   "id": "0e92fb7b-ffe0-476e-aae8-ccfdc6828b8b",
   "metadata": {},
   "outputs": [],
   "source": [
    "# # head(age_reshaped)\n",
    "# # head(mania_metadata)\n",
    "# sum(age_reshaped$Mania.15.45)\n",
    "# mania_inspect <- age_reshaped %>%\n",
    "#   left_join(mania_metadata %>% \n",
    "#               select(DonorID, neuropathological_diagnosis), \n",
    "#             by = \"DonorID\")\n",
    "\n",
    "# # head\n",
    "# result <- mania_inspect %>%\n",
    "#   group_by(neuropathological_diagnosis) %>%\n",
    "#   summarise(total_Mania = sum(Mania.15.45))\n",
    "\n",
    "# # Print the result\n",
    "# result"
   ]
  },
  {
   "cell_type": "code",
   "execution_count": null,
   "id": "ed6fcd04-581b-46dc-a98b-228afd78c33b",
   "metadata": {},
   "outputs": [],
   "source": [
    "########## combineer age met flattened #####################\n",
    "merged_data <- merge(age_reshaped, flattened_data, by = \"DonorID\", all = TRUE)\n",
    "rownames(merged_data) <- merged_data$DonorID ##set rownames\n",
    "\n",
    "########### or not #####################\n",
    "# merged_data <- age_reshaped \n",
    "# merged_data <- flattened_data \n",
    "\n",
    "merged_data$DonorID <- NULL\n",
    "merged_data$Age <-NULL\n",
    "head(merged_data,10)\n",
    "\n",
    "flat_features <- colnames(flattened_data)\n",
    "flat_features <- flat_features[flat_features != \"DonorID\"]\n",
    "# quant_features <- as.character(quant_features)\n",
    "head(flat_features)\n",
    "\n",
    "temp_features <- colnames(age_reshaped)\n",
    "temp_features <- temp_features[temp_features != \"DonorID\"]\n",
    "# quant_features <- as.character(quant_features)\n",
    "head(temp_features)"
   ]
  },
  {
   "cell_type": "code",
   "execution_count": null,
   "id": "8843643c-e188-46ec-aecb-945d8467bd44",
   "metadata": {},
   "outputs": [],
   "source": [
    "flattened_data$DonorID <- NULL\n",
    "flattened_data$Age <-NULL\n",
    "\n",
    "age_reshaped$DonorID <- NULL\n",
    "age_reshaped$Age <-NULL"
   ]
  },
  {
   "cell_type": "code",
   "execution_count": null,
   "id": "397efd4c-8c2e-451e-927a-e3a07f0709eb",
   "metadata": {},
   "outputs": [],
   "source": [
    "dim(flattened_data)\n",
    "dim(age_reshaped)"
   ]
  },
  {
   "cell_type": "code",
   "execution_count": null,
   "id": "490e1084-9dfe-46fc-a99f-8673959d3a10",
   "metadata": {
    "tags": []
   },
   "outputs": [],
   "source": [
    "# hist(merged_data$`Dementia.60.90`)\n",
    "# most_observations <- names(colSums(merged_data))[which.max(colSums(merged_data))]\n",
    "# print(most_observations)\n",
    "# hist(merged_data[[most_observations]],main=most_observations)\n",
    "\n",
    "most_observations_flattened <- names(colSums(flattened_data))[which.max(colSums(flattened_data))]\n",
    "print(most_observations_flattened)\n",
    "hist(flattened_data[[most_observations_flattened]],main=most_observations_flattened)\n",
    "\n",
    "most_observations_temporal <- names(colSums(age_reshaped))[which.max(colSums(age_reshaped))]\n",
    "print(most_observations_temporal)\n",
    "hist(age_reshaped[[most_observations_temporal]],main=most_observations_temporal)"
   ]
  },
  {
   "cell_type": "markdown",
   "id": "dfebd3ff-cc1b-49d6-8bfe-03b9d90c7a9a",
   "metadata": {},
   "source": [
    "#### correlation analysis"
   ]
  },
  {
   "cell_type": "code",
   "execution_count": null,
   "id": "068e614a-9397-4274-9b62-a452bbe0bfe5",
   "metadata": {},
   "outputs": [],
   "source": [
    "# colnames(flattened_data)"
   ]
  },
  {
   "cell_type": "code",
   "execution_count": null,
   "id": "1a6bd6c7-9eff-4f6a-8638-a26c4d0dde31",
   "metadata": {
    "tags": []
   },
   "outputs": [],
   "source": [
    "# foo <- c('Mobility-problems','Rigidity','Vertigo','Dementia','Cognitive-decline','Bradyphrenia','Admission-to-nursing-home')\n",
    "\n",
    "# for (symptom in foo) {\n",
    "#   # Get the columns corresponding to the current symptom\n",
    "#   columns <- age_reshaped[grep(paste0(\"^\", symptom), names(age_reshaped))]\n",
    "  \n",
    "#   # Calculate correlations and p-values\n",
    "#   cor_p_values <- sapply(columns, function(column) {\n",
    "#     cor_test_result <- cor.test(flattened_data$Dementia, column)\n",
    "#     return(list(correlation = cor_test_result$estimate, p_value = cor_test_result$p.value))\n",
    "#   })\n",
    "  \n",
    "#   correlations <- cor_p_values[1, ]\n",
    "#   p_values <- cor_p_values[2, ]\n",
    "  \n",
    "#   # Take the log of p_values\n",
    "#   log_p_values <- log10(as.numeric(p_values))\n",
    "  \n",
    "#   # Create a data frame for the current symptom\n",
    "#   correlation_df <- data.frame(cor = unlist(correlations), p = unlist(log_p_values))\n",
    "#   rownames(correlation_df) <- gsub(\"cor$\", \"\", rownames(correlation_df))\n",
    "#   # print(correlation_df)\n",
    "#   # Plot for the current symptom\n",
    "#   library(ggplot2)\n",
    "#   plot <- ggplot(correlation_df, aes(x = cor, y = p)) +\n",
    "#     geom_point() +\n",
    "#     geom_errorbar(aes(ymin = p, ymax = p)) +\n",
    "#     geom_text(aes(label = rownames(correlation_df)), vjust = -0.5, hjust = 0.5) +  # Add symptom names as labels\n",
    "#     xlab(\"Correlation\") +\n",
    "#     ylab(\"log10 p-value\") +\n",
    "#     theme_minimal() +\n",
    "#     ggtitle(paste(\"Correlation vs. log10 p-value for\", symptom))\n",
    "  \n",
    "#   # Print the plot\n",
    "#   print(plot)\n",
    "# }"
   ]
  },
  {
   "cell_type": "markdown",
   "id": "6e9eeb51-309f-43a2-8dfe-647e05b33250",
   "metadata": {},
   "source": [
    "#### symptom (gene) metadata"
   ]
  },
  {
   "cell_type": "code",
   "execution_count": null,
   "id": "823292b3-fcd9-4de9-9211-2157b2e92b9f",
   "metadata": {},
   "outputs": [],
   "source": [
    "merged_data = t(merged_data)\n",
    "flattened_data = t(flattened_data)\n",
    "age_reshaped = t(age_reshaped)\n",
    "# symptom_metadata <- data.frame(gene_short_name = rownames(merged_data))\n",
    "# rownames(symptom_metadata) <- rownames(merged_data)\n",
    "# head(symptom_metadata)"
   ]
  },
  {
   "cell_type": "code",
   "execution_count": null,
   "id": "329cfdbc-257a-450c-bbbd-a0c0e8c4f71b",
   "metadata": {},
   "outputs": [],
   "source": [
    "dim(flattened_data)\n",
    "dim(age_reshaped)"
   ]
  },
  {
   "cell_type": "markdown",
   "id": "fc6df020-3dc2-4076-997c-f208792a676b",
   "metadata": {},
   "source": [
    "#### seurat\n",
    "\n",
    "- Data structure creation: <br>\n",
    "  It creates a new Seurat object and initializes its data structure to \n",
    "  store the symptombin observation data and donor metadata\n",
    "\n",
    "- Count matrix assignment: <br>\n",
    "  It assigns the symptombin observation counts to the Seurat object.<br>\n",
    "\n",
    "- Quality control (QC): <br>\n",
    "  It performs basic QC checks on the input data, such as filtering out donors with low quality or low symptombin observation counts. <br>\n",
    "  The min.cells and min.features arguments you provide specify the minimum number of donors and symptombins required for a donor to be included in the analysis.\n",
    "\n",
    "- Normalization: <br>\n",
    "  It applies normalization methods to the count matrix to account for differences in sequencing depth and other technical factors. <br>\n",
    "  The specific normalization method used depends on the default settings or any additional arguments you provide. we will do this in a later step to keep track\n",
    "\n",
    "- Feature selection: <br>\n",
    "  It may perform feature selection or gene filtering to focus on the most informative genes for downstream analysis.<br>\n",
    "  This step helps reduce noise and dimensionality in the dataset.\n",
    "\n",
    "- Metadata assignment:<br>\n",
    "  It sets up the initial metadata slots in the Seurat object, including information about the project, cell attributes, and other relevant annotations. <br>\n",
    "  You can subsequently add or modify metadata using the provided accessors and assignment operators.\n"
   ]
  },
  {
   "cell_type": "code",
   "execution_count": null,
   "id": "34a05e23-7ae5-4fd3-85b2-1386bc5cc4ea",
   "metadata": {},
   "outputs": [],
   "source": [
    "# ## min.cells: \n",
    "# ## Include features detected in at least this many cells.\n",
    "# ## e.g. includes symptombins that are detected in at least 5 donors (if a symptombin is even rarer, it might not be relevant)\n",
    "\n",
    "# ## min.features: \n",
    "# ## Include cells where at least this many features are detected.\n",
    "# ## e.g. includes donors where at least 1 features are detected (control donors might have zero features,\n",
    "# ## but if a donor has zero features, we dont know where to cluster them!)\n",
    "# flattened_seurat <- CreateSeuratObject(counts = flattened_data, project = \"NND\", min.cells = 5, min.features = 1)\n",
    "# flattened_seurat <- preprocess_seurat_object(flattened_seurat,meta_data)\n",
    "# ## flattened has a donor that temporal doenst have, we remove this one\n",
    "# toRemove <- c('NBB 1998-116')\n",
    "# flattened_seurat <- flattened_seurat[,!colnames(flattened_seurat) %in% toRemove]\n",
    "# # flattened_seurat\n",
    "# flattened_seurat"
   ]
  },
  {
   "cell_type": "code",
   "execution_count": null,
   "id": "789c0e76-e2af-4b5e-823c-a86d89fc129c",
   "metadata": {},
   "outputs": [],
   "source": [
    "# temporal_seurat <- CreateSeuratObject(counts = age_reshaped, project = \"NND\", min.cells = 5, min.features = 1)\n",
    "# temporal_seurat <- preprocess_seurat_object(temporal_seurat,meta_data)\n",
    "# temporal_seurat"
   ]
  },
  {
   "cell_type": "markdown",
   "id": "24adb4c2-67a6-4568-aa1c-7fb28606860c",
   "metadata": {},
   "source": [
    "## merge assays for multimodel"
   ]
  },
  {
   "cell_type": "code",
   "execution_count": null,
   "id": "d5b079bd-0324-4a90-8dd5-9570a16a930d",
   "metadata": {},
   "outputs": [],
   "source": [
    "merged_seurat <- CreateSeuratObject(counts = flattened_data, project = \"NND\", min.cells = 5, min.features = 1,assay='FLAT')\n",
    "# merged_seurat <- merged_seurat[,!colnames(merged_seurat) %in% toRemove]\n",
    "Assays(merged_seurat)\n",
    "merged_seurat\n",
    "dim(merged_seurat@meta.data)"
   ]
  },
  {
   "cell_type": "code",
   "execution_count": null,
   "id": "a35c4104-733e-43ea-9063-6623444d5c30",
   "metadata": {},
   "outputs": [],
   "source": [
    "temporal_assay <- CreateAssayObject(counts = age_reshaped, min.cells = 5, min.features = 1)\n",
    "temporal_assay\n",
    "\n",
    "# !colnames(merged_seurat) %in% colnames(temporal_assay)\n",
    "toRemove <-  colnames(merged_seurat) [!colnames(merged_seurat) %in% colnames(temporal_assay)]\n",
    "toRemove\n"
   ]
  },
  {
   "cell_type": "code",
   "execution_count": null,
   "id": "a0ecec6e-f2b9-4bc5-a147-20a64e514503",
   "metadata": {},
   "outputs": [],
   "source": [
    "merged_seurat <- merged_seurat[,!colnames(merged_seurat) %in% toRemove]\n",
    "merged_seurat[[\"TEMP\"]] <- temporal_assay\n",
    "############# FUNCTION: ADDS METADATA ###############################\n",
    "merged_seurat <- preprocess_seurat_object(merged_seurat,meta_data)\n",
    "dim(merged_seurat@meta.data)"
   ]
  },
  {
   "cell_type": "code",
   "execution_count": null,
   "id": "6c2d4160-f86f-4c21-8e8f-611634e9e587",
   "metadata": {},
   "outputs": [],
   "source": [
    "head(merged_seurat@meta.data)"
   ]
  },
  {
   "cell_type": "code",
   "execution_count": null,
   "id": "a91849fa-e1a5-44a6-8357-884d4bbfb095",
   "metadata": {},
   "outputs": [],
   "source": [
    "# meta_data[match(names(merged_seurat$orig.ident), rownames(meta_data)),'FTD']\n",
    "# meta_data[match(names(merged_seurat$orig.ident), rownames(meta_data)),'FTD']\n",
    "# seurat_object[['FTD_PRS']] <- meta_data[match(names(seurat_object$orig.ident), rownames(meta_data)),'FTD']\n",
    "# ad_diagnosis_quality <- ifelse(meta_data$neuropathological_diagnosis == \"AD\" & meta_data$wrong_diagnosis == 1, 1, 0)\n",
    "# # merged_seurat[[\"AD_diagnosis_quality\"]] <- ad_diagnosis_quality"
   ]
  },
  {
   "cell_type": "code",
   "execution_count": null,
   "id": "7bd3ef4f-54f1-4f40-8158-268eaea22d61",
   "metadata": {
    "tags": []
   },
   "outputs": [],
   "source": [
    "### i cant get the jackstraw to work on the TEMP assay when merged, here ill do it solo first, to get a feel for good parameters\n",
    "# temp <- CreateSeuratObject(counts = age_reshaped, min.cells = 5, min.features = 1,assay='TEMP')\n",
    "# all.symptombins <- rownames(temp[[\"TEMP\"]])\n",
    "# temp <- preprocess_seurat_object(temp,meta_data)\n",
    "# temp <- NormalizeData(temp,normalization.method = \"LogNormalize\", scale.factor = 100)\n",
    "# temp <- ScaleData(temp, features = all.symptombins,do.center = TRUE,scale.max = 10, model.use = \"linear\")\n",
    "# temp <- FindVariableFeatures(temp, selection.method = \"vst\", nfeatures = 1500)\n",
    "# temp <- perform_pca_and_visualization(temp,rname='pca')\n",
    "# print(ElbowPlot(temp,reduction='pca'))\n",
    "# temp <- JackStraw(temp, num.replicate = 100,assay='TEMP')\n",
    "# temp <- ScoreJackStraw(temp, dims = 1:20)\n",
    "# print(JackStrawPlot(temp, dims = 1:20))"
   ]
  },
  {
   "cell_type": "code",
   "execution_count": null,
   "id": "b0a23180-4bb6-441a-a31b-7ab8b33bb6c1",
   "metadata": {
    "tags": []
   },
   "outputs": [],
   "source": [
    "DefaultAssay(merged_seurat) <- 'FLAT'\n",
    "all.symptombins <- rownames(merged_seurat[[\"FLAT\"]])\n",
    "merged_seurat <- NormalizeData(merged_seurat,normalization.method = \"LogNormalize\", scale.factor = 100)\n",
    "merged_seurat <- ScaleData(merged_seurat, features = all.symptombins,do.center = TRUE,scale.max = 10, model.use = \"linear\")\n",
    "merged_seurat <- FindVariableFeatures(merged_seurat, selection.method = \"vst\", nfeatures = 1500)\n",
    "\n",
    "############ FUNCTION TO DO PCA ##############################\n",
    "merged_seurat <- perform_pca_and_visualization(merged_seurat,rname='pca')\n",
    "\n",
    "print(ElbowPlot(merged_seurat,reduction='pca'))\n",
    "merged_seurat <- JackStraw(merged_seurat, num.replicate = 100,assay='FLAT')\n",
    "merged_seurat <- ScoreJackStraw(merged_seurat, dims = 1:20)\n",
    "print(JackStrawPlot(merged_seurat, dims = 1:20))"
   ]
  },
  {
   "cell_type": "code",
   "execution_count": null,
   "id": "bfb8c532-f237-4a77-b3b9-53222e3cff6e",
   "metadata": {
    "tags": []
   },
   "outputs": [],
   "source": [
    "DefaultAssay(merged_seurat) <- 'TEMP'\n",
    "all.symptombins <- rownames(merged_seurat[[\"TEMP\"]])\n",
    "merged_seurat <- NormalizeData(merged_seurat,normalization.method = \"LogNormalize\", scale.factor = 100)\n",
    "merged_seurat <- ScaleData(merged_seurat, features = all.symptombins,do.center = TRUE,scale.max = 10, model.use = \"linear\")\n",
    "merged_seurat <- FindVariableFeatures(merged_seurat, selection.method = \"vst\", nfeatures = 1500)\n",
    "\n",
    "############ FUNCTION TO DO PCA ##############################\n",
    "merged_seurat <- perform_pca_and_visualization(merged_seurat,rname='apca')\n",
    "\n",
    "print(ElbowPlot(merged_seurat,reduction='apca'))"
   ]
  },
  {
   "cell_type": "code",
   "execution_count": null,
   "id": "1570ce86-b3ad-4732-8d0f-ce6bdb95c1eb",
   "metadata": {},
   "outputs": [],
   "source": [
    "merged_seurat\n",
    "merged_seurat[['pca']]@assay.used\n",
    "merged_seurat[['apca']]@assay.used"
   ]
  },
  {
   "cell_type": "code",
   "execution_count": null,
   "id": "16d2c13e-640d-4a30-a4a9-c074a1df0ae1",
   "metadata": {
    "tags": []
   },
   "outputs": [],
   "source": [
    "merged_seurat <- FindMultiModalNeighbors(\n",
    "    merged_seurat,\n",
    "    k.nn = 20,\n",
    "    reduction.list = list(\"pca\", \"apca\"),\n",
    "    dims.list = list(1:10, 1:30),\n",
    "    modality.weight.name = list(\"FLAT.weight\",\"TEMP.weight\")\n",
    ")\n",
    "\n",
    "## integrates multiple modalities, finds the nearest neighbor based on these\n",
    "## dims.list: which dimensions to use for each reduction\n",
    "## k.nn : how many multimodel neighbors. currently at 20\n",
    "## more: smaller, more distinct clusters, good for fine-grained subpopulations!. robuster. might also break down larger, biologically meaningful clusters\n",
    "## less: faster, less overfitting (noisy donors become clusters?)\n",
    "## modality.weight.name Variable name to store modality weight in object meta data\n",
    "\n",
    "## uf you want to access the multimodal neighbors. info:\n",
    "# head(merged_seurat@meta.data)\n",
    "str(merged_seurat[['weighted.nn']])\n",
    "## nn.idx represents the indices of the nearest neighbors for each donor\n",
    "## can be accessed with:\n",
    "#slot(merged_seurat$weighted.nn, \"nn.idx\")\n",
    "## nn.dist has the distances of each donor to each nearest neigbor\n",
    "\n",
    "## acces the WNN graph (weighted)\n",
    "# merged_seurat[[\"wknn\"]]\n",
    "## this is the weighted nearest neighbour graph: for each cell, this graph denotes the most similar cells in the dataset\n",
    "## learns the relative utility of each data type in each cell,\n",
    "## this is used for the UMAP/clustering. can also be used for the identification of developmental trajectories!\n",
    "\n",
    "## SNN graph used for clustering (shared)\n",
    "# merged_seurat[[\"wsnn\"]]\n",
    "\n",
    "## Donor-specific modality weights can be accessed at \n",
    "# merged_seurat$FLAT.weight"
   ]
  },
  {
   "cell_type": "code",
   "execution_count": null,
   "id": "2a096f31-280f-405c-9f57-75d17deae10a",
   "metadata": {},
   "outputs": [],
   "source": [
    "dim(merged_seurat@meta.data)"
   ]
  },
  {
   "cell_type": "code",
   "execution_count": null,
   "id": "75fde470-e94f-4154-9c47-4fb452455e50",
   "metadata": {
    "tags": []
   },
   "outputs": [],
   "source": [
    "merged_seurat <- RunUMAP(merged_seurat,\n",
    "                         # dims = 1:15,\n",
    "                         nn.name = \"weighted.nn\",\n",
    "                         reduction.name = \"wnn.umap\",\n",
    "                         reduction.key = \"wnnUMAP_\")\n",
    "\n",
    "## nn.name Name of knn output on which to run UMAP. here we take the info from the neighbors slot\n",
    "## reduction.name Name to store dimensional reduction under in the Seurat object. in this case umap ON the wnn\n",
    "## note you know have 3, pca for FLAT, apca for TEMP, wnn.umap for the merged\n",
    "# str(merged_seurat)\n",
    "# str(merged_seurat@reductions$wnn.umap)"
   ]
  },
  {
   "cell_type": "code",
   "execution_count": null,
   "id": "d2d66ae5-405c-409d-8681-756b79958f5a",
   "metadata": {},
   "outputs": [],
   "source": [
    "merged_seurat <- FindClusters(merged_seurat,\n",
    "                              resolution = 0.5,\n",
    "                              graph.name = \"wsnn\",\n",
    "                              algorithm = 3,\n",
    "                              verbose = TRUE)"
   ]
  },
  {
   "cell_type": "code",
   "execution_count": null,
   "id": "e6ebfb05-7d34-460a-8056-0720f9bc8f20",
   "metadata": {},
   "outputs": [],
   "source": [
    "# head(merged_seurat@meta.data)"
   ]
  },
  {
   "cell_type": "code",
   "execution_count": null,
   "id": "a4fcee34-d505-451f-980d-c4dac92797d8",
   "metadata": {},
   "outputs": [],
   "source": [
    "w = 10\n",
    "h = 7.5\n",
    "options(repr.plot.width = w, repr.plot.height = h)\n",
    "pticksize = 40\n",
    "p1 <- DimPlot(merged_seurat, reduction = 'wnn.umap', label = FALSE, repel = TRUE, pt.size=2.5, label.size = 10, cols=\"Dark2\",shuffle=TRUE,na.value=2) \n",
    "p2 <- DimPlot(merged_seurat, reduction = 'wnn.umap', group.by = 'Age', label = TRUE, repel = TRUE, label.size = 2.5) \n",
    "####### simplified fiagnosis: merged diagnoses together into simpler broad categories\n",
    "p3 <- DimPlot(merged_seurat, reduction = 'wnn.umap', group.by = 'simplified_diagnosis', label = FALSE,\n",
    "              raster = NULL,shape.by = 'clin_coherence',pt.size=2.5,shuffle=TRUE,seed=3,label.box=FALSE,\n",
    "              repel = TRUE, label.size = 4,cols=diagnosis_colors) #diagnosis_colors\n",
    "p1 <- p1  + theme(axis.title.x = element_text(size = pticksize),\n",
    "            axis.title.y = element_text(size = pticksize),\n",
    "            # legend.text = element_text(size = pticksize),\n",
    "                  legend.position = \"none\",\n",
    "            axis.text.x = element_text(size = pticksize),\n",
    "           axis.text.y = element_text(size = pticksize))+ coord_cartesian(xlim = c(-8, 7), ylim = c(-5, 7))\n",
    "p3 <- p3 + theme(axis.title.x = element_text(size = pticksize),\n",
    "           axis.title.y = element_text(size = pticksize),\n",
    "                 # legend.position = \"none\",\n",
    "           # legend.text = element_text(size = pticksize),\n",
    "           axis.text.x = element_text(size = pticksize),\n",
    "           axis.text.y = element_text(size = pticksize))+ coord_cartesian(xlim = c(-8,7), ylim = c(-5, 7))\n",
    "p1\n",
    "p3\n",
    "# Save p1 to a PDF file\n",
    "ggsave(\"/home/jupyter-n.mekkes@gmail.com-f6d87/clinical_history/final_predictions/figures/seurat/main/dimplot_main_cluster.pdf\", plot = p1, width = w, height = h,dpi=300)\n",
    "\n",
    "# Save p3 to a PDF file\n",
    "ggsave(\"/home/jupyter-n.mekkes@gmail.com-f6d87/clinical_history/final_predictions/figures/seurat/main/dimplot_main_diagnosis.pdf\", plot = p3, width = w, height = h,dpi=300)"
   ]
  },
  {
   "cell_type": "code",
   "execution_count": null,
   "id": "1270b3d6-4646-454b-80a3-1f6a9075d513",
   "metadata": {},
   "outputs": [],
   "source": [
    "library(ggplot2)\n",
    "library(ggforce)\n",
    "unique_diagnoses <- unique(merged_seurat$simplified_diagnosis)\n",
    "unique_diagnoses\n",
    "unique_diagnoses <- c('AD','CON','MS','FTD','PD','PSYCH','MND','MSA','PSP','other_dem','DLB','ATAXIA')\n",
    "options(repr.plot.width = w, repr.plot.height = h)\n",
    "############### FUNCTION TO MAKE A DIMPLOT WITH CIRCLES AROUND DIAGNOSES OF INTEREST #######\n",
    "## returns a plot and a list of donorids for each diagnosis that are 'outside' the circle\n",
    "returns <- generate_dim_plot(merged_seurat, unique_diagnoses,diag='simplified_diagnosis',p3)\n",
    "returns[[2]]\n",
    "ggsave(\"/home/jupyter-n.mekkes@gmail.com-f6d87/clinical_history/final_predictions/figures/seurat/main/dimplot_main_diagnosis.pdf\", plot = returns[[2]], width = w, height = h,dpi=300)\n",
    "\n",
    "# unique_diagnoses <- c('other_dem','VD','DLB','ATAXIA')\n",
    "# unique_diagnoses <- unique(merged_seurat$simplified_diagnosis)\n",
    "# returns <- generate_dim_plot(merged_seurat, unique_diagnoses,diag='simplified_diagnosis',p3)          \n",
    "# returns[[2]]"
   ]
  },
  {
   "cell_type": "code",
   "execution_count": null,
   "id": "7b049667-cd47-4061-8abe-ea5493e44db9",
   "metadata": {},
   "outputs": [],
   "source": [
    "rownames(table(merged_seurat@meta.data$simplified_diagnosis))"
   ]
  },
  {
   "cell_type": "code",
   "execution_count": null,
   "id": "5e9a817c-f6cb-4ab8-84e3-911f3bf03105",
   "metadata": {
    "tags": []
   },
   "outputs": [],
   "source": [
    "library(tidyverse)\n",
    "options(repr.plot.width = 8, repr.plot.height = 10)\n",
    "# barplotset <- RenameIdents(object = merged_seurat,\"0\" = \"AD\",\"1\" = \"PD\",\"2\" = \"AD/FTD\",\"3\" = \"CONTROL\",\"4\" = \"MS\", \"5\" = \"PSYCH\")\n",
    "options(repr.plot.width = 12, repr.plot.height = 12)\n",
    "# p_values_df <- calculate_p_values(merged_seurat,diagnosis_column=\"simplified_diagnosis\")\n",
    "# corrected_p_values_df <- p_values_df %>%\n",
    "#   mutate(across(everything(), ~ p.adjust(.x, method = \"BH\")))\n",
    "# unique(rownames(corrected_p_values_df))\n",
    "# plot <- plot_cluster_diagnosis(merged_seurat,corrected_p_values_df,diagnosis_column=\"simplified_diagnosis\")\n",
    "# head(p_values_df)\n",
    "# plot\n",
    "# 'AD','CON','MS','FTD','PD','PSYCH','MND','MSA'\n",
    "# variables_to_loop <- c(\"model_and_clinic1\",\"model_and_clinic2\",\"model_and_clinic3\",\"model_and_clinic4\", \"clin1\", \"clin2\")#,\n",
    "###### FUNCTION THAT LOOKS FOR OVERREPRESENTATION OF DIAGNOSES\n",
    "diagnoses <- c('AD','FTD','MS','ATAXIA','DLB','MSA','PD','MND','PSP','CON','VD','PSYCH','other_dem')\n",
    "diagnoses <- rownames(table(merged_seurat@meta.data$simplified_diagnosis))\n",
    "print(diagnoses)\n",
    "known_clin_diag <- c('AD','FTD','MS','ATAXIA','DLB','MSA','PD','MND','PSP','CON','VD')\n",
    "# diagnoses <- c('MS')\n",
    "p_values <- calculate_p_values_diag(merged_seurat,diagnosis_column = \"simplified_diagnosis\",variable_to_loop='clin_coherence',diagnoses,known_clin_diag,verbose=FALSE)\n",
    "# p_values_df_diag\n",
    "\n",
    "p_values_diagnoses <- p_values$p_values\n",
    "p_values_coherence <- p_values$p_values_diag\n",
    "\n",
    "p_values_diagnoses <- p_values_diagnoses %>%\n",
    "  spread(key = Cluster, value = P_Value)\n",
    "rownames(p_values_diagnoses) <- p_values_diagnoses$Diagnosis\n",
    "p_values_diagnoses <- p_values_diagnoses[, -1]\n",
    "# print(p_values_diagnoses)\n",
    "p_values_diagnoses <- p_values_diagnoses %>%\n",
    "  mutate(across(everything(), ~ p.adjust(.x, method = \"BH\")))\n",
    "p_values_diagnoses\n",
    "\n",
    "p_values_coherence <- p_values_coherence %>%\n",
    "  spread(key = Cluster, value = P_Value)\n",
    "rownames(p_values_coherence) <- p_values_coherence$Diagnosis\n",
    "p_values_coherence <- p_values_coherence[, -1]\n",
    "# print(p_values_coherence)\n",
    "p_values_coherence <- p_values_coherence %>%\n",
    "  mutate(across(everything(), ~ p.adjust(.x, method = \"BH\")))\n",
    "p_values_coherence\n",
    "\n",
    "\n",
    "\n",
    "identitybars <- plot_cluster_diagnosis_diag(merged_seurat,p_values_diagnoses,diagnosis_column = \"simplified_diagnosis\",color='white',p_values_coherence)     \n",
    "identitybars <- identitybars + theme(axis.title.x = element_text(size = 24),\n",
    "           axis.title.y = element_text(size = 24),\n",
    "           legend.text = element_text(size = 24),\n",
    "           axis.text.x = element_text(size = 24),\n",
    "           axis.text.y = element_text(size = 24))#+ coord_cartesian(xlim = c(-6, 6), ylim = c(-6, 6))\n",
    "identitybars\n",
    "ggsave(\"/home/jupyter-n.mekkes@gmail.com-f6d87/clinical_history/final_predictions/figures/seurat/main/identitybars_main_cluster.pdf\", plot = identitybars, width = 15, height = 15,dpi=300)\n",
    "\n"
   ]
  },
  {
   "cell_type": "code",
   "execution_count": null,
   "id": "74dc5da8-8b76-4668-831d-ce09fd437a2e",
   "metadata": {},
   "outputs": [],
   "source": [
    "library(ggsignif)\n",
    "library(ggpubr)\n",
    "options(repr.plot.width = 7, repr.plot.height = 6)\n",
    "mainage <- VlnPlot(\n",
    "  object = merged_seurat,\n",
    "  features = 'Age',\n",
    "  pt.size=0,  \n",
    "  split.by='sex',\n",
    "  split.plot=TRUE,\n",
    "  cols = c('#4682B4', '#FF8C00')  \n",
    "  # group.by = 'seurat_clusters',\n",
    "  # cols = viridis(length(unique(merged_cog$seurat_clusters)), option = 'D'),\n",
    "  )\n",
    "\n",
    "# VlnPlot(\n",
    "#   object = merged_seurat,\n",
    "#   features = 'File',\n",
    "#   # group.by = 'seurat_clusters',\n",
    "#   # cols = viridis(length(unique(merged_cog$seurat_clusters)), option = 'D'),\n",
    "#   pt.size = 0\n",
    "# )\n",
    "\n",
    "mainage <- mainage + theme(axis.title.x = element_text(size = 24),\n",
    "           axis.title.y = element_text(size = 24),\n",
    "           legend.text = element_text(size = 24),\n",
    "           axis.text.x = element_text(size = 24),\n",
    "           axis.text.y = element_text(size = 24)) \n",
    "mainage \n",
    "ggsave(\"/home/jupyter-n.mekkes@gmail.com-f6d87/clinical_history/final_predictions/figures/seurat/main/age_main_cluster.pdf\", plot = mainage, width = 15, height = 15,dpi=300)\n"
   ]
  },
  {
   "cell_type": "code",
   "execution_count": null,
   "id": "662ef79a-056a-49e9-a5eb-787c3a1520ae",
   "metadata": {},
   "outputs": [],
   "source": [
    "## save the results of findmarkers (with the old names for now))\n",
    "library(openxlsx)\n",
    "options(repr.plot.width = 10, repr.plot.height = 12)\n",
    "\n",
    "# DefaultAssay(merged_seurat) <- 'FLAT'\n",
    "extended_cluster_markers_flat = find_extended_cluster_markers(merged_seurat,0.05,method='all',assay='FLAT',verbose=FALSE) \n",
    "# filtered_df <- extended_cluster_markers_flat %>%\n",
    "#   filter(cluster == \"3\" & p_val_adj < 0.05 &(pct.2-pct.1 <0) & avg_log2FC >0)\n",
    "# head(filtered_df,50)\n",
    "\n",
    "DefaultAssay(merged_seurat) <- 'TEMP'\n",
    "extended_cluster_markers_temp = find_extended_cluster_markers(merged_seurat,0.05,method='all',assay='TEMP',verbose=FALSE) \n",
    "# filtered_df <- extended_cluster_markers_temp %>%\n",
    "#   filter(cluster == \"5\" & avg_log2FC > 0&p_val_adj < 0.05&(pct.2-pct.1 <0))\n",
    "# dim(filtered_df)\n",
    "# filtered_df$marker\n",
    "\n",
    "# filtered_df <- filtered_df[filtered_df$p_val_adj < 0.05, ]\n",
    "# filtered_df <- filtered_df %>%\n",
    "#   mutate(marker = gsub(\"\\\\.|\\\\d\", \"\", marker)) %>%\n",
    "#   pull(marker)\n",
    "# unique(filtered_df)\n",
    "\n",
    "# # ## saving alle markers\n",
    "file_path <- \"/home/jupyter-n.mekkes@gmail.com-f6d87/clinical_analysis/clustermarkers/\"\n",
    "file_name_flat <- \"mainclustermarkerflattened.xlsx\"\n",
    "file_name_temp <- \"mainclustermarkertemporal.xlsx\"\n",
    "flat_path <- paste0(file_path, file_name_flat)\n",
    "temp_path <- paste0(file_path, file_name_temp)\n",
    "write.xlsx(extended_cluster_markers_flat, flat_path, row.names = FALSE)\n",
    "write.xlsx(extended_cluster_markers_temp, temp_path, row.names = FALSE)"
   ]
  },
  {
   "cell_type": "code",
   "execution_count": null,
   "id": "77ba3def-5564-4da1-911c-6f8867b1efdc",
   "metadata": {
    "tags": []
   },
   "outputs": [],
   "source": [
    "returns <- create_marker_df(extended_cluster_markers_temp, extended_cluster_markers_flat, sup3)\n",
    "w=8\n",
    "h=10\n",
    "combined_marker_list <- returns[[1]]\n",
    "combined_marker_list\n",
    "# # combined_marker_list\n",
    "annotation_df <- returns[[2]]\n",
    "# annotation_df\n",
    "inge_markers <- annotation_df[annotation_df$Domain %in% c(\"Cognitive\", \"Psychiatric\",\"General\"), ]$ITname\n",
    "# inge_markers\n",
    "savepath_main = \"/home/jupyter-n.mekkes@gmail.com-f6d87/clinical_history/final_predictions/figures/seurat/main/heatmap_main_cluster.pdf\"\n",
    "returns <- generate_heatmap_plot(merged_seurat,assay='FLAT', combined_marker_list, annotation_df,6,savepath=savepath_main)\n",
    "mainmarkers <- \"/home/jupyter-n.mekkes@gmail.com-f6d87/clinical_analysis/clustermarkers/combined_mainmarkers.txt\"\n",
    "writeLines(returns, con = mainmarkers)\n",
    "returns"
   ]
  },
  {
   "cell_type": "code",
   "execution_count": null,
   "id": "7b459162-557a-4f93-a299-5782590fb605",
   "metadata": {},
   "outputs": [],
   "source": [
    "# head(merged_seurat@meta.data)\n",
    "cluster_df <- data.frame(DonorID = rownames(merged_seurat@meta.data), seurat_clusters = merged_seurat@meta.data$seurat_clusters)\n",
    "# head(df2)\n",
    "seurat_clusters <- merge(df, cluster_df, by = \"DonorID\", all.x = TRUE)\n",
    "\n",
    "tail(seurat_clusters)\n",
    "write.csv(seurat_clusters, file = '/home/jupyter-n.mekkes@gmail.com-f6d87/clinical_analysis/data/seurat_output.csv', row.names = FALSE)\n"
   ]
  },
  {
   "cell_type": "code",
   "execution_count": null,
   "id": "012258d4-54e2-4f96-9e37-57886ec10981",
   "metadata": {},
   "outputs": [],
   "source": [
    "# head(merged_seurat@meta.data)\n",
    "colnames(merged_seurat@meta.data)\n",
    "dim(merged_seurat@meta.data[(merged_seurat@meta.data[['model_and_clinic3']]=='non-coherent' & merged_seurat@meta.data[['simplified_diagnosis']]=='AD'), ])\n"
   ]
  },
  {
   "cell_type": "code",
   "execution_count": null,
   "id": "7630f2b5-c4a1-49fd-b195-7050d1ef4b25",
   "metadata": {},
   "outputs": [],
   "source": [
    "print(table(merged_seurat@meta.data$APOE))\n",
    "\n",
    "apoe <- data.frame(DonorID = rownames(merged_seurat@meta.data),\n",
    "                    seurat_clusters = merged_seurat@meta.data$seurat_clusters,\n",
    "                    diagnosis = merged_seurat@meta.data[['simplified_diagnosis']],\n",
    "                    quality =   merged_seurat@meta.data[['clin_coherence']],\n",
    "                    apoe = merged_seurat@meta.data[['APOE']]\n",
    ")    \n",
    "head(apoe)\n",
    "\n",
    "apoe2 <- apoe %>%\n",
    "    group_by(seurat_clusters) %>%\n",
    "      summarize(\n",
    "        apoe_44 = sum(!is.na(apoe) & apoe == 44),\n",
    "        total_donors = sum(!is.na(apoe))\n",
    "      ) %>%\n",
    "      mutate(percentage_apoe_44 = (apoe_44 / total_donors) * 100)\n",
    "\n",
    "\n",
    "apoe2 <- apoe %>%\n",
    "  filter(diagnosis == \"AD\") %>%\n",
    "  group_by(seurat_clusters) %>%\n",
    "  # filter(seurat_clusters %in% c( 2, 3)) %>%\n",
    "  summarize(\n",
    "        apoe_44 = sum(!is.na(apoe) & apoe == 44),\n",
    "        total_donors = sum(!is.na(apoe))\n",
    "      ) %>%\n",
    "  mutate(percentage_apoe_44 = (apoe_44 / total_donors) * 100)\n",
    "\n",
    "\n",
    "print(apoe2)\n",
    "\n",
    "clusters <- unique(apoe2$seurat_clusters)\n",
    "p_values <- data.frame(Cluster = integer(), P_Value = numeric(), EST_OR = numeric())\n",
    "for (cluster in clusters) {\n",
    "  sub_df <- apoe2[apoe2$seurat_clusters == cluster, ]\n",
    "  apoe_44_current <- sub_df$apoe_44\n",
    "  apoe_44_other <- sum(apoe2$apoe_44) - apoe_44_current\n",
    "  total_current <- sub_df$total_donors - apoe_44_current\n",
    "  total_other <- sum(apoe2$total_donors) - total_current\n",
    "    \n",
    "  contingency_table <- matrix(c(apoe_44_current, apoe_44_other, total_current, total_other), nrow = 2)\n",
    "  print(contingency_table)\n",
    "  test_result <- fisher.test(contingency_table, alternative = \"two.sided\")\n",
    "  # test_result <- chisq.test(contingency_table,y=NULL)  \n",
    "    \n",
    "  # print(test_result)  \n",
    "  # print(test_result$estimate)    \n",
    "  p_values <- rbind(p_values, data.frame(Cluster = cluster, P_Value = test_result$p.value, EST_OR = test_result$estimate))  \n",
    "}\n",
    "\n",
    "p_values$bh_corrected <- p.adjust(p_values$P_Value, method = \"fdr\")\n",
    "print(p_values) \n"
   ]
  },
  {
   "cell_type": "code",
   "execution_count": null,
   "id": "935fbb41-572f-4130-9cdf-66361bd0ace2",
   "metadata": {},
   "outputs": [],
   "source": [
    "c044 <- apoe2$apoe_44[apoe2$seurat_clusters == 0]\n",
    "c344 <- apoe2$apoe_44[apoe2$seurat_clusters == 2]\n",
    "c0t <- apoe2$total_donors[apoe2$seurat_clusters == 0] - c044\n",
    "c3t <- apoe2$total_donors[apoe2$seurat_clusters == 2] - c344\n",
    "\n",
    "print(c044)\n",
    "print(c344)\n",
    "print(c0t)\n",
    "print(c3t)\n",
    "group_A <- c(rep(0, c0t), rep(1, c044)) \n",
    "group_B <- c(rep(0, c3t), rep(1, c344))\n",
    "\n",
    "# Create a 2x2 table\n",
    "data <- matrix(c(\n",
    "  sum(group_A == 0), sum(group_A == 1),\n",
    "  sum(group_B == 0), sum(group_B == 1)\n",
    "), nrow = 2)\n",
    "\n",
    "print(data)\n",
    "\n",
    "# Perform Fisher's exact test\n",
    "result <- fisher.test(data)\n",
    "\n",
    "# Print the test result\n",
    "print(result)"
   ]
  },
  {
   "cell_type": "code",
   "execution_count": null,
   "id": "95d0252a-12d4-4805-8e71-86aa4e121a5b",
   "metadata": {},
   "outputs": [],
   "source": []
  },
  {
   "cell_type": "code",
   "execution_count": null,
   "id": "d1000b40-547f-442a-a752-dcc385242977",
   "metadata": {},
   "outputs": [],
   "source": []
  },
  {
   "cell_type": "code",
   "execution_count": null,
   "id": "494e46b3-4b86-4845-9490-04ee7e5e8757",
   "metadata": {},
   "outputs": [],
   "source": [
    "\n",
    "\n",
    "#######################################################################################################################\n",
    "# results_list <- list()\n",
    "# # unique_diagnoses <- c('AD','CON','MS','FTD','PD','PSYCH')\n",
    "# unique_diagnoses <- c('AD','CON','MS','FTD','PD','MSA','VD','DLB','ATAXIA')#,'MND')\n",
    "# # unique_diagnoses <- c('AD','FTD')\n",
    "# variables_to_loop <- c(\"model_and_clinic1\",\"model_and_clinic2\",\"model_and_clinic3\",\"model_and_clinic4\", \"clin1\", \"clin2\")#,\n",
    "\n",
    "# ############### FUNCTION THAT, FOR EACH VARIABLE AND DIAGNOSIS METHOD, SHOWS IF THE CIRCLE SEPARATES COHERENT FROM NON-COHERENT WELL\n",
    "# combined_results <- coherent_analysis(unique_diagnoses, variables_to_loop, merged_seurat,out_ids)\n",
    "# combined_results\n",
    "\n",
    "# result_summary <- combined_results %>%\n",
    "#   group_by(method) %>%\n",
    "#   summarize(average_average_effect = mean(average_effect))\n",
    "# result_summary\n",
    "# # Print the summary\n",
    "# print(result_summary)\n",
    "# options(repr.plot.width = 12, repr.plot.height = 8)\n",
    "# plot <- ggplot(combined_results, aes(x = diagnosis, y = coh_inside_effect, fill = method)) +\n",
    "#   geom_bar(stat = \"identity\", position = \"dodge\") +\n",
    "#   labs(title = \"Bar Plot of coh_inside_effect by Diagnosis and Method\",\n",
    "#        x = \"Diagnosis\",\n",
    "#        y = \"coh_inside_effect\") +\n",
    "#   theme_minimal() +\n",
    "#   theme(axis.text.x = element_text(angle = 45, hjust = 1))\n",
    "# plot\n",
    "\n",
    "# plot <- ggplot(combined_results, aes(x = diagnosis, y = non_coh_outside_effect, fill = method)) +\n",
    "#   geom_bar(stat = \"identity\", position = \"dodge\") +\n",
    "#   labs(title = \"Bar Plot of non_coh_outside_effect by Diagnosis and Method\",\n",
    "#        x = \"Diagnosis\",\n",
    "#        y = \"non_coh_outside_effect\") +\n",
    "#   theme_minimal() +\n",
    "#   theme(axis.text.x = element_text(angle = 45, hjust = 1))\n",
    "# plot\n",
    "\n",
    "# plot <- ggplot(combined_results, aes(x = diagnosis, y = average_effect, fill = method)) +\n",
    "#   geom_bar(stat = \"identity\", position = \"dodge\") +\n",
    "#   labs(title = \"Bar Plot of average_effect by Diagnosis and Method\",\n",
    "#        x = \"Diagnosis\",\n",
    "#        y = \"average_effect\") +\n",
    "#   theme_minimal() +\n",
    "#   theme(axis.text.x = element_text(angle = 45, hjust = 1))\n",
    "# plot\n",
    "\n",
    "\n",
    "#######################################################################################################################\n",
    "# p3 <- DimPlot(merged_seurat, reduction = 'wnn.umap', group.by = 'simplified_diagnosis', label = TRUE,\n",
    "#               raster = NULL, shape.by = 'diagnosis_info', pt.size = 3, shuffle = TRUE, seed = 3,\n",
    "#               label.box = TRUE, repel = TRUE, label.size = 4, cols = diagnosis_colors)\n",
    "\n",
    "# # Extract UMAP coordinates and cluster labels\n",
    "# umap_coords <- as.data.frame(Embeddings(merged_seurat, 'wnn.umap'))\n",
    "# umap_coords$cluster <- merged_seurat$seurat_clusters\n",
    "# umap_coords$simplified_diagnosis <- merged_seurat$simplified_diagnosis\n",
    "# unique_diagnoses <- c('AD','CON','MS','FTD','PD','PSYCH')\n",
    "# # umap_coords <- umap_coords %>%\n",
    "# #   filter(simplified_diagnosis %in% unique_diagnoses)\n",
    "# filtered <- umap_coords %>%\n",
    "#   filter(\n",
    "#     (cluster == 0 & simplified_diagnosis == \"AD\") |\n",
    "#     (cluster == 1 & simplified_diagnosis == \"PD\") |\n",
    "#     (cluster == 2 & simplified_diagnosis == \"FTD\") |\n",
    "#     (cluster == 3 & simplified_diagnosis == \"CON\") |\n",
    "#     (cluster == 4 & simplified_diagnosis == \"MS\") |\n",
    "#     (cluster == 5 & simplified_diagnosis == \"PSYCH\")\n",
    "#   )\n",
    "\n",
    "# # Create UMAP plot with ellipses using ggforce\n",
    "# p3_with_ellipses <- ggplot(umap_coords, aes(x = wnnUMAP_1, y = wnnUMAP_2, color = factor(simplified_diagnosis))) +\n",
    "#   geom_point(size = 3) +\n",
    "#   geom_mark_ellipse(data=filtered,aes(fill = simplified_diagnosis,label=simplified_diagnosis),expand = unit(-5, \"mm\"),radius = 0) +\n",
    "#   theme_minimal() +\n",
    "#   theme(legend.position = \"none\")\n",
    "\n",
    "# # Print the UMAP plot with ellipses\n",
    "# print(p3_with_ellipses)\n",
    "\n",
    "#######################################################################################################################\n",
    "## zijn er verschillen in APOE?\n",
    "# apoe <- data.frame(DonorID = rownames(merged_seurat@meta.data),\n",
    "#                     seurat_clusters = merged_seurat@meta.data$seurat_clusters,\n",
    "#                     diagnosis = merged_seurat@meta.data[['simplified_diagnosis']],\n",
    "#                     quality =   merged_seurat@meta.data[['model_and_clinic3']],\n",
    "#                      apoe = merged_seurat@meta.data[['APOE']]\n",
    "# )    \n",
    "# order_levels <- c(\"coherent\",\"non-coherent\")\n",
    "# apoe$quality <- factor(apoe$quality, levels = order_levels)\n",
    "# apoe <- apoe %>%\n",
    "#   filter(diagnosis == \"AD\" & seurat_clusters %in% c(2)& !is.na(apoe)) %>%\n",
    "#   group_by(seurat_clusters, apoe) %>%\n",
    "#   summarise(count = n()) %>%\n",
    "#   ungroup() %>%\n",
    "#   group_by(seurat_clusters) %>%\n",
    "#   mutate(total_count = sum(count),\n",
    "#          percentage = (count / total_count) * 100)\n",
    "\n",
    "# # print(apoe)\n",
    "\n",
    "# apoe\n",
    "# data <- matrix(c(36, 261 - 36,13.8, 27, 120 - 27,22.5), ncol = 2)\n",
    "# rownames(data) <- c(\"APOE44\", \"Other Genotypes\",'percentage (%)')\n",
    "# colnames(data) <- c(\"Cluster 0\", \"Cluster 2\")\n",
    "\n",
    "# # Perform the chi-squared test\n",
    "# chisq.test(data)\n",
    "# data\n",
    "\n",
    "#######################################################################################################################\n",
    "# options(repr.plot.width = 10, repr.plot.height = 12)\n",
    "# sup3_small <- sup3[c(\"ITname\", \"Domain\", \"Grouping\")]\n",
    "# DefaultAssay(merged_seurat) <- 'TEMP'\n",
    "# extended_cluster_markers = find_extended_cluster_markers(merged_seurat,0.05,method='sign',assay='TEMP',verbose=FALSE) \n",
    "# head(extended_cluster_markers)\n",
    "# file_path <- \"/home/jupyter-n.mekkes@gmail.com-f6d87/clinical_analysis/clustermarkers/\"\n",
    "# file_name <- \"mainclustermarkertemporal.xlsx\"\n",
    "# full_file_path <- paste0(file_path, file_name)\n",
    "# write.xlsx(extended_cluster_markers, full_file_path, row.names = FALSE)\n",
    "# # tail(extended_cluster_markers)\n",
    "# sub_M1 <- subset(merged_seurat, cells = Cells(merged_seurat), features = extended_cluster_markers$marker)\n",
    "# DoHeatmap(subset(sub_M1, downsample = 100), features = extended_cluster_markers$marker, size = 4)\n",
    "# generate_heatmap_plot(merged_seurat,assay='TEMP', extended_cluster_markers$marker, sup3_small,7)\n",
    "\n",
    "#######################################################################################################################\n",
    "# # library(ggsignif)\n",
    "# # library(rstatix)\n",
    "# # library(dunn.test)\n",
    "# # library(pairwise)\n",
    "# ## to do: zoek de verschillen tussen MS-SP\n",
    "# ad <- data.frame(cluster = Idents(merged_seurat), diagnosis = merged_seurat$simplified_diagnosis,Age=merged_seurat@meta.data$Age)\n",
    "# # ad <- ad %>%\n",
    "# #   filter(diagnosis == \"AD\" )\n",
    "# # head(ad,10) \n",
    "# mean_age_per_cluster <- ad %>%\n",
    "#   group_by(cluster) %>%\n",
    "#   summarise(mean_age = mean(Age),std_age = sd(Age),max=max(Age))\n",
    "\n",
    "# print(mean_age_per_cluster)\n",
    "\n",
    "# # kruskal_result <- kruskal.test(Age ~ cluster, data = ad)\n",
    "# # pairwise_dunn <- dunn.test(ad$Age, ad$cluster, method = \"bonferroni\")\n",
    "# # print(pairwise_dunn)\n",
    "\n",
    "# pairwise_kruskal <- pairwise.wilcox.test(ad$Age, ad$cluster, p.adjust.method = \"bonferroni\")\n",
    "# # print(pairwise_kruskal$p.value)\n",
    "\n",
    "# significant_pairs <- data.frame(from = character(), to = character(), p.value = numeric())\n",
    "# for (i in 1:nrow(pairwise_kruskal$p.value)) {\n",
    "#   for (j in 1:ncol(pairwise_kruskal$p.value)) {\n",
    "#     if (!is.na(pairwise_kruskal$p.value[i, j]) && pairwise_kruskal$p.value[i, j] < 0.05) {\n",
    "#       significant_pairs <- rbind(significant_pairs, data.frame(from = rownames(pairwise_kruskal$p.value)[i],\n",
    "#                                                                to = colnames(pairwise_kruskal$p.value)[j],\n",
    "#                                                                p.value = pairwise_kruskal$p.value[i, j]))\n",
    "#     }\n",
    "#   }\n",
    "# }\n",
    "# significant_pairs$to = as.integer(significant_pairs$to)\n",
    "# significant_pairs$dist = abs(as.integer(significant_pairs$to) - as.integer(significant_pairs$from))\n",
    "# significant_pairs <- significant_pairs %>%\n",
    "#   arrange(desc(dist),to)%>%\n",
    "#   mutate(height = 100 - (row_number() -1) * 5)\n",
    "# # significant_pairs$p.star[significant_pairs$p.value < 0.05] <- \"*\"\n",
    "# # significant_pairs$p.star[significant_pairs$p.value < 0.005] <- \"**\"\n",
    "# significant_pairs$p.star[significant_pairs$p.value < 0.0005] <- \"***\"\n",
    "# significant_pairs#$to\n",
    "\n",
    "# options(repr.plot.width = 7, repr.plot.height = 6)\n",
    "# # my_comparisons <- list( c(5, 6), c(1,2),c(3,5) )\n",
    "# g <- VlnPlot(\n",
    "#   object = merged_seurat,\n",
    "#   features = 'Age',\n",
    "#   pt.size=0,  \n",
    "#   split.by='sex',\n",
    "#     # y.min = 0,\n",
    "#   split.plot=TRUE\n",
    "#   # group.by = 'seurat_clusters',\n",
    "#   # cols = viridis(length(unique(merged_cog$seurat_clusters)), option = 'D'),\n",
    "#   )+ scale_y_continuous(limits = c(0,200))+ geom_signif(\n",
    "#     y_position = significant_pairs$height, xmin = significant_pairs$to+1, xmax = significant_pairs$from,\n",
    "#     annotation = significant_pairs$p.star, tip_length = 0.02\n",
    "#   )\n",
    "# g\n",
    "\n",
    "\n",
    "#######################################################################################################################\n",
    "## kleurtjes voor in python code\n",
    "# library(scales)\n",
    "\n",
    "# #extract hex color codes for a plot with three elements in ggplot2 \n",
    "# hex <- hue_pal()(3)\n",
    "# hex"
   ]
  },
  {
   "cell_type": "markdown",
   "id": "09608bb6-e361-4343-afa0-61bb1b4df4c0",
   "metadata": {},
   "source": [
    "### AD/FTD cluster"
   ]
  },
  {
   "cell_type": "code",
   "execution_count": null,
   "id": "08f11255-23bb-4946-aa7e-96d9cee0f4c7",
   "metadata": {
    "tags": []
   },
   "outputs": [],
   "source": [
    "merged_cog <- subset(merged_seurat, idents = c(0,2))\n",
    "Assays(merged_cog)"
   ]
  },
  {
   "cell_type": "code",
   "execution_count": null,
   "id": "b939cda3-cb0c-48ed-a716-46303af3d198",
   "metadata": {},
   "outputs": [],
   "source": [
    "# seurat_object[['simplified_diagnosis']] <- meta_data[match(names(seurat_object$orig.ident), rownames(meta_data)),'simplified_diagnosis']\n",
    "merged_cog$cog_cluster_diagnosis <- merged_cog$diagnosis\n",
    "\n",
    "merged_cog$cog_cluster_diagnosis <- gsub(\"ATAXIA,FA\", \"ATAXIA\", merged_cog$cog_cluster_diagnosis)\n",
    "merged_cog$cog_cluster_diagnosis <- gsub(\"ATAXIA,SCA\", \"ATAXIA\", merged_cog$cog_cluster_diagnosis)\n",
    "merged_cog$cog_cluster_diagnosis <- gsub(\"ATAXIA,FXTAS\", \"ATAXIA\", merged_cog$cog_cluster_diagnosis)\n",
    "merged_cog$cog_cluster_diagnosis <- gsub(\"PSYCH,SCZ\", \"PSYCH\", merged_cog$cog_cluster_diagnosis)\n",
    "merged_cog$cog_cluster_diagnosis <- gsub(\"PSYCH,BP\", \"PSYCH\", merged_cog$cog_cluster_diagnosis)\n",
    "merged_cog$cog_cluster_diagnosis <- gsub(\"PSYCH,MDD\", \"PSYCH\", merged_cog$cog_cluster_diagnosis)\n",
    "merged_cog$cog_cluster_diagnosis <- gsub(\"MS,MS-PP\", \"MS\", merged_cog$cog_cluster_diagnosis)\n",
    "merged_cog$cog_cluster_diagnosis <- gsub(\"MS,MS-SP\", \"MS\", merged_cog$cog_cluster_diagnosis)\n",
    "merged_cog$cog_cluster_diagnosis <- gsub(\"MS_undefined\", \"MS\", merged_cog$cog_cluster_diagnosis)\n",
    "\n",
    "merged_cog$cog_cluster_diagnosis <- gsub(\"DEM,SICC,AGD\", \"DEM,SICC\", merged_cog$cog_cluster_diagnosis)\n",
    "merged_cog$cog_cluster_diagnosis <- gsub(\"FTD,FTD-TDP_undefined\", \"FTD-TDP\", merged_cog$cog_cluster_diagnosis)\n",
    "merged_cog$cog_cluster_diagnosis <- gsub(\"FTD,FTD-TDP-C\", \"FTD-TDP\", merged_cog$cog_cluster_diagnosis)\n",
    "merged_cog$cog_cluster_diagnosis <- gsub(\"FTD,FTD-TDP-A,PROG\", \"FTD-TDP\", merged_cog$cog_cluster_diagnosis)\n",
    "merged_cog$cog_cluster_diagnosis <- gsub(\"FTD,FTD-TDP-B,C9ORF72\", \"FTD-TDP\", merged_cog$cog_cluster_diagnosis)\n",
    "\n",
    "\n",
    "table(merged_cog[['cog_cluster_diagnosis']])\n",
    "table(merged_cog[['simplified_diagnosis']])\n",
    "# ms_cluster[['ms_cluster_diagnosis']]"
   ]
  },
  {
   "cell_type": "code",
   "execution_count": null,
   "id": "eca9fd4c-e314-48f8-b7cf-0bd62295799b",
   "metadata": {
    "tags": []
   },
   "outputs": [],
   "source": [
    "DefaultAssay(merged_cog) <- 'FLAT'\n",
    "all.symptombins <- rownames(merged_cog[[\"FLAT\"]])\n",
    "merged_cog <- NormalizeData(merged_cog,normalization.method = \"LogNormalize\", scale.factor = 100)\n",
    "merged_cog <- ScaleData(merged_cog, features = all.symptombins,do.center = TRUE,scale.max = 10, model.use = \"linear\")\n",
    "merged_cog <- FindVariableFeatures(merged_cog, selection.method = \"vst\", nfeatures = 1500)\n",
    "merged_cog <- perform_pca_and_visualization(merged_cog,rname='pca')\n",
    "print(ElbowPlot(merged_cog,reduction='pca'))\n",
    "merged_cog <- JackStraw(merged_cog, num.replicate = 100,assay='FLAT')\n",
    "merged_cog <- ScoreJackStraw(merged_cog, dims = 1:20)\n",
    "print(JackStrawPlot(merged_cog, dims = 1:20))"
   ]
  },
  {
   "cell_type": "code",
   "execution_count": null,
   "id": "69bc350f-0a1d-4b1e-b80a-61e44dfe71a0",
   "metadata": {
    "tags": []
   },
   "outputs": [],
   "source": [
    "DefaultAssay(merged_cog) <- 'TEMP'\n",
    "all.symptombins <- rownames(merged_cog[[\"TEMP\"]])\n",
    "merged_cog <- NormalizeData(merged_cog,normalization.method = \"LogNormalize\", scale.factor = 100)\n",
    "merged_cog <- ScaleData(merged_cog, features = all.symptombins,do.center = TRUE,scale.max = 10, model.use = \"linear\")\n",
    "merged_cog <- FindVariableFeatures(merged_cog, selection.method = \"vst\", nfeatures = 1500)\n",
    "merged_cog <- perform_pca_and_visualization(merged_cog,rname='apca') ## change to pca for plots\n",
    "# print(ElbowPlot(merged_cog,reduction='pca')) ## change to pcs for plots\n",
    "# merged_cog <- JackStraw(merged_cog, num.replicate = 100,assay='TEMP')\n",
    "# merged_cog <- ScoreJackStraw(merged_cog, dims = 1:20)\n",
    "# print(JackStrawPlot(merged_cog, dims = 1:20))"
   ]
  },
  {
   "cell_type": "code",
   "execution_count": null,
   "id": "0f11013b-0cdf-433f-86bf-734ac8e807fa",
   "metadata": {
    "tags": []
   },
   "outputs": [],
   "source": [
    "merged_cog <- FindMultiModalNeighbors(\n",
    "    merged_cog,\n",
    "    reduction.list = list(\"pca\", \"apca\"),\n",
    "    # dims.list = list(1:5, 1:20), modality.weight.name = list(\"FLAT.weight\",\"TEMP.weight\")\n",
    "    dims.list = list(1:7, 1:10), modality.weight.name = list(\"FLAT.weight\",\"TEMP.weight\")\n",
    ")"
   ]
  },
  {
   "cell_type": "code",
   "execution_count": null,
   "id": "9622c25d-a88a-4456-971e-a519da97cb9e",
   "metadata": {
    "tags": []
   },
   "outputs": [],
   "source": [
    "merged_cog <- RunUMAP(merged_cog,\n",
    "                      # dims = 1:10,\n",
    "                      nn.name = \"weighted.nn\",\n",
    "                      reduction.name = \"wnn.umap\",\n",
    "                      reduction.key = \"wnnUMAP_\",\n",
    "                      verbose=FALSE  \n",
    ")\n"
   ]
  },
  {
   "cell_type": "code",
   "execution_count": null,
   "id": "6d27c034-84b9-48c1-8cfc-1b7d63dfa3bc",
   "metadata": {
    "tags": []
   },
   "outputs": [],
   "source": [
    "merged_cog <- FindClusters(merged_cog,\n",
    "                              resolution = 0.4,\n",
    "                              graph.name = \"wsnn\",\n",
    "                              algorithm = 3,\n",
    "                              verbose = TRUE)"
   ]
  },
  {
   "cell_type": "code",
   "execution_count": null,
   "id": "39dceeaa-42fc-4853-bfe8-166b2a273975",
   "metadata": {
    "tags": []
   },
   "outputs": [],
   "source": [
    "w = 12\n",
    "h = 7.5\n",
    "pticksize = 40\n",
    "options(repr.plot.width = w, repr.plot.height = h)\n",
    "p1 <- DimPlot(merged_cog, reduction = 'wnn.umap', label = FALSE,shape.by = 'clin_coherence',\n",
    "              repel = TRUE, label.size = 5,pt.size=4,cols=\"Dark2\",shuffle=TRUE) +\n",
    "            theme(axis.title.x = element_text(size = pticksize),\n",
    "                axis.title.y = element_text(size = pticksize),\n",
    "                legend.text = element_text(size = pticksize),\n",
    "                axis.text.x = element_text(size = pticksize),\n",
    "          # legend.position = \"none\",\n",
    "               axis.text.y = element_text(size = pticksize))#+ #coord_cartesian(xlim = c(-3, 3.5), ylim = c(-3, 3))+\n",
    "    # scale_x_continuous(breaks = c(-3,-2,-1, 0,1,2, 3)) + # Add x-axis tick marks at -3, 0, and 3+\n",
    "    # scale_y_continuous(breaks = c(-3,-2,-1, 0,1,2, 3))  # Add x-axis tick marks at -3, 0, and 3\n",
    "\n",
    "\n",
    "# p2 <- DimPlot(psych_cluster, reduction = 'wnn.umap', group.by = 'ms_cluster_diagnosis', label = TRUE, repel = TRUE, label.size = 2.5,cols=diagnosis_colors) \n",
    "p3 <- DimPlot(merged_cog, reduction = 'wnn.umap', group.by = 'cog_cluster_diagnosis', label = FALSE, #cog_cluster_diagnosis\n",
    "              raster = NULL,pt.size=5,shuffle=TRUE,seed=3,label.box=FALSE, shape.by = 'clin_coherence',\n",
    "              repel = TRUE, label.size = 4,cols=diagnosis_colors) +\n",
    "    theme(axis.title.x = element_text(size = pticksize),\n",
    "               axis.title.y = element_text(size = pticksize),\n",
    "               legend.text = element_text(size = pticksize),\n",
    "          legend.position = \"none\",\n",
    "               axis.text.x = element_text(size = pticksize),\n",
    "               axis.text.y = element_text(size = pticksize))+ #coord_cartesian(xlim = c(-3, 3.5), ylim = c(-3, 3))+\n",
    "    # scale_x_continuous(breaks = c(-3,-2,-1, 0,1,2, 3)) + # Add x-axis tick marks at -3, 0, and 3+\n",
    "    # scale_y_continuous(breaks = c(-3,-2,-1, 0,1,2, 3)) + # Add x-axis tick marks at -3, 0, and 3\n",
    "    labs(title = \"\")  # Remove plot title\n",
    "p1\n",
    "# w = 20\n",
    "# h = 12\n",
    "# options(repr.plot.width = w, repr.plot.height = h)\n",
    "p3\n",
    "\n",
    "# Save p1 to a PDF file\n",
    "ggsave(\"/home/jupyter-n.mekkes@gmail.com-f6d87/clinical_history/final_predictions/figures/seurat/cog/dimplot_cog_cluster.pdf\", plot = p1, width = w, height = h,dpi=300)\n",
    "\n",
    "# Save p3 to a PDF file\n",
    "ggsave(\"/home/jupyter-n.mekkes@gmail.com-f6d87/clinical_history/final_predictions/figures/seurat/cog/dimplot_cog_diagnosis.pdf\", plot = p3, width = w, height = h,dpi=300)"
   ]
  },
  {
   "cell_type": "code",
   "execution_count": null,
   "id": "2edc81bd-b5a0-4dd9-a4ee-3c14099719b0",
   "metadata": {},
   "outputs": [],
   "source": [
    "\n",
    "## add circle\n",
    "w = 20\n",
    "h = 12\n",
    "unique_diagnoses <- table(merged_cog$cog_cluster_diagnosis) #cog_cluster_diagnosis\n",
    "unique_diagnoses\n",
    "diagnoses <- names(unique_diagnoses[unique_diagnoses > 30])\n",
    "# diagnoses <- c('MS','CON','DLB','other_dem','VD','DEM,ENCEPHA,VE','AD,ENCEPHA,VE','DLB,SICC','FTD,FTD-TAU,TAU')\n",
    "diagnoses <- c('FTD-TDP','AD','AD,DLB') #'FTD,PID','FTD-TDP'\n",
    "diagnoses\n",
    "options(repr.plot.width = w, repr.plot.height = h)\n",
    "# ############### FUNCTION TO MAKE A DIMPLOT WITH CIRCLES AROUND DIAGNOSES OF INTEREST #######\n",
    "# ## returns a plot and a list of donorids for each diagnosis that are 'outside' the circle\n",
    "returns <- generate_dim_plot(merged_cog, diagnoses,diag='cog_cluster_diagnosis',p3) #cog_cluster_diagnosis\n",
    "returns[[2]]\n",
    "ggsave(\"/home/jupyter-n.mekkes@gmail.com-f6d87/clinical_history/final_predictions/figures/seurat/cog/dimplot_cog_diagnosis.pdf\", plot = returns[[2]], width = w, height = h,dpi=300)"
   ]
  },
  {
   "cell_type": "markdown",
   "id": "f94a137b-eb70-431f-b0c4-e936233ebd01",
   "metadata": {},
   "source": [
    "##### plot on original cluster"
   ]
  },
  {
   "cell_type": "code",
   "execution_count": null,
   "id": "5dee4bba-3449-425c-8d09-3c2218881f41",
   "metadata": {},
   "outputs": [],
   "source": [
    "# copy_of_merged <- merged_seurat\n",
    "# # copy_of_merged\n",
    "# # colnames(copy_of_merged@meta.data)\n",
    "# # colnames(merged_cog@meta.data)\n",
    "# original_rownames <- colnames(copy_of_merged@meta.data)\n",
    "# copy_of_merged@meta.data <- merge(copy_of_merged@meta.data, merged_cog@meta.data[, c(\"seurat_clusters\",\"cog_cluster_diagnosis\",\"simplified_diagnosis\"), drop = FALSE], by = \"row.names\", all.x = TRUE)\n",
    "# colnames(copy_of_merged@meta.data)[colnames(copy_of_merged@meta.data) == \"seurat_clusters.y\"] <- \"cog_clusters\"\n",
    "# colnames(copy_of_merged@meta.data)[colnames(copy_of_merged@meta.data) == \"seurat_clusters.x\"] <- \"seurat_clusters\"\n",
    "# colnames(copy_of_merged@meta.data)[colnames(copy_of_merged@meta.data) == \"simplified_diagnosis.y\"] <- \"cog_simplified\"\n",
    "# colnames(copy_of_merged@meta.data)[colnames(copy_of_merged@meta.data) == \"simplified_diagnosis.x\"] <- \"simplified_diagnosis\"\n",
    "# rownames(copy_of_merged@meta.data) <- copy_of_merged@meta.data$Row.names\n",
    "# copy_of_merged@meta.data$Row.names <- NULL\n",
    "# # original_rownames\n",
    "# # head(copy_of_merged@meta.data)\n",
    "# head(copy_of_merged@meta.data[copy_of_merged@meta.data$seurat_clusters == 5, ])"
   ]
  },
  {
   "cell_type": "code",
   "execution_count": null,
   "id": "4d8ce775-496a-4431-a492-72280c461026",
   "metadata": {},
   "outputs": [],
   "source": [
    "w = 10\n",
    "h = 7.5\n",
    "options(repr.plot.width = w, repr.plot.height = h)\n",
    "pticksize = 40\n",
    "cogcells <- WhichCells(merged_seurat, idents = c( \"0\",\"2\"))\n",
    "cog_highlight <- DimPlot(merged_seurat, reduction = 'wnn.umap',label = FALSE,cells.highlight = cogcells,cols.highlight='black',sizes.highlight=2,\n",
    "              raster = NULL,pt.size=1.5,shuffle=TRUE,seed=3,label.box=FALSE,\n",
    "              repel = TRUE, label.size = 4)\n",
    "\n",
    "cog_highlight\n",
    "# Save to a PDF file\n",
    "ggsave(\"/home/jupyter-n.mekkes@gmail.com-f6d87/clinical_history/final_predictions/figures/seurat/cog/highlight.pdf\", plot = cog_highlight, width = w, height = h,dpi=300)\n",
    "\n",
    "# # Save p3 to a PDF file\n",
    "# ggsave(\"/home/jupyter-n.mekkes@gmail.com-f6d87/clinical_history/final_predictions/figures/seurat/main/dimplot_main_diagnosis.pdf\", plot = p3, width = w, height = h,dpi=300)"
   ]
  },
  {
   "cell_type": "markdown",
   "id": "10608e95-c66e-4cbc-b98c-c9536693a218",
   "metadata": {},
   "source": [
    "##### identity bars\n",
    "for cog we do the coherence analysis"
   ]
  },
  {
   "cell_type": "code",
   "execution_count": null,
   "id": "ef178dbf-c403-498f-81aa-73329bf3a1c6",
   "metadata": {
    "tags": []
   },
   "outputs": [],
   "source": [
    "w = 20\n",
    "h = 7\n",
    "# options(repr.plot.width = w, repr.plot.height = h)\n",
    "# p_values_df <- calculate_p_values(merged_cog,diagnosis_column = \"cog_cluster_diagnosis\") #cog_cluster_diagnosis simplified_diagnosis\n",
    "# # p_values_df\n",
    "# unique(rownames(p_values_df))\n",
    "# corrected_p_values_df <- p_values_df %>%\n",
    "#   mutate(across(everything(), ~ p.adjust(.x, method = \"BH\")))\n",
    "# p_values_df\n",
    "# corrected_p_values_df\n",
    "\n",
    "\n",
    "# # diagnoses <- c('AD','FTD','MS','ATAXIA','DLB','MSA','PD','MND','PSP','CON','VD')\n",
    "# # diagnoses <- c('MS')\n",
    "# diagnoses <- unique(rownames(p_values_df))\n",
    "# # diagnoses <- names(unique_diagnoses[unique_diagnoses > 10])\n",
    "# diagnoses\n",
    "# p_values_df_diag <- calculate_p_values_diag(merged_cog,diagnosis_column = \"cog_cluster_diagnosis\",\n",
    "#                                             variable_to_loop='clin_coherence',diagnoses,verbose=FALSE)\n",
    "\n",
    "# # p_values_df_diag\n",
    "# corrected_p_values_diag <- p_values_df_diag %>%\n",
    "#   mutate(across(everything(), ~ p.adjust(.x, method = \"BH\")))\n",
    "# # corrected_p_values_diag\n",
    "\n",
    "# # print(corrected_p_values_df)\n",
    "# identitybars <- plot_cluster_diagnosis_diag(merged_cog,corrected_p_values_df,\n",
    "#                                             diagnosis_column = \"cog_cluster_diagnosis\",color='white',corrected_p_values_diag)     \n",
    "# identitybars <- identitybars + theme(axis.title.x = element_text(size = 24),\n",
    "#            axis.title.y = element_text(size = 24),\n",
    "#            legend.text = element_text(size = 24),\n",
    "#            axis.text.x = element_text(size = 24),\n",
    "#            axis.text.y = element_text(size = 24))#+ coord_cartesian(xlim = c(-6, 6), ylim = c(-6, 6))\n",
    "# identitybars\n",
    "# ggsave(\"/home/jupyter-n.mekkes@gmail.com-f6d87/clinical_history/final_predictions/figures/seurat/cog/identitybars_cog_cluster.pdf\",\n",
    "#        plot = identitybars, width = 15, height = 15,dpi=300)\n",
    "\n",
    "# library(tidyverse)\n",
    "options(repr.plot.width = 12, repr.plot.height = 12)\n",
    "# diagnoses <- c('AD','FTD','MS','ATAXIA','DLB','MSA','PD','MND','PSP','CON','VD','PSYCH')\n",
    "table(merged_cog@meta.data$cog_cluster_diagnosis)\n",
    "diagnoses <- rownames(table(merged_cog@meta.data$cog_cluster_diagnosis))\n",
    "print(list(diagnoses))\n",
    "known_clin_diag <-  c('AD',\"AD-DLB\",\"DLB\",\"FTD-TDP\",\"FTD,FTD-TAU,TAU\",\"FTD,PID\",\"PD\",\"PSP\",\"VD\")\n",
    "print(known_clin_diag)\n",
    "# diagnoses <- c('MS')\n",
    "p_values <- calculate_p_values_diag(merged_cog,diagnosis_column = \"cog_cluster_diagnosis\",variable_to_loop='clin_coherence',diagnoses, known_clin_diag, verbose=FALSE)\n",
    "# p_values_df_diag\n",
    "\n",
    "p_values_diagnoses <- p_values$p_values\n",
    "p_values_coherence <- p_values$p_values_diag\n",
    "\n",
    "p_values_diagnoses <- p_values_diagnoses %>%\n",
    "  spread(key = Cluster, value = P_Value)\n",
    "rownames(p_values_diagnoses) <- p_values_diagnoses$Diagnosis\n",
    "p_values_diagnoses <- p_values_diagnoses[, -1]\n",
    "print(p_values_diagnoses)\n",
    "p_values_diagnoses <- p_values_diagnoses %>%\n",
    "  mutate(across(everything(), ~ p.adjust(.x, method = \"BH\")))\n",
    "p_values_diagnoses\n",
    "\n",
    "p_values_coherence <- p_values_coherence %>%\n",
    "  spread(key = Cluster, value = P_Value)\n",
    "rownames(p_values_coherence) <- p_values_coherence$Diagnosis\n",
    "p_values_coherence <- p_values_coherence[, -1]\n",
    "# print(p_values_coherence)\n",
    "p_values_coherence <- p_values_coherence %>%\n",
    "  mutate(across(everything(), ~ p.adjust(.x, method = \"BH\")))\n",
    "p_values_coherence\n",
    "\n",
    "\n",
    "\n",
    "identitybars <- plot_cluster_diagnosis_diag(merged_cog,p_values_diagnoses,diagnosis_column = \"cog_cluster_diagnosis\",color='white',p_values_coherence)     \n",
    "identitybars <- identitybars + theme(axis.title.x = element_text(size = 24),\n",
    "           axis.title.y = element_text(size = 24),\n",
    "           legend.text = element_text(size = 24),\n",
    "           axis.text.x = element_text(size = 24),\n",
    "           axis.text.y = element_text(size = 24))#+ coord_cartesian(xlim = c(-6, 6), ylim = c(-6, 6))\n",
    "identitybars\n",
    "ggsave(\"/home/jupyter-n.mekkes@gmail.com-f6d87/clinical_history/final_predictions/figures/seurat/cog/identitybars_cog_cluster.pdf\", plot = identitybars, width = w, height = h,dpi=300)\n",
    "\n"
   ]
  },
  {
   "cell_type": "markdown",
   "id": "eab24c68-bd0d-460c-81ac-ce59c8cc55e4",
   "metadata": {},
   "source": [
    "##### heatmap"
   ]
  },
  {
   "cell_type": "code",
   "execution_count": null,
   "id": "ec2f894d-bad7-41e1-b7e4-b86ed2e623a4",
   "metadata": {},
   "outputs": [],
   "source": [
    "DefaultAssay(merged_cog) <- 'FLAT'\n",
    "extended_cluster_markers_flat = find_extended_cluster_markers(merged_cog,0.05,method='all',assay='FLAT',verbose=FALSE) \n",
    "\n",
    "DefaultAssay(merged_cog) <- 'TEMP'\n",
    "extended_cluster_markers_temp = find_extended_cluster_markers(merged_cog,0.05,method='all',assay='TEMP',verbose=FALSE) \n",
    "\n",
    "file_path <- \"/home/jupyter-n.mekkes@gmail.com-f6d87/clinical_analysis/clustermarkers/\"\n",
    "file_name_flat <- \"cogclustermarkerflattened.xlsx\"\n",
    "file_name_temp <- \"cogclustermarkertemporal.xlsx\"\n",
    "flat_path <- paste0(file_path, file_name_flat)\n",
    "temp_path <- paste0(file_path, file_name_temp)\n",
    "write.xlsx(extended_cluster_markers_flat, flat_path, row.names = FALSE)\n",
    "write.xlsx(extended_cluster_markers_temp, temp_path, row.names = FALSE)\n"
   ]
  },
  {
   "cell_type": "code",
   "execution_count": null,
   "id": "7dc7ad2e-8120-4605-b44c-10731eea4c5a",
   "metadata": {},
   "outputs": [],
   "source": [
    "returns <- create_marker_df(extended_cluster_markers_temp, extended_cluster_markers_flat, sup3)\n",
    "w=8\n",
    "h=10\n",
    "combined_marker_list <- returns[[1]]\n",
    "# combined_marker_list\n",
    "# # combined_marker_list\n",
    "annotation_df <- returns[[2]]\n",
    "# annotation_df\n",
    "inge_markers <- annotation_df[annotation_df$Domain %in% c(\"Cognitive\", \"Psychiatric\",\"General\"), ]$ITname\n",
    "# inge_markers\n",
    "savepath_main = \"/home/jupyter-n.mekkes@gmail.com-f6d87/clinical_history/final_predictions/figures/seurat/cog/heatmap_cog_cluster.pdf\"\n",
    "returns <- generate_heatmap_plot(merged_cog,assay='FLAT', combined_marker_list, annotation_df,9,savepath=savepath_main)\n",
    "mainmarkers <- \"/home/jupyter-n.mekkes@gmail.com-f6d87/clinical_analysis/clustermarkers/combined_cogmarkers.txt\"\n",
    "writeLines(returns, con = mainmarkers)\n",
    "returns"
   ]
  },
  {
   "cell_type": "code",
   "execution_count": null,
   "id": "2680ab81-a513-46e5-820d-d6f05941dd48",
   "metadata": {
    "tags": []
   },
   "outputs": [],
   "source": [
    "options(repr.plot.width = 7, repr.plot.height = 6)\n",
    "VlnPlot(\n",
    "  object = merged_cog,\n",
    "  features = 'Age',\n",
    "  pt.size=0,  \n",
    "  split.by='sex',\n",
    "  split.plot=TRUE\n",
    "  # group.by = 'seurat_clusters',\n",
    "  # cols = viridis(length(unique(merged_cog$seurat_clusters)), option = 'D'),\n",
    ")\n",
    "\n",
    "# options(repr.plot.width = 7, repr.plot.height = 6)\n",
    "# VlnPlot(\n",
    "#   object = merged_cog,\n",
    "#   features = 'File',\n",
    "#   pt.size=0,  \n",
    "#   split.by='sex',\n",
    "#   split.plot=TRUE\n",
    "#   # group.by = 'seurat_clusters',\n",
    "#   # cols = viridis(length(unique(merged_cog$seurat_clusters)), option = 'D'),\n",
    "# )\n"
   ]
  },
  {
   "cell_type": "code",
   "execution_count": null,
   "id": "616d06a6-0cfa-4b71-b0d0-7ba2966c48e2",
   "metadata": {},
   "outputs": [],
   "source": [
    "print(table(merged_cog@meta.data$APOE))\n",
    "\n",
    "apoe <- data.frame(DonorID = rownames(merged_cog@meta.data),\n",
    "                    seurat_clusters = merged_cog@meta.data$seurat_clusters,\n",
    "                    diagnosis = merged_cog@meta.data[['simplified_diagnosis']],\n",
    "                    quality =   merged_cog@meta.data[['clin_coherence']],\n",
    "                    apoe = merged_cog@meta.data[['APOE']]\n",
    ")    \n",
    "head(apoe)\n",
    "\n",
    "apoe2 <- apoe %>%\n",
    "    group_by(seurat_clusters) %>%\n",
    "      summarize(\n",
    "        apoe_44 = sum(!is.na(apoe) & apoe == 44),\n",
    "        total_donors = sum(!is.na(apoe))\n",
    "      ) %>%\n",
    "      mutate(percentage_apoe_44 = (apoe_44 / total_donors) * 100)\n",
    "\n",
    "\n",
    "apoe2 <- apoe %>%\n",
    "  filter(diagnosis == \"AD\") %>%\n",
    "  group_by(seurat_clusters) %>%\n",
    "  summarize(\n",
    "        apoe_44 = sum(!is.na(apoe) & apoe == 44),\n",
    "        total_donors = sum(!is.na(apoe))\n",
    "      ) %>%\n",
    "  mutate(percentage_apoe_44 = (apoe_44 / total_donors) * 100)\n",
    "\n",
    "\n",
    "print(apoe2)\n",
    "\n",
    "clusters <- unique(apoe2$seurat_clusters)\n",
    "p_values <- data.frame(Cluster = integer(), P_Value = numeric(), EST_OR = numeric())\n",
    "for (cluster in clusters) {\n",
    "  sub_df <- apoe2[apoe2$seurat_clusters == cluster, ]\n",
    "  apoe_44_current <- sub_df$apoe_44\n",
    "  apoe_44_other <- sum(apoe2$apoe_44) - apoe_44_current\n",
    "  total_current <- sub_df$total_donors - apoe_44_current\n",
    "  total_other <- sum(apoe2$total_donors) - total_current\n",
    "    \n",
    "  contingency_table <- matrix(c(apoe_44_current, apoe_44_other, total_current, total_other), nrow = 2)\n",
    "  print(contingency_table)\n",
    "  test_result <- fisher.test(contingency_table, alternative = \"two.sided\")\n",
    "  # test_result <- chisq.test(contingency_table,y=NULL)  \n",
    "    \n",
    "  # print(test_result)  \n",
    "  # print(test_result$estimate)    \n",
    "  p_values <- rbind(p_values, data.frame(Cluster = cluster, P_Value = test_result$p.value, EST_OR = test_result$estimate))  \n",
    "}\n",
    "\n",
    "p_values$bh_corrected <- p.adjust(p_values$P_Value, method = \"fdr\")\n",
    "print(p_values) \n"
   ]
  },
  {
   "cell_type": "code",
   "execution_count": null,
   "id": "467421e5-fef1-4e4e-b9aa-fb8ed3bc7942",
   "metadata": {},
   "outputs": [],
   "source": [
    "c044 <- apoe2$apoe_44[apoe2$seurat_clusters == 0]\n",
    "c344 <- apoe2$apoe_44[apoe2$seurat_clusters == 1]\n",
    "c0t <- apoe2$total_donors[apoe2$seurat_clusters == 0] - c044\n",
    "c3t <- apoe2$total_donors[apoe2$seurat_clusters == 1] - c344\n",
    "\n",
    "print(c044)\n",
    "print(c344)\n",
    "print(c0t)\n",
    "print(c3t)\n",
    "group_A <- c(rep(0, c0t), rep(1, c044)) \n",
    "group_B <- c(rep(0, c3t), rep(1, c344))\n",
    "\n",
    "# Create a 2x2 table\n",
    "data <- matrix(c(\n",
    "  sum(group_A == 0), sum(group_A == 1),\n",
    "  sum(group_B == 0), sum(group_B == 1)\n",
    "), nrow = 2)\n",
    "\n",
    "print(data)\n",
    "\n",
    "# Perform Fisher's exact test\n",
    "result <- fisher.test(data)\n",
    "\n",
    "# Print the test result\n",
    "print(result)"
   ]
  },
  {
   "cell_type": "code",
   "execution_count": null,
   "id": "342373ae-e275-4c40-9d3c-f2e6d7d92c96",
   "metadata": {
    "tags": []
   },
   "outputs": [],
   "source": [
    "# library(ggplot2)\n",
    "# library(ggforce)\n",
    "# p3 <- DimPlot(merged_cog, reduction = 'wnn.umap', group.by = 'cog_cluster_diagnosis', label = FALSE,\n",
    "#               raster = NULL,shape.by = 'diagnosis_info',pt.size=5,shuffle=TRUE,seed=3,label.box=TRUE,\n",
    "#               repel = TRUE, label.size = 4,cols=diagnosis_colors) +\n",
    "#   theme(\n",
    "#     legend.text = element_text(size = 20),   # Adjust legend font size\n",
    "#     legend.title = element_text(size = 16),  # Adjust legend title font size\n",
    "#     axis.title = element_text(size = 16),    # Adjust axis title font size\n",
    "#     axis.text = element_text(size = 16)      # Adjust axis tick label font size\n",
    "#   )\n",
    "\n",
    "# unique_diagnoses <- unique(merged_cog$simplified_diagnosis)\n",
    "# unique_diagnoses <- unique(merged_cog$cog_cluster_diagnosis)\n",
    "# unique_diagnoses\n",
    "# unique_diagnoses <- c('AD','DEM,SICC',\n",
    "#                       'CBD','FTD',\n",
    "#                       # 'AD,ENCEPHA,VE','ATAXIA','CON','DEM,ENCEPHA,VE',\n",
    "#                       'DLB','PSYCH'#'PD','PD,AD','DLB,SICC'\n",
    "#                      )\n",
    "# returns <- generate_dim_plot(merged_cog, unique_diagnoses,diag='simplified_diagnosis',p3)\n",
    "# out_ids <- returns[[1]]            \n",
    "# returns[[2]]\n",
    "\n",
    "# # unique_diagnoses <- c('other_dem','VD','DLB','ATAXIA')\n",
    "# # unique_diagnoses <- unique(merged_seurat$simplified_diagnosis)\n",
    "# # returns <- generate_dim_plot(merged_seurat, unique_diagnoses)\n",
    "# # out_ids <- returns[[1]]            \n",
    "# # returns[[2]]\n",
    "\n",
    "######################################################################################################################\n",
    "# results_list <- list()\n",
    "# # unique_diagnoses <- c('AD','CON','MS','FTD','PD','PSYCH')\n",
    "# unique_diagnoses <- c('AD','DEM,SICC',\n",
    "#                       'CBD','FTD',\n",
    "#                       'AD,ENCEPHA,VE','ATAXIA','CON','DEM,ENCEPHA,VE',\n",
    "#                       'DLB','PSYCH','PD','PD,AD','DLB,SICC'\n",
    "#                      )\n",
    "# # unique_diagnoses <- c('AD','FTD')\n",
    "# variables_to_loop <- c(\"model_and_clinic1\",\"model_and_clinic2\", \"clin1\", \"clin2\")#, \n",
    "# combined_results <- coherent_analysis(unique_diagnoses, variables_to_loop, merged_cog,out_ids)\n",
    "# # combined_results\n",
    "\n",
    "# result_summary <- combined_results %>%\n",
    "#   group_by(method) %>%\n",
    "#   summarize(average_average_effect = mean(average_effect))\n",
    "# result_summary\n",
    "# # Print the summary\n",
    "# print(result_summary)\n",
    "# options(repr.plot.width = 12, repr.plot.height = 8)\n",
    "# plot <- ggplot(combined_results, aes(x = diagnosis, y = coh_inside_effect, fill = method)) +\n",
    "#   geom_bar(stat = \"identity\", position = \"dodge\") +\n",
    "#   labs(title = \"Bar Plot of coh_inside_effect by Diagnosis and Method\",\n",
    "#        x = \"Diagnosis\",\n",
    "#        y = \"coh_inside_effect\") +\n",
    "#   theme_minimal() +\n",
    "#   theme(axis.text.x = element_text(angle = 45, hjust = 1))\n",
    "# plot\n",
    "\n",
    "# plot <- ggplot(combined_results, aes(x = diagnosis, y = non_coh_outside_effect, fill = method)) +\n",
    "#   geom_bar(stat = \"identity\", position = \"dodge\") +\n",
    "#   labs(title = \"Bar Plot of non_coh_outside_effect by Diagnosis and Method\",\n",
    "#        x = \"Diagnosis\",\n",
    "#        y = \"non_coh_outside_effect\") +\n",
    "#   theme_minimal() +\n",
    "#   theme(axis.text.x = element_text(angle = 45, hjust = 1))\n",
    "# plot\n",
    "\n",
    "# plot <- ggplot(combined_results, aes(x = diagnosis, y = average_effect, fill = method)) +\n",
    "#   geom_bar(stat = \"identity\", position = \"dodge\") +\n",
    "#   labs(title = \"Bar Plot of average_effect by Diagnosis and Method\",\n",
    "#        x = \"Diagnosis\",\n",
    "#        y = \"average_effect\") +\n",
    "#   theme_minimal() +\n",
    "#   theme(axis.text.x = element_text(angle = 45, hjust = 1))\n",
    "# plot\n",
    "\n",
    "######################################################################################################################\n",
    "# options(repr.plot.width = 15, repr.plot.height = 15)\n",
    "\n",
    "# library(ggplot2)\n",
    "# library(ggforce)\n",
    "# unique_diagnoses <- unique(merged_cog$simplified_diagnosis)\n",
    "# unique_diagnoses\n",
    "# unique_diagnoses <- c('AD','other_dem','FTD')\n",
    "# plot <- generate_dim_plot(merged_cog,unique_diagnoses)\n",
    "# plot\n",
    "\n",
    "######################################################################################################################\n",
    "# options(repr.plot.width = 12, repr.plot.height = 8)\n",
    "# p_values_df <- calculate_p_values(merged_cog,diagnosis_column=\"cog_cluster_diagnosis\")\n",
    "# corrected_p_values_df <- p_values_df %>%\n",
    "#   mutate(across(everything(), ~ p.adjust(.x, method = \"BH\")))\n",
    "# corrected_p_values_df\n",
    "# plot <- plot_cluster_diagnosis(merged_cog,corrected_p_values_df,diagnosis_column=\"cog_cluster_diagnosis\")\n",
    "\n",
    "# plot\n",
    "\n",
    "# ###### FUNCTION THAT LOOKS FOR OVERREPRESENTATION OF DIAGNOSES\n",
    "\n",
    "\n",
    "######################################################################################################################\n",
    "# options(repr.plot.width = 12, repr.plot.height = 6)\n",
    "\n",
    "# variables_to_loop <- c(\"model_and_clinic1\",\"model_and_clinic2\",\"model_and_clinic3\",\"model_and_clinic4\", \"clin1\", \"clin2\")#,\n",
    "# ###### FUNCTION THAT LOOKS FOR OVERREPRESENTATION OF DIAGNOSES\n",
    "# # head(merged_cog@meta.data)\n",
    "# diagnoses <- c('AD','DEM,SICC','FTD_undefined','VD','FTD,FTD-TDP_undefined','AD,DLB',\n",
    "#                'DLB,SICC','DEM,SICC,AGD','FTD,FTD-TDP-B,C9ORF72','DEM,ENCEPHA,VE','PSYCH',\n",
    "#                'AD,CA','CBD','FTD,FTD-TDP-A,PROG','MS','FTD,PID','AD,ENCEPHA,VE','FTD,FTD-TAU,TAU',\n",
    "#                'PSP','PD','CON','DLB','FTD,FTD-TDP,MND','ATAXIA','FTD,FTD-FUS','FTD,FTD-TDP-C','PD,AD','MSA','MS_undefined')\n",
    "# ## for simplified\n",
    "# # diagnoses <- c('AD','DLB','FTD')\n",
    "# ## for uitgesplitst\n",
    "# diagnoses <- c('AD','DLB','FTD,FTD-TDP_undefined','AD,DLB','FTD,FTD-TDP-B,C9ORF72','FTD,PID')\n",
    "# p_values_df_diag <- calculate_p_values_diag(merged_cog,diagnosis_column = \"cog_cluster_diagnosis\",variable_to_loop='model_and_clinic3',diagnoses,verbose=FALSE)\n",
    "# p_values_df_diag\n",
    "# corrected_p_values_diag <- p_values_df_diag %>%\n",
    "#   mutate(across(everything(), ~ p.adjust(.x, method = \"BH\")))\n",
    "# corrected_p_values_diag\n",
    "# # # print(corrected_p_values_df)\n",
    "# plot <- plot_cluster_diagnosis_diag(merged_cog,corrected_p_values_df,diagnosis_column = \"cog_cluster_diagnosis\",color='white',corrected_p_values_diag)     \n",
    "# plot\n",
    "\n",
    "\n",
    "\n",
    "######################################################################################################################\n",
    "\n",
    "\n",
    "######################################################################################################################\n",
    "# options(repr.plot.width = 7, repr.plot.height = 6)\n",
    "# VlnPlot(\n",
    "#   object = merged_cog,\n",
    "#   features = 'Age',\n",
    "#   pt.size=0,  \n",
    "#   split.by='sex',\n",
    "#   split.plot=TRUE\n",
    "#   # group.by = 'seurat_clusters',\n",
    "#   # cols = viridis(length(unique(merged_cog$seurat_clusters)), option = 'D'),\n",
    "# )\n",
    "# # VlnPlot(\n",
    "# #   object = merged_cog,\n",
    "# #   features = 'File',\n",
    "# #   # group.by = 'seurat_clusters',\n",
    "# #   # cols = viridis(length(unique(merged_cog$seurat_clusters)), option = 'D'),\n",
    "# #   pt.size = 0\n",
    "# # )\n",
    "\n",
    "# ad <- data.frame(cluster = Idents(merged_cog), Age=merged_cog@meta.data$Age)\n",
    "# mean_age_per_cluster <- ad %>%\n",
    "#   group_by(cluster) %>%\n",
    "#   summarise(mean_age = mean(Age),std_age = sd(Age),max=max(Age))\n",
    "# pairwise_kruskal <- pairwise.wilcox.test(ad$Age, ad$cluster, p.adjust.method = \"bonferroni\")\n",
    "# significant_pairs <- data.frame(from = character(), to = character(), p.value = numeric())\n",
    "# print(mean_age_per_cluster)\n",
    "# for (i in 1:nrow(pairwise_kruskal$p.value)) {\n",
    "#   for (j in 1:ncol(pairwise_kruskal$p.value)) {\n",
    "#     if (!is.na(pairwise_kruskal$p.value[i, j]) && pairwise_kruskal$p.value[i, j] >= 0.05) {\n",
    "#       significant_pairs <- rbind(significant_pairs, data.frame(from = rownames(pairwise_kruskal$p.value)[i],\n",
    "#                                                                to = colnames(pairwise_kruskal$p.value)[j],\n",
    "#                                                                p.value = pairwise_kruskal$p.value[i, j]))\n",
    "#     }\n",
    "#   }\n",
    "# }\n",
    "# significant_pairs$to = as.integer(significant_pairs$to)\n",
    "# significant_pairs$dist = abs(as.integer(significant_pairs$to) - as.integer(significant_pairs$from))\n",
    "# significant_pairs <- significant_pairs %>%\n",
    "#   arrange(desc(dist),to)%>%\n",
    "#   mutate(height = 150 - (row_number() -1) * 5)\n",
    "# significant_pairs$p.star[significant_pairs$p.value < 0.05] <- \"*\"\n",
    "# significant_pairs$p.star[significant_pairs$p.value < 0.005] <- \"**\"\n",
    "# significant_pairs$p.star[significant_pairs$p.value < 0.0005] <- \"***\"\n",
    "# significant_pairs#$to\n",
    "# g <- VlnPlot(\n",
    "#   object = merged_cog,\n",
    "#   features = 'Age',\n",
    "#   pt.size=0,  \n",
    "#   split.by='sex',\n",
    "#   split.plot=TRUE\n",
    "#   )+ scale_y_continuous(limits = c(0,150))+ geom_signif(\n",
    "#     y_position = significant_pairs$height, xmin = significant_pairs$to+1, xmax = significant_pairs$from,\n",
    "#     annotation = 'NS', tip_length = 0.02\n",
    "#   )\n",
    "# g\n",
    "\n",
    "######################################################################################################################\n",
    "# ## to do: zoek de verschillen tussen MS-SP\n",
    "# ad <- data.frame(cluster = Idents(merged_cog), diagnosis = merged_cog$simplified_diagnosis,Age=merged_cog@meta.data$Age)\n",
    "# ad <- ad %>%\n",
    "#   filter(diagnosis == \"AD\" )\n",
    "# head(ad) \n",
    "# mean_age_per_cluster <- ad %>%\n",
    "#   group_by(cluster) %>%\n",
    "#   summarise(mean_age = mean(Age),std_age = sd(Age))\n",
    "\n",
    "# print(mean_age_per_cluster)\n",
    "# cluster_1 <- subset(ad, cluster == \"0\")\n",
    "# cluster_2 <- subset(ad, cluster == \"1\")\n",
    "\n",
    "# # Perform Mann-Whitney U test\n",
    "# mwu_result <- wilcox.test(cluster_1$Age, cluster_2$Age)\n",
    "\n",
    "# # Summarize Mann-Whitney U test results\n",
    "# print(mwu_result)\n",
    "\n",
    "# ggplot(ad, aes(x = cluster, y = Age, fill = cluster)) +\n",
    "#   geom_violin() +\n",
    "#   labs(x = \"Cluster\", y = \"Age\") + theme_minimal()\n",
    "\n"
   ]
  },
  {
   "cell_type": "code",
   "execution_count": null,
   "id": "804cb182-9fd1-4f35-8722-f77eb0eabc77",
   "metadata": {},
   "outputs": [],
   "source": [
    "# head(merged_seurat@meta.data)\n",
    "cog_df <- data.frame(DonorID = rownames(merged_cog@meta.data), cog_clusters = merged_cog@meta.data$seurat_clusters)\n",
    "# head(df2)\n",
    "# seurat_clusters <- merge(df, cluster_df, by = \"DonorID\", all.x = TRUE)\n",
    "cogmain <- merge(seurat_clusters, cog_df, by = \"DonorID\", all.x = TRUE)\n",
    "tail(cogmain)\n",
    "write.csv(cogmain, file = '/home/jupyter-n.mekkes@gmail.com-f6d87/clinical_analysis/data/seurat_output.csv', row.names = FALSE)\n"
   ]
  },
  {
   "cell_type": "markdown",
   "id": "2b02c8aa-eab1-48d1-9b48-7149fdf1b249",
   "metadata": {},
   "source": [
    "### MS cluster"
   ]
  },
  {
   "cell_type": "code",
   "execution_count": null,
   "id": "9af31db6-3f8f-4891-9310-be608d879738",
   "metadata": {
    "tags": []
   },
   "outputs": [],
   "source": [
    "ms_cluster <- subset(merged_seurat, idents = c(4))\n",
    "Assays(ms_cluster)\n"
   ]
  },
  {
   "cell_type": "code",
   "execution_count": null,
   "id": "b32515ec-61f0-4e3e-971e-d2c3109b190e",
   "metadata": {},
   "outputs": [],
   "source": [
    "# seurat_object[['simplified_diagnosis']] <- meta_data[match(names(seurat_object$orig.ident), rownames(meta_data)),'simplified_diagnosis']\n",
    "ms_cluster$ms_cluster_diagnosis <- ms_cluster$diagnosis\n",
    "\n",
    "ms_cluster$ms_cluster_diagnosis <- gsub(\"ATAXIA,FA\", \"ATAXIA\", ms_cluster$ms_cluster_diagnosis)\n",
    "ms_cluster$ms_cluster_diagnosis <- gsub(\"ATAXIA,SCA\", \"ATAXIA\", ms_cluster$ms_cluster_diagnosis)\n",
    "ms_cluster$ms_cluster_diagnosis <- gsub(\"ATAXIA,ADCA\", \"ATAXIA\", ms_cluster$ms_cluster_diagnosis)\n",
    "ms_cluster$ms_cluster_diagnosis <- gsub(\"PSYCH,MDD\", \"PSYCH\", ms_cluster$ms_cluster_diagnosis)\n",
    "ms_cluster$ms_cluster_diagnosis <- gsub(\"FTD,FTD-TDP-B,C9ORF72\", \"FTD\", ms_cluster$ms_cluster_diagnosis)\n",
    "ms_cluster$ms_cluster_diagnosis <- gsub(\"CBD\", \"other_dem\", ms_cluster$ms_cluster_diagnosis)\n",
    "ms_cluster$ms_cluster_diagnosis <- gsub(\"MND,ALS\", \"ALS\", ms_cluster$ms_cluster_diagnosis)\n",
    "ms_cluster$ms_cluster_diagnosis <- gsub(\"DEM,SICC\", \"other_dem\", ms_cluster$ms_cluster_diagnosis)\n",
    "ms_cluster$ms_cluster_diagnosis <- gsub(\"AD,DLB\", \"other_dem\", ms_cluster$ms_cluster_diagnosis)\n",
    "ms_cluster$ms_cluster_diagnosis <- gsub(\"FTD,FTD-TDP,MND\", \"FTD\", ms_cluster$ms_cluster_diagnosis)\n",
    "\n",
    "\n",
    "table(ms_cluster[['ms_cluster_diagnosis']])\n",
    "table(ms_cluster[['simplified_diagnosis']])\n",
    "# ms_cluster[['ms_cluster_diagnosis']]"
   ]
  },
  {
   "cell_type": "code",
   "execution_count": null,
   "id": "7e7448cb-b8db-4842-ad73-7f935256fae2",
   "metadata": {
    "tags": []
   },
   "outputs": [],
   "source": [
    "DefaultAssay(ms_cluster) <- 'FLAT'\n",
    "all.symptombins <- rownames(ms_cluster[[\"FLAT\"]])\n",
    "ms_cluster <- NormalizeData(ms_cluster,normalization.method = \"LogNormalize\", scale.factor = 100)\n",
    "ms_cluster <- ScaleData(ms_cluster, features = all.symptombins,do.center = TRUE,scale.max = 10, model.use = \"linear\")\n",
    "ms_cluster <- FindVariableFeatures(ms_cluster, selection.method = \"vst\", nfeatures = 1500)\n",
    "ms_cluster <- perform_pca_and_visualization(ms_cluster,rname='pca')\n",
    "print(ElbowPlot(ms_cluster,reduction='pca'))\n",
    "ms_cluster <- JackStraw(ms_cluster, num.replicate = 100,assay='FLAT')\n",
    "ms_cluster <- ScoreJackStraw(ms_cluster, dims = 1:20)\n",
    "print(JackStrawPlot(ms_cluster, dims = 1:20))"
   ]
  },
  {
   "cell_type": "code",
   "execution_count": null,
   "id": "f9ab6b04-26f8-4846-9659-157e4ecbb96b",
   "metadata": {
    "tags": []
   },
   "outputs": [],
   "source": [
    "DefaultAssay(ms_cluster) <- 'TEMP'\n",
    "all.symptombins <- rownames(ms_cluster[[\"TEMP\"]])\n",
    "ms_cluster <- NormalizeData(ms_cluster,normalization.method = \"LogNormalize\", scale.factor = 100)\n",
    "ms_cluster <- ScaleData(ms_cluster, features = all.symptombins,do.center = TRUE,scale.max = 10, model.use = \"linear\")\n",
    "ms_cluster <- FindVariableFeatures(ms_cluster, selection.method = \"vst\", nfeatures = 1500)\n",
    "ms_cluster <- perform_pca_and_visualization(ms_cluster,rname='apca') ## change to pca for plots\n",
    "# print(ElbowPlot(temp,reduction='apca')) ## change to pcs for plots\n",
    "# temp <- JackStraw(temp, num.replicate = 100,assay='TEMP')\n",
    "# temp <- ScoreJackStraw(temp, dims = 1:20)\n",
    "# print(JackStrawPlot(temp, dims = 1:20))\n",
    "print(ElbowPlot(ms_cluster,reduction='apca'))"
   ]
  },
  {
   "cell_type": "code",
   "execution_count": null,
   "id": "08c87638-aae7-4440-8d0f-554e83147a69",
   "metadata": {
    "tags": []
   },
   "outputs": [],
   "source": [
    "ms_cluster <- FindMultiModalNeighbors(\n",
    "    ms_cluster,\n",
    "    reduction.list = list(\"pca\", \"apca\"),\n",
    "    dims.list = list(1:3, 1:15), modality.weight.name = list(\"FLAT.weight\",\"TEMP.weight\")\n",
    "    # dims.list = list(1:3, 1:7), modality.weight.name = list(\"FLAT.weight\",\"TEMP.weight\")\n",
    ")"
   ]
  },
  {
   "cell_type": "code",
   "execution_count": null,
   "id": "8801b04a-ab86-41d5-a691-c4aeb9143af3",
   "metadata": {},
   "outputs": [],
   "source": [
    "ms_cluster <- RunUMAP(ms_cluster,\n",
    "                      # dims = 1:10,\n",
    "                      nn.name = \"weighted.nn\",\n",
    "                      reduction.name = \"wnn.umap\",\n",
    "                      reduction.key = \"wnnUMAP_\",\n",
    "                      verbose=FALSE  \n",
    ")\n",
    "ms_cluster <- FindClusters(ms_cluster,\n",
    "                              resolution = 0.3,\n",
    "                              graph.name = \"wsnn\",\n",
    "                              algorithm = 3,\n",
    "                              verbose = TRUE)"
   ]
  },
  {
   "cell_type": "code",
   "execution_count": null,
   "id": "5269c510-bbf9-49a7-b9a7-fd00b065bf0b",
   "metadata": {
    "tags": []
   },
   "outputs": [],
   "source": [
    "w = 12\n",
    "h = 7.5\n",
    "pticksize = 40\n",
    "options(repr.plot.width = w, repr.plot.height = h)\n",
    "p1 <- DimPlot(ms_cluster, reduction = 'wnn.umap', label = FALSE, repel = TRUE, shape.by = 'clin_coherence',\n",
    "              label.size = 5,pt.size=4,cols=\"Dark2\",shuffle=TRUE) +\n",
    "    theme(axis.title.x = element_text(size = pticksize),\n",
    "                axis.title.y = element_text(size = pticksize),\n",
    "                legend.text = element_text(size = pticksize),\n",
    "                axis.text.x = element_text(size = pticksize),\n",
    "          # legend.position = \"none\",\n",
    "               axis.text.y = element_text(size = pticksize))#+ #coord_cartesian(xlim = c(-3, 3.5), ylim = c(-3, 3))+\n",
    "    # scale_x_continuous(breaks = c(-3,-2,-1, 0,1,2, 3)) + # Add x-axis tick marks at -3, 0, and 3+\n",
    "    # scale_y_continuous(breaks = c(-3,-2,-1, 0,1,2, 3))  # Add x-axis tick marks at -3, 0, and 3\n",
    "\n",
    "\n",
    "# p2 <- DimPlot(psych_cluster, reduction = 'wnn.umap', group.by = 'ms_cluster_diagnosis', label = TRUE, repel = TRUE, label.size = 2.5,cols=diagnosis_colors) \n",
    "p3 <- DimPlot(ms_cluster, reduction = 'wnn.umap', group.by = 'ms_cluster_diagnosis', label = FALSE, #cog_cluster_diagnosis\n",
    "              raster = NULL,pt.size=4,shuffle=TRUE,seed=3,label.box=FALSE, shape.by = 'clin_coherence',\n",
    "              repel = TRUE, label.size = 4,cols=diagnosis_colors) +\n",
    "    theme(axis.title.x = element_text(size = pticksize),\n",
    "               axis.title.y = element_text(size = pticksize),\n",
    "               legend.text = element_text(size = pticksize),\n",
    "          # legend.position = \"none\",\n",
    "               axis.text.x = element_text(size = pticksize),\n",
    "               axis.text.y = element_text(size = pticksize))+ #coord_cartesian(xlim = c(-3, 3.5), ylim = c(-3, 3))+\n",
    "    # scale_x_continuous(breaks = c(-3,-2,-1, 0,1,2, 3)) + # Add x-axis tick marks at -3, 0, and 3+\n",
    "    # scale_y_continuous(breaks = c(-3,-2,-1, 0,1,2, 3)) + # Add x-axis tick marks at -3, 0, and 3\n",
    "    labs(title = \"\")  # Remove plot title\n",
    "p1\n",
    "# w = 12\n",
    "# h = 10\n",
    "options(repr.plot.width = w, repr.plot.height = h)\n",
    "p3\n",
    "\n",
    "# Save p1 to a PDF file\n",
    "ggsave(\"/home/jupyter-n.mekkes@gmail.com-f6d87/clinical_history/final_predictions/figures/seurat/ms/dimplot_ms_cluster.pdf\", plot = p1, width = w, height = h,dpi=300)\n",
    "\n",
    "# Save p3 to a PDF file\n",
    "ggsave(\"/home/jupyter-n.mekkes@gmail.com-f6d87/clinical_history/final_predictions/figures/seurat/ms/dimplot_ms_diagnosis.pdf\", plot = p3, width = w, height = h,dpi=300)"
   ]
  },
  {
   "cell_type": "code",
   "execution_count": null,
   "id": "00b63cd1-79a0-43cc-b172-eed915b12de0",
   "metadata": {},
   "outputs": [],
   "source": [
    "## add circle\n",
    "# w = 10\n",
    "# h = 10\n",
    "unique_diagnoses <- table(ms_cluster$ms_cluster_diagnosis) #cog_cluster_diagnosis\n",
    "unique_diagnoses\n",
    "names(unique_diagnoses[unique_diagnoses > 10])\n",
    "diagnoses <- c('MND','MND_other','MSA','CON','ATAXIA')\n",
    "# diagnoses <- names(unique_diagnoses[unique_diagnoses > 10])\n",
    "# diagnoses\n",
    "options(repr.plot.width = w, repr.plot.height = h)\n",
    "# ############### FUNCTION TO MAKE A DIMPLOT WITH CIRCLES AROUND DIAGNOSES OF INTEREST #######\n",
    "# ## returns a plot and a list of donorids for each diagnosis that are 'outside' the circle\n",
    "returns <- generate_dim_plot(ms_cluster, diagnoses,diag='simplified_diagnosis',p3) #cog_cluster_diagnosis\n",
    "returns[[2]]\n",
    "ggsave(\"/home/jupyter-n.mekkes@gmail.com-f6d87/clinical_history/final_predictions/figures/seurat/ms/dimplot_ms_diagnosis.pdf\", plot = returns[[2]], width = w, height = h,dpi=300)"
   ]
  },
  {
   "cell_type": "markdown",
   "id": "0f5830b0-0e24-4153-b3c3-626b52d3d998",
   "metadata": {},
   "source": [
    "##### identity bars\n",
    "for cog we do the coherence analysis"
   ]
  },
  {
   "cell_type": "code",
   "execution_count": null,
   "id": "db26c547-a4ee-4d8c-a9d4-f973a7baab50",
   "metadata": {},
   "outputs": [],
   "source": [
    "w = 20\n",
    "h = 7\n",
    "options(repr.plot.width = w, repr.plot.height = h)\n",
    "# p_values_df <- calculate_p_values(ms_cluster,diagnosis_column = \"ms_cluster_diagnosis\") #cog_cluster_diagnosis\n",
    "\n",
    "# unique(rownames(p_values_df))\n",
    "# corrected_p_values_df <- p_values_df %>%\n",
    "#   mutate(across(everything(), ~ p.adjust(.x, method = \"BH\")))\n",
    "# # p_values_df\n",
    "# # corrected_p_values_df\n",
    "\n",
    "\n",
    "# # diagnoses <- c('AD','FTD','MS','ATAXIA','DLB','MSA','PD','MND','PSP','CON','VD')\n",
    "# # # diagnoses <- c('MS')\n",
    "# diagnoses <- unique(rownames(p_values_df))\n",
    "# # diagnoses <- names(unique_diagnoses[unique_diagnoses > 10])\n",
    "# p_values_df_diag <- calculate_p_values_diag(ms_cluster,diagnosis_column = \"ms_cluster_diagnosis\",\n",
    "#                                             variable_to_loop='clin_coherence',diagnoses,verbose=FALSE)\n",
    "\n",
    "# # p_values_df_diag\n",
    "# corrected_p_values_diag <- p_values_df_diag %>%\n",
    "#   mutate(across(everything(), ~ p.adjust(.x, method = \"BH\")))\n",
    "# # corrected_p_values_diag\n",
    "\n",
    "# # # print(corrected_p_values_df)\n",
    "# identitybars <- plot_cluster_diagnosis_diag(ms_cluster,corrected_p_values_df,\n",
    "#                                             diagnosis_column = \"ms_cluster_diagnosis\",color='white',corrected_p_values_diag)     \n",
    "# identitybars <- identitybars + theme(axis.title.x = element_text(size = 24),\n",
    "#            axis.title.y = element_text(size = 24),\n",
    "#            legend.text = element_text(size = 24),\n",
    "#            axis.text.x = element_text(size = 24),\n",
    "#            axis.text.y = element_text(size = 24))#+ coord_cartesian(xlim = c(-6, 6), ylim = c(-6, 6))\n",
    "# identitybars\n",
    "# ggsave(\"/home/jupyter-n.mekkes@gmail.com-f6d87/clinical_history/final_predictions/figures/seurat/ms/identitybars_ms_cluster.pdf\",\n",
    "#        plot = identitybars, width = w, height = h,dpi=300)\n",
    "\n",
    "# library(tidyverse)\n",
    "# options(repr.plot.width = 12, repr.plot.height = 12)\n",
    "# diagnoses <- c('AD','FTD','MS','ATAXIA','DLB','MSA','PD','MND','PSP','CON','VD','PSYCH')\n",
    "table(ms_cluster@meta.data$ms_cluster_diagnosis)\n",
    "diagnoses <- rownames(table(ms_cluster@meta.data$ms_cluster_diagnosis))\n",
    "print(list(diagnoses))\n",
    "known_clin_diag <-  c('ALS',\"ATAXIA\",\"CON\",\"MS_undefined\",\"MS,MS-PP\",\"MS,MS-RR\",\"MS,MS-SP\",\"MSA\",\"VD\")\n",
    "print(known_clin_diag)\n",
    "# diagnoses <- c('MS')\n",
    "p_values <- calculate_p_values_diag(ms_cluster,diagnosis_column = \"ms_cluster_diagnosis\",variable_to_loop='clin_coherence',diagnoses, known_clin_diag, verbose=FALSE)\n",
    "# p_values_df_diag\n",
    "\n",
    "p_values_diagnoses <- p_values$p_values\n",
    "p_values_coherence <- p_values$p_values_diag\n",
    "\n",
    "p_values_diagnoses <- p_values_diagnoses %>%\n",
    "  spread(key = Cluster, value = P_Value)\n",
    "rownames(p_values_diagnoses) <- p_values_diagnoses$Diagnosis\n",
    "p_values_diagnoses <- p_values_diagnoses[, -1]\n",
    "# print(p_values_diagnoses)\n",
    "p_values_diagnoses <- p_values_diagnoses %>%\n",
    "  mutate(across(everything(), ~ p.adjust(.x, method = \"BH\")))\n",
    "p_values_diagnoses\n",
    "\n",
    "p_values_coherence <- p_values_coherence %>%\n",
    "  spread(key = Cluster, value = P_Value)\n",
    "rownames(p_values_coherence) <- p_values_coherence$Diagnosis\n",
    "p_values_coherence <- p_values_coherence[, -1]\n",
    "# print(p_values_coherence)\n",
    "p_values_coherence <- p_values_coherence %>%\n",
    "  mutate(across(everything(), ~ p.adjust(.x, method = \"BH\")))\n",
    "p_values_coherence\n",
    "\n",
    "\n",
    "\n",
    "identitybars <- plot_cluster_diagnosis_diag(ms_cluster,p_values_diagnoses,diagnosis_column = \"ms_cluster_diagnosis\",color='white',p_values_coherence)     \n",
    "identitybars <- identitybars + theme(axis.title.x = element_text(size = 24),\n",
    "           axis.title.y = element_text(size = 24),\n",
    "           legend.text = element_text(size = 24),\n",
    "           axis.text.x = element_text(size = 24),\n",
    "           axis.text.y = element_text(size = 24))#+ coord_cartesian(xlim = c(-6, 6), ylim = c(-6, 6))\n",
    "identitybars\n",
    "ggsave(\"/home/jupyter-n.mekkes@gmail.com-f6d87/clinical_history/final_predictions/figures/seurat/ms/identitybars_ms_cluster.pdf\", plot = identitybars, width = w, height = h,dpi=300)\n",
    "\n",
    "\n"
   ]
  },
  {
   "cell_type": "markdown",
   "id": "110960af-43fc-4046-9c21-c8d80f1da27b",
   "metadata": {},
   "source": [
    "##### plot on original cluster"
   ]
  },
  {
   "cell_type": "code",
   "execution_count": null,
   "id": "7295a57c-655b-475d-96d5-e2a3e702d488",
   "metadata": {},
   "outputs": [],
   "source": [
    "w = 10\n",
    "h = 7.5\n",
    "options(repr.plot.width = w, repr.plot.height = h)\n",
    "pticksize = 40\n",
    "mscells <- WhichCells(merged_seurat, idents = c( \"4\"))\n",
    "ms_highlight <- DimPlot(merged_seurat, reduction = 'wnn.umap',label = FALSE,cells.highlight = mscells,cols.highlight='black',sizes.highlight=2,\n",
    "              raster = NULL,pt.size=1.5,shuffle=TRUE,seed=3,label.box=FALSE,\n",
    "              repel = TRUE, label.size = 4)\n",
    "ms_highlight\n",
    "# Save to a PDF file\n",
    "ggsave(\"/home/jupyter-n.mekkes@gmail.com-f6d87/clinical_history/final_predictions/figures/seurat/ms/highlight.pdf\",\n",
    "       plot = ms_highlight, width = w, height = h,dpi=300)\n"
   ]
  },
  {
   "cell_type": "markdown",
   "id": "5deb8593-d13f-43a3-9a6a-bc1925eae5ca",
   "metadata": {},
   "source": [
    "##### heatmap"
   ]
  },
  {
   "cell_type": "code",
   "execution_count": null,
   "id": "7db3a8d0-4182-4987-a68c-5e10cca1d06c",
   "metadata": {},
   "outputs": [],
   "source": [
    "DefaultAssay(ms_cluster) <- 'FLAT'\n",
    "extended_cluster_markers_flat = find_extended_cluster_markers(ms_cluster,0.05,method='all',assay='FLAT',verbose=FALSE) \n",
    "\n",
    "DefaultAssay(ms_cluster) <- 'TEMP'\n",
    "extended_cluster_markers_temp = find_extended_cluster_markers(ms_cluster,0.05,method='all',assay='TEMP',verbose=FALSE) \n",
    "\n",
    "file_path <- \"/home/jupyter-n.mekkes@gmail.com-f6d87/clinical_analysis/clustermarkers/\"\n",
    "file_name_flat <- \"msclustermarkerflattened.xlsx\"\n",
    "file_name_temp <- \"msclustermarkertemporal.xlsx\"\n",
    "flat_path <- paste0(file_path, file_name_flat)\n",
    "temp_path <- paste0(file_path, file_name_temp)\n",
    "write.xlsx(extended_cluster_markers_flat, flat_path, row.names = FALSE)\n",
    "write.xlsx(extended_cluster_markers_temp, temp_path, row.names = FALSE)\n"
   ]
  },
  {
   "cell_type": "code",
   "execution_count": null,
   "id": "ff598ce2-25ae-4a9b-a3ac-7e56d8243556",
   "metadata": {},
   "outputs": [],
   "source": [
    "returns <- create_marker_df(extended_cluster_markers_temp, extended_cluster_markers_flat, sup3)\n",
    "w=8\n",
    "h=10\n",
    "combined_marker_list <- returns[[1]]\n",
    "inge_markers <- annotation_df[annotation_df$Domain %in% c(\"Cognitive\", \"Psychiatric\",\"General\"), ]$ITname\n",
    "inge_markers\n",
    "# combined_marker_list\n",
    "# # combined_marker_list\n",
    "annotation_df <- returns[[2]]\n",
    "# annotation_df\n",
    "savepath_main = \"/home/jupyter-n.mekkes@gmail.com-f6d87/clinical_history/final_predictions/figures/seurat/ms/heatmap_ms_cluster.pdf\"\n",
    "returns <- generate_heatmap_plot(ms_cluster,assay='FLAT', combined_marker_list, annotation_df,5,savepath=savepath_main)\n",
    "mainmarkers <- \"/home/jupyter-n.mekkes@gmail.com-f6d87/clinical_analysis/clustermarkers/combined_msmarkers.txt\"\n",
    "writeLines(returns, con = mainmarkers)\n",
    "returns"
   ]
  },
  {
   "cell_type": "code",
   "execution_count": null,
   "id": "a757ad31-0bba-4c1f-83c6-fb090b9c812a",
   "metadata": {
    "tags": []
   },
   "outputs": [],
   "source": [
    "options(repr.plot.width = 7, repr.plot.height = 6)\n",
    "VlnPlot(\n",
    "  object = ms_cluster,\n",
    "  features = 'Age',\n",
    "  pt.size=0,  \n",
    "  split.by='sex',\n",
    "  split.plot=TRUE\n",
    "  # group.by = 'seurat_clusters',\n",
    "  # cols = viridis(length(unique(merged_cog$seurat_clusters)), option = 'D'),\n",
    ")\n",
    "\n",
    "# options(repr.plot.width = 7, repr.plot.height = 6)\n",
    "# VlnPlot(\n",
    "#   object = merged_cog,\n",
    "#   features = 'File',\n",
    "#   pt.size=0,  \n",
    "#   split.by='sex',\n",
    "#   split.plot=TRUE\n",
    "#   # group.by = 'seurat_clusters',\n",
    "#   # cols = viridis(length(unique(merged_cog$seurat_clusters)), option = 'D'),\n",
    "# )\n"
   ]
  },
  {
   "cell_type": "code",
   "execution_count": null,
   "id": "ad2573fa-f5b3-477f-bbb8-661ffdd1b7d6",
   "metadata": {},
   "outputs": [],
   "source": [
    "# apoe <- data.frame(DonorID = rownames(ms_cluster@meta.data),\n",
    "#                     seurat_clusters = ms_cluster@meta.data$seurat_clusters,\n",
    "#                     diagnosis = ms_cluster@meta.data[['simplified_diagnosis']],\n",
    "#                     quality =   ms_cluster@meta.data[['model_and_clinic3']],\n",
    "#                     apoe = ms_cluster@meta.data[['APOE']]\n",
    "# )    \n",
    "\n",
    "# apoe <- apoe %>%\n",
    "#   filter(seurat_clusters %in% c(0, 1)& !is.na(apoe)) %>%\n",
    "#   group_by(seurat_clusters, apoe) %>%\n",
    "#   summarise(count = n()) %>%\n",
    "#   ungroup() %>%\n",
    "#   group_by(seurat_clusters) %>%\n",
    "#   mutate(total_count = sum(count),\n",
    "#          percentage = (count / total_count) * 100)\n",
    "\n",
    "# # print(apoe)\n",
    "\n",
    "# apoe\n",
    "# data <- matrix(c(7, 104 - 7,14.4, 5, 92 - 5,23.7), ncol = 2)\n",
    "# rownames(data) <- c(\"APOE44\", \"Other Genotypes\",'percentage (%)')\n",
    "# colnames(data) <- c(\"Cluster 0\", \"Cluster 1\")\n",
    "\n",
    "# # Perform the chi-squared test\n",
    "# chisq.test(data)\n",
    "# data\n",
    "\n",
    "##############################################################################################################\n",
    "# ## to do: zoek de verschillen tussen MS-SP\n",
    "# sp <- data.frame(cluster = Idents(ms_cluster), diagnosis = ms_cluster$ms_cluster_diagnosis,Age=ms_cluster@meta.data$Age)\n",
    "# sp <- sp %>%\n",
    "#   filter(diagnosis == \"MS,MS-SP\" )\n",
    "# head(sp) \n",
    "# cluster_1 <- subset(sp, cluster == \"1\")\n",
    "# cluster_2 <- subset(sp, cluster == \"2\")\n",
    "\n",
    "# # Perform Mann-Whitney U test\n",
    "# mwu_result <- wilcox.test(cluster_1$Age, cluster_2$Age)\n",
    "\n",
    "# # Summarize Mann-Whitney U test results\n",
    "# print(mwu_result)\n",
    "\n",
    "# ggplot(sp, aes(x = cluster, y = Age, fill = cluster)) +\n",
    "#   geom_violin() +\n",
    "#   labs(x = \"Cluster\", y = \"Age\") + theme_minimal()\n",
    "\n",
    "##############################################################################################################\n",
    "# options(repr.plot.width = 7, repr.plot.height = 6)\n",
    "# VlnPlot(\n",
    "#   object = ms_cluster,\n",
    "#   features = 'Age',\n",
    "#   pt.size=0,  \n",
    "#   split.by='sex',\n",
    "#   split.plot=TRUE\n",
    "#   # group.by = 'seurat_clusters',\n",
    "#   # cols = viridis(length(unique(merged_cog$seurat_clusters)), option = 'D'),\n",
    "# )\n",
    "# ad <- data.frame(cluster = Idents(ms_cluster), Age=ms_cluster@meta.data$Age)\n",
    "# mean_age_per_cluster <- ad %>%\n",
    "#   group_by(cluster) %>%\n",
    "#   summarise(mean_age = mean(Age),std_age = sd(Age),max=max(Age))\n",
    "# pairwise_kruskal <- pairwise.wilcox.test(ad$Age, ad$cluster, p.adjust.method = \"bonferroni\")\n",
    "# significant_pairs <- data.frame(from = character(), to = character(), p.value = numeric())\n",
    "# print(mean_age_per_cluster)\n",
    "# for (i in 1:nrow(pairwise_kruskal$p.value)) {\n",
    "#   for (j in 1:ncol(pairwise_kruskal$p.value)) {\n",
    "#     if (!is.na(pairwise_kruskal$p.value[i, j]) && pairwise_kruskal$p.value[i, j] < 0.05) {\n",
    "#       significant_pairs <- rbind(significant_pairs, data.frame(from = rownames(pairwise_kruskal$p.value)[i],\n",
    "#                                                                to = colnames(pairwise_kruskal$p.value)[j],\n",
    "#                                                                p.value = pairwise_kruskal$p.value[i, j]))\n",
    "#     }\n",
    "#   }\n",
    "# }\n",
    "# significant_pairs$to = as.integer(significant_pairs$to)\n",
    "# significant_pairs$dist = abs(as.integer(significant_pairs$to) - as.integer(significant_pairs$from))\n",
    "# significant_pairs <- significant_pairs %>%\n",
    "#   arrange(desc(dist),to)%>%\n",
    "#   mutate(height = 150 - (row_number() -1) * 5)\n",
    "# significant_pairs$p.star[significant_pairs$p.value < 0.05] <- \"*\"\n",
    "# significant_pairs$p.star[significant_pairs$p.value < 0.005] <- \"**\"\n",
    "# significant_pairs$p.star[significant_pairs$p.value < 0.0005] <- \"***\"\n",
    "# significant_pairs#$to\n",
    "# g <- VlnPlot(\n",
    "#   object = ms_cluster,\n",
    "#   features = 'Age',\n",
    "#   pt.size=0,  \n",
    "#   split.by='sex',\n",
    "#   split.plot=TRUE\n",
    "#   )+ scale_y_continuous(limits = c(0,150))+ geom_signif(\n",
    "#     y_position = significant_pairs$height, xmin = significant_pairs$to+1, xmax = significant_pairs$from,\n",
    "#     annotation = significant_pairs$p.star, tip_length = 0.02\n",
    "#   )\n",
    "# g\n",
    "\n",
    "##############################################################################################################\n",
    "##############################################################################################################\n",
    "##############################################################################################################\n",
    "##############################################################################################################"
   ]
  },
  {
   "cell_type": "code",
   "execution_count": null,
   "id": "1b6da096-979a-4ed3-97c3-b57b7b105135",
   "metadata": {},
   "outputs": [],
   "source": [
    "# head(merged_seurat@meta.data)\n",
    "ms_df <- data.frame(DonorID = rownames(ms_cluster@meta.data),ms_clusters = ms_cluster@meta.data$seurat_clusters)\n",
    "# head(df2)\n",
    "# seurat_clusters <- merge(df, cluster_df, by = \"DonorID\", all.x = TRUE)\n",
    "ms <- merge(cogmain, ms_df, by = \"DonorID\", all.x = TRUE)\n",
    "tail(ms)\n",
    "write.csv(ms, file = '/home/jupyter-n.mekkes@gmail.com-f6d87/clinical_analysis/data/seurat_output.csv', row.names = FALSE)\n"
   ]
  },
  {
   "cell_type": "markdown",
   "id": "330680c3-8fb5-435a-a62a-f4218e044e80",
   "metadata": {},
   "source": [
    "# PD cluster"
   ]
  },
  {
   "cell_type": "code",
   "execution_count": null,
   "id": "35b8b24f-15e3-4f81-980c-5d071ecafcb0",
   "metadata": {
    "tags": []
   },
   "outputs": [],
   "source": [
    "pd_cluster <- subset(merged_seurat, idents = c(1))\n",
    "Assays(pd_cluster)"
   ]
  },
  {
   "cell_type": "code",
   "execution_count": null,
   "id": "74476d51-a05e-48b4-81d4-46444e9c1891",
   "metadata": {},
   "outputs": [],
   "source": [
    "# seurat_object[['simplified_diagnosis']] <- meta_data[match(names(seurat_object$orig.ident), rownames(meta_data)),'simplified_diagnosis']\n",
    "pd_cluster$pd_cluster_diagnosis <- pd_cluster$diagnosis\n",
    "\n",
    "# pd_cluster$pd_cluster_diagnosis <- gsub(\"AD,ENCEPHA,VE\", \"other_dem\", pd_cluster$pd_cluster_diagnosis)\n",
    "# pd_cluster$pd_cluster_diagnosis <- gsub(\"ATAXIA,SCA\", \"ATAXIA\", pd_cluster$pd_cluster_diagnosis)\n",
    "pd_cluster$pd_cluster_diagnosis <- gsub(\"DEM,ENCEPHA,VE\", \"other_dem\", pd_cluster$pd_cluster_diagnosis)\n",
    "# pd_cluster$pd_cluster_diagnosis <- gsub(\"AD,DLB\", \"other_dem\", pd_cluster$pd_cluster_diagnosis)\n",
    "pd_cluster$pd_cluster_diagnosis <- gsub(\"DEM,SICC\", \"other_dem\", pd_cluster$pd_cluster_diagnosis)\n",
    "# pd_cluster$pd_cluster_diagnosis <- gsub(\"PD,AD\", \"other_dem\", pd_cluster$pd_cluster_diagnosis)\n",
    "# pd_cluster$pd_cluster_diagnosis <- gsub(\"AD,CA\", \"other_dem\", pd_cluster$pd_cluster_diagnosis)\n",
    "# pd_cluster$pd_cluster_diagnosis <- gsub(\"CBD\", \"other_dem\", pd_cluster$pd_cluster_diagnosis)\n",
    "# pd_cluster$pd_cluster_diagnosis <- gsub(\"DLB,SICC\", \"FTD\", pd_cluster$pd_cluster_diagnosis)\n",
    "pd_cluster$pd_cluster_diagnosis <- gsub(\"FTD,FTD-TDP\", \"FTD-TDP\", pd_cluster$pd_cluster_diagnosis)\n",
    "pd_cluster$pd_cluster_diagnosis <- gsub(\"FTD,FTD-TDP,MND\", \"FTD\", pd_cluster$pd_cluster_diagnosis)\n",
    "pd_cluster$pd_cluster_diagnosis <- gsub(\"FTD,PID\", \"FTD\", pd_cluster$pd_cluster_diagnosis)\n",
    "pd_cluster$pd_cluster_diagnosis <- gsub(\"FTD,FTD-TAU,TAU\", \"FTD\", pd_cluster$pd_cluster_diagnosis)\n",
    "pd_cluster$pd_cluster_diagnosis <- gsub(\"FTD-TDP-A,PROG\", \"FTD\", pd_cluster$pd_cluster_diagnosis)\n",
    "pd_cluster$pd_cluster_diagnosis <- gsub(\"FTD-TDP-B,C9ORF72\", \"FTD\", pd_cluster$pd_cluster_diagnosis)\n",
    "pd_cluster$pd_cluster_diagnosis <- gsub(\"FTD-TDP,MND\", \"FTD\", pd_cluster$pd_cluster_diagnosis)\n",
    "pd_cluster$pd_cluster_diagnosis <- gsub(\"FTD-TDP_undefined\", \"FTD\", pd_cluster$pd_cluster_diagnosis)\n",
    "pd_cluster$pd_cluster_diagnosis <- gsub(\"ATAXIA,FA\", \"ATAXIA\", pd_cluster$pd_cluster_diagnosis)\n",
    "pd_cluster$pd_cluster_diagnosis <- gsub(\"ATAXIA,SCA\", \"ATAXIA\", pd_cluster$pd_cluster_diagnosis)\n",
    "pd_cluster$pd_cluster_diagnosis <- gsub(\"ATAXIA,FXTAS\", \"ATAXIA\", pd_cluster$pd_cluster_diagnosis)\n",
    "\n",
    "table(pd_cluster[['pd_cluster_diagnosis']])\n",
    "table(pd_cluster[['simplified_diagnosis']])\n",
    "# ms_cluster[['ms_cluster_diagnosis']]\n",
    "\n",
    "# merged_cog$cog_cluster_diagnosis <- gsub(\"PSYCH,SCZ\", \"PSYCH\", merged_cog$cog_cluster_diagnosis)\n",
    "# merged_cog$cog_cluster_diagnosis <- gsub(\"PSYCH,BP\", \"PSYCH\", merged_cog$cog_cluster_diagnosis)\n",
    "# merged_cog$cog_cluster_diagnosis <- gsub(\"PSYCH,MDD\", \"PSYCH\", merged_cog$cog_cluster_diagnosis)\n",
    "# merged_cog$cog_cluster_diagnosis <- gsub(\"MS,MS-PP\", \"MS\", merged_cog$cog_cluster_diagnosis)\n",
    "# merged_cog$cog_cluster_diagnosis <- gsub(\"MS,MS-SP\", \"MS\", merged_cog$cog_cluster_diagnosis)\n",
    "\n",
    "# merged_cog$cog_cluster_diagnosis <- gsub(\"DEM,SICC,AGD\", \"DEM,SICC\", merged_cog$cog_cluster_diagnosis)\n",
    "\n",
    "\n",
    "# merged_cog$cog_cluster_diagnosis <- gsub(\"FTD,FTD-TDP_undefined\", \"FTD-TDP\", merged_cog$cog_cluster_diagnosis)\n",
    "# merged_cog$cog_cluster_diagnosis <- gsub(\"FTD,FTD-TDP-C\", \"FTD-TDP\", merged_cog$cog_cluster_diagnosis)\n",
    "# merged_cog$cog_cluster_diagnosis <- gsub(\"FTD,FTD-TDP-A,PROG\", \"FTD-TDP\", merged_cog$cog_cluster_diagnosis)\n",
    "# merged_cog$cog_cluster_diagnosis <- gsub(\"FTD,FTD-TDP-B,C9ORF72\", \"FTD-TDP\", merged_cog$cog_cluster_diagnosis)\n",
    "\n"
   ]
  },
  {
   "cell_type": "code",
   "execution_count": null,
   "id": "2532e884-9263-45c6-bb01-5428cd0c4584",
   "metadata": {
    "tags": []
   },
   "outputs": [],
   "source": [
    "DefaultAssay(pd_cluster) <- 'FLAT'\n",
    "all.symptombins <- rownames(pd_cluster[[\"FLAT\"]])\n",
    "pd_cluster <- NormalizeData(pd_cluster,normalization.method = \"LogNormalize\", scale.factor = 100)\n",
    "pd_cluster <- ScaleData(pd_cluster, features = all.symptombins,do.center = TRUE,scale.max = 10, model.use = \"linear\")\n",
    "pd_cluster <- FindVariableFeatures(pd_cluster, selection.method = \"vst\", nfeatures = 1500)\n",
    "pd_cluster <- perform_pca_and_visualization(pd_cluster,rname='pca')\n",
    "print(ElbowPlot(pd_cluster,reduction='pca'))\n",
    "pd_cluster <- JackStraw(pd_cluster, num.replicate = 100,assay='FLAT')\n",
    "pd_cluster <- ScoreJackStraw(pd_cluster, dims = 1:20)\n",
    "print(JackStrawPlot(pd_cluster, dims = 1:20))"
   ]
  },
  {
   "cell_type": "code",
   "execution_count": null,
   "id": "438f08fa-8705-4834-a824-c726405687d1",
   "metadata": {
    "tags": []
   },
   "outputs": [],
   "source": [
    "DefaultAssay(pd_cluster) <- 'TEMP'\n",
    "all.symptombins <- rownames(pd_cluster[[\"TEMP\"]])\n",
    "pd_cluster <- NormalizeData(pd_cluster,normalization.method = \"LogNormalize\", scale.factor = 100)\n",
    "pd_cluster <- ScaleData(pd_cluster, features = all.symptombins,do.center = TRUE,scale.max = 10, model.use = \"linear\")\n",
    "pd_cluster <- FindVariableFeatures(pd_cluster, selection.method = \"vst\", nfeatures = 1500)\n",
    "pd_cluster <- perform_pca_and_visualization(pd_cluster,rname='apca') ## change to pca for plots\n",
    "print(ElbowPlot(pd_cluster,reduction='apca')) ## change to pcs for plots\n",
    "# pd_cluster <- JackStraw(pd_cluster, num.replicate = 100,assay='TEMP')\n",
    "# pd_cluster <- ScoreJackStraw(pd_cluster, dims = 1:20)\n",
    "# print(JackStrawPlot(pd_cluster, dims = 1:20))"
   ]
  },
  {
   "cell_type": "code",
   "execution_count": null,
   "id": "5cead668-482f-492a-a0ad-17638d5eb637",
   "metadata": {
    "tags": []
   },
   "outputs": [],
   "source": [
    "pd_cluster <- FindMultiModalNeighbors(\n",
    "    pd_cluster,\n",
    "    reduction.list = list(\"pca\", \"apca\"),\n",
    "    # dims.list = list(1:5, 1:25), modality.weight.name = list(\"FLAT.weight\",\"TEMP.weight\")\n",
    "    dims.list = list(1:7, 1:8), modality.weight.name = list(\"FLAT.weight\",\"TEMP.weight\")\n",
    ")"
   ]
  },
  {
   "cell_type": "code",
   "execution_count": null,
   "id": "6452a466-0370-4d41-aa39-167db039994e",
   "metadata": {},
   "outputs": [],
   "source": [
    "pd_cluster <- RunUMAP(pd_cluster,\n",
    "                      # dims = 1:10,\n",
    "                      nn.name = \"weighted.nn\",\n",
    "                      reduction.name = \"wnn.umap\",\n",
    "                      reduction.key = \"wnnUMAP_\",\n",
    "                      verbose=FALSE  \n",
    ")\n"
   ]
  },
  {
   "cell_type": "code",
   "execution_count": null,
   "id": "eb138ceb-e010-4074-b9a3-7270db07b8db",
   "metadata": {
    "tags": []
   },
   "outputs": [],
   "source": [
    "pd_cluster <- FindClusters(pd_cluster,\n",
    "                              resolution = 0.4,\n",
    "                              graph.name = \"wsnn\",\n",
    "                              algorithm = 3,\n",
    "                              verbose = TRUE)"
   ]
  },
  {
   "cell_type": "code",
   "execution_count": null,
   "id": "4487f667-03a9-4d18-a54b-1a48be06f6f9",
   "metadata": {
    "tags": []
   },
   "outputs": [],
   "source": [
    "w = 12\n",
    "h = 7.5\n",
    "pticksize = 40\n",
    "options(repr.plot.width = w, repr.plot.height = h)\n",
    "p1 <- DimPlot(pd_cluster, reduction = 'wnn.umap', label = FALSE, repel = TRUE,shape.by = 'clin_coherence',\n",
    "              label.size = 5,pt.size=4,cols=\"Dark2\",shuffle=TRUE) +\n",
    "    theme(axis.title.x = element_text(size = pticksize),\n",
    "                axis.title.y = element_text(size = pticksize),\n",
    "                legend.text = element_text(size = pticksize),\n",
    "                axis.text.x = element_text(size = pticksize),\n",
    "          # legend.position = \"none\",\n",
    "               axis.text.y = element_text(size = pticksize))+ coord_cartesian(xlim = c(-4.5, 4))+\n",
    "    scale_x_continuous(breaks = c(-5,-4,-3,-2,-1, 0,1,2,3, 4)) # Add x-axis tick marks at -3, 0, and 3+\n",
    "    # scale_y_continuous(breaks = c(-3,-2,-1, 0,1,2, 3))  # Add x-axis tick marks at -3, 0, and 3\n",
    "\n",
    "\n",
    "# p2 <- DimPlot(psych_cluster, reduction = 'wnn.umap', group.by = 'ms_cluster_diagnosis', label = TRUE, repel = TRUE, label.size = 2.5,cols=diagnosis_colors) \n",
    "p3 <- DimPlot(pd_cluster, reduction = 'wnn.umap', group.by = 'pd_cluster_diagnosis', label = FALSE, #cog_cluster_diagnosis\n",
    "              raster = NULL,pt.size=4,shuffle=TRUE,seed=3,label.box=FALSE, shape.by = 'clin_coherence',\n",
    "              repel = TRUE, label.size = 4,cols=diagnosis_colors) +\n",
    "    theme(axis.title.x = element_text(size = pticksize),\n",
    "               axis.title.y = element_text(size = pticksize),\n",
    "               legend.text = element_text(size = pticksize),\n",
    "          legend.position = \"none\",\n",
    "               axis.text.x = element_text(size = pticksize),\n",
    "               axis.text.y = element_text(size = pticksize))+ coord_cartesian(xlim = c(-4.5, 4))+\n",
    "    scale_x_continuous(breaks = c(-5,-4,-3,-2,-1, 0,1,2,3, 4))+  # Add x-axis tick marks at -3, 0, and 3+\n",
    "    # scale_y_continuous(breaks = c(-3,-2,-1, 0,1,2, 3)) + # Add x-axis tick marks at -3, 0, and 3\n",
    "    labs(title = \"\")  # Remove plot title\n",
    "p1\n",
    "# w = 12\n",
    "# h = 10\n",
    "options(repr.plot.width = w, repr.plot.height = h)\n",
    "p3\n",
    "\n",
    "# Save p1 to a PDF file\n",
    "ggsave(\"/home/jupyter-n.mekkes@gmail.com-f6d87/clinical_history/final_predictions/figures/seurat/pd/dimplot_pd_cluster.pdf\",\n",
    "       plot = p1, width = w, height = h,dpi=300)\n",
    "\n",
    "# Save p3 to a PDF file\n",
    "ggsave(\"/home/jupyter-n.mekkes@gmail.com-f6d87/clinical_history/final_predictions/figures/seurat/pd/dimplot_pd_diagnosis.pdf\",\n",
    "       plot = p3, width = w, height = h,dpi=300)"
   ]
  },
  {
   "cell_type": "code",
   "execution_count": null,
   "id": "f0814d2b-8a11-4142-b9b4-33f8623d1434",
   "metadata": {},
   "outputs": [],
   "source": [
    "## add circle\n",
    "# w = 10\n",
    "# h = 7.5\n",
    "unique_diagnoses <- table(pd_cluster$simplified_diagnosis) #cog_cluster_diagnosis\n",
    "unique_diagnoses <- table(pd_cluster$pd_cluster_diagnosis)\n",
    "unique_diagnoses\n",
    "unique_diagnoses <- names(unique_diagnoses[unique_diagnoses > 10])\n",
    "diagnoses <- c('AD,DLB','DLB,SICC','PSP','MSA','AD,CA','PD,AD')\n",
    "# diagnoses <- c('DLB',)\n",
    "# diagnoses <- names(unique_diagnoses[unique_diagnoses > 10])\n",
    "options(repr.plot.width = w, repr.plot.height = h)\n",
    "# # ############### FUNCTION TO MAKE A DIMPLOT WITH CIRCLES AROUND DIAGNOSES OF INTEREST #######\n",
    "# # ## returns a plot and a list of donorids for each diagnosis that are 'outside' the circle\n",
    "returns <- generate_dim_plot(pd_cluster, diagnoses,diag='pd_cluster_diagnosis',p3) #cog_cluster_diagnosis\n",
    "returns[[2]] + scale_x_continuous(breaks = c(-5,-4,-3,-2,-1, 0,1,2,3, 4)) # Add x-axis tick marks at -3, 0, and 3+\n",
    "ggsave(\"/home/jupyter-n.mekkes@gmail.com-f6d87/clinical_history/final_predictions/figures/seurat/pd/dimplot_pd_diagnosis.pdf\",\n",
    "       plot = returns[[2]], width = w, height = h,dpi=300)"
   ]
  },
  {
   "cell_type": "markdown",
   "id": "1aa13465-d663-49d1-ba6c-ec504a569da3",
   "metadata": {},
   "source": [
    "##### plot on original cluster"
   ]
  },
  {
   "cell_type": "code",
   "execution_count": null,
   "id": "e46c441e-df1d-4376-9309-f9f07451ea42",
   "metadata": {},
   "outputs": [],
   "source": [
    "w = 10\n",
    "h = 7.5\n",
    "options(repr.plot.width = w, repr.plot.height = h)\n",
    "pticksize = 40\n",
    "pdcells <- WhichCells(merged_seurat, idents = c( \"1\"))\n",
    "pd_highlight <- DimPlot(merged_seurat, reduction = 'wnn.umap',label = FALSE,cells.highlight = pdcells,\n",
    "                        cols.highlight='black',sizes.highlight=2,raster = NULL,pt.size=1.5,shuffle=TRUE,\n",
    "                        seed=3,label.box=FALSE,repel = TRUE, label.size = 4)\n",
    "pd_highlight\n",
    "# Save to a PDF file\n",
    "ggsave(\"/home/jupyter-n.mekkes@gmail.com-f6d87/clinical_history/final_predictions/figures/seurat/pd/highlight.pdf\",\n",
    "       plot = pd_highlight, width = w, height = h,dpi=300)\n"
   ]
  },
  {
   "cell_type": "markdown",
   "id": "1861723d-df23-4a79-902a-3019ae88feb3",
   "metadata": {},
   "source": [
    "##### identity bars\n",
    "for cog we do the coherence analysis"
   ]
  },
  {
   "cell_type": "code",
   "execution_count": null,
   "id": "a2b0f20a-93ce-4939-9686-4f224fa49fe4",
   "metadata": {
    "tags": []
   },
   "outputs": [],
   "source": [
    "w = 7\n",
    "h = 7\n",
    "options(repr.plot.width = w, repr.plot.height = h)\n",
    "# p_values_df <- calculate_p_values(pd_cluster,diagnosis_column = \"simplified_diagnosis\") #cog_cluster_diagnosis\n",
    "# p_values_df <- calculate_p_values(pd_cluster,diagnosis_column = \"pd_cluster_diagnosis\") #cog_cluster_diagnosis\n",
    "# unique(rownames(p_values_df))\n",
    "# corrected_p_values_df <- p_values_df %>%\n",
    "#   mutate(across(everything(), ~ p.adjust(.x, method = \"BH\")))\n",
    "# p_values_df\n",
    "# corrected_p_values_df\n",
    "\n",
    "\n",
    "# diagnoses <- c('AD','FTD','ATAXIA','DLB','MSA','PD','PSP','CON','VD')\n",
    "# # # diagnoses <- c('MS')\n",
    "# diagnoses <- unique(rownames(p_values_df))\n",
    "# diagnoses\n",
    "# # diagnoses <- names(unique_diagnoses[unique_diagnoses > 10])\n",
    "# p_values_df_diag <- calculate_p_values_diag(pd_cluster,diagnosis_column = \"pd_cluster_diagnosis\",\n",
    "#                                             variable_to_loop='model_and_clinic3',diagnoses,verbose=FALSE)\n",
    "\n",
    "# p_values_df_diag\n",
    "# corrected_p_values_diag <- p_values_df_diag %>%\n",
    "#   mutate(across(everything(), ~ p.adjust(.x, method = \"BH\")))\n",
    "# # corrected_p_values_diag\n",
    "\n",
    "# # # print(corrected_p_values_df)\n",
    "# identitybars <- plot_cluster_diagnosis_diag(pd_cluster,corrected_p_values_df,\n",
    "#                                             diagnosis_column = \"pd_cluster_diagnosis\",color='white',corrected_p_values_diag)     \n",
    "# identitybars <- identitybars + theme(axis.title.x = element_text(size = 24),\n",
    "#            axis.title.y = element_text(size = 24),\n",
    "#            legend.text = element_text(size = 24),\n",
    "#            axis.text.x = element_text(size = 24),\n",
    "#            axis.text.y = element_text(size = 24))#+ coord_cartesian(xlim = c(-6, 6), ylim = c(-6, 6))\n",
    "# identitybars\n",
    "# ggsave(\"/home/jupyter-n.mekkes@gmail.com-f6d87/clinical_history/final_predictions/figures/seurat/pd/identitybars_pd_cluster.pdf\",\n",
    "#        plot = identitybars, width = w, height = h,dpi=300)\n",
    "\n",
    "\n",
    "table(pd_cluster@meta.data$pd_cluster_diagnosis)\n",
    "diagnoses <- rownames(table(pd_cluster@meta.data$pd_cluster_diagnosis))\n",
    "print(list(diagnoses))\n",
    "known_clin_diag <-  c('AD',\"AD,DLB\",\"DLB\",\"FTD\",\"MSA\",\"PD\",\"PSP\")\n",
    "print(known_clin_diag)\n",
    "# diagnoses <- c('MS')\n",
    "p_values <- calculate_p_values_diag(pd_cluster,diagnosis_column = \"pd_cluster_diagnosis\",variable_to_loop='clin_coherence',diagnoses, known_clin_diag, verbose=FALSE)\n",
    "# p_values_df_diag\n",
    "\n",
    "p_values_diagnoses <- p_values$p_values\n",
    "p_values_coherence <- p_values$p_values_diag\n",
    "\n",
    "p_values_diagnoses <- p_values_diagnoses %>%\n",
    "  spread(key = Cluster, value = P_Value)\n",
    "rownames(p_values_diagnoses) <- p_values_diagnoses$Diagnosis\n",
    "p_values_diagnoses <- p_values_diagnoses[, -1]\n",
    "# print(p_values_diagnoses)\n",
    "p_values_diagnoses <- p_values_diagnoses %>%\n",
    "  mutate(across(everything(), ~ p.adjust(.x, method = \"BH\")))\n",
    "p_values_diagnoses\n",
    "\n",
    "p_values_coherence <- p_values_coherence %>%\n",
    "  spread(key = Cluster, value = P_Value)\n",
    "rownames(p_values_coherence) <- p_values_coherence$Diagnosis\n",
    "p_values_coherence <- p_values_coherence[, -1]\n",
    "# print(p_values_coherence)\n",
    "p_values_coherence <- p_values_coherence %>%\n",
    "  mutate(across(everything(), ~ p.adjust(.x, method = \"BH\")))\n",
    "p_values_coherence\n",
    "\n",
    "\n",
    "\n",
    "identitybars <- plot_cluster_diagnosis_diag(pd_cluster,p_values_diagnoses,diagnosis_column = \"pd_cluster_diagnosis\",color='white',p_values_coherence)     \n",
    "identitybars <- identitybars + theme(axis.title.x = element_text(size = 24),\n",
    "           axis.title.y = element_text(size = 24),\n",
    "           legend.text = element_text(size = 24),\n",
    "           axis.text.x = element_text(size = 24),\n",
    "           axis.text.y = element_text(size = 24))#+ coord_cartesian(xlim = c(-6, 6), ylim = c(-6, 6))\n",
    "identitybars\n",
    "ggsave(\"/home/jupyter-n.mekkes@gmail.com-f6d87/clinical_history/final_predictions/figures/seurat/pd/identitybars_pd_cluster.pdf\", plot = identitybars, width = w, height = h,dpi=300)\n",
    "\n"
   ]
  },
  {
   "cell_type": "markdown",
   "id": "7a5606fb-cf34-400c-a336-f909389c0387",
   "metadata": {},
   "source": [
    "##### heatmap"
   ]
  },
  {
   "cell_type": "code",
   "execution_count": null,
   "id": "a9514495-538a-47e4-858c-9b8e36a68442",
   "metadata": {},
   "outputs": [],
   "source": [
    "DefaultAssay(pd_cluster) <- 'FLAT'\n",
    "extended_cluster_markers_flat = find_extended_cluster_markers(pd_cluster,0.05,method='all',assay='FLAT',verbose=FALSE) \n",
    "\n",
    "DefaultAssay(pd_cluster) <- 'TEMP'\n",
    "extended_cluster_markers_temp = find_extended_cluster_markers(pd_cluster,0.05,method='all',assay='TEMP',verbose=FALSE) \n",
    "\n",
    "file_path <- \"/home/jupyter-n.mekkes@gmail.com-f6d87/clinical_analysis/clustermarkers/\"\n",
    "file_name_flat <- \"pdclustermarkerflattened.xlsx\"\n",
    "file_name_temp <- \"pdclustermarkertemporal.xlsx\"\n",
    "flat_path <- paste0(file_path, file_name_flat)\n",
    "temp_path <- paste0(file_path, file_name_temp)\n",
    "write.xlsx(extended_cluster_markers_flat, flat_path, row.names = FALSE)\n",
    "write.xlsx(extended_cluster_markers_temp, temp_path, row.names = FALSE)\n"
   ]
  },
  {
   "cell_type": "code",
   "execution_count": null,
   "id": "339e9084-a700-4b50-9552-97a6853994d4",
   "metadata": {},
   "outputs": [],
   "source": [
    "returns <- create_marker_df(extended_cluster_markers_temp, extended_cluster_markers_flat, sup3)\n",
    "w=8\n",
    "h=10\n",
    "combined_marker_list <- returns[[1]]\n",
    "inge_markers <- annotation_df[annotation_df$Domain %in% c(\"Cognitive\", \"Psychiatric\",\"General\"), ]$ITname\n",
    "# inge_markers\n",
    "# combined_marker_list\n",
    "# # combined_marker_list\n",
    "annotation_df <- returns[[2]]\n",
    "# annotation_df\n",
    "savepath_main = \"/home/jupyter-n.mekkes@gmail.com-f6d87/clinical_history/final_predictions/figures/seurat/pd/heatmap_pd_cluster.pdf\"\n",
    "returns <- generate_heatmap_plot(pd_cluster,assay='FLAT', combined_marker_list, annotation_df,10,savepath=savepath_main)\n",
    "mainmarkers <- \"/home/jupyter-n.mekkes@gmail.com-f6d87/clinical_analysis/clustermarkers/combined_pdmarkers.txt\"\n",
    "writeLines(returns, con = mainmarkers)\n",
    "returns"
   ]
  },
  {
   "cell_type": "code",
   "execution_count": null,
   "id": "b9a05a38-19ca-4f21-b69c-fa0074d0511e",
   "metadata": {
    "tags": []
   },
   "outputs": [],
   "source": [
    "options(repr.plot.width = 7, repr.plot.height = 6)\n",
    "VlnPlot(\n",
    "  object = pd_cluster,\n",
    "  features = 'Age',\n",
    "  pt.size=0,  \n",
    "  split.by='sex',\n",
    "  split.plot=TRUE\n",
    "  # group.by = 'seurat_clusters',\n",
    "  # cols = viridis(length(unique(merged_cog$seurat_clusters)), option = 'D'),\n",
    ")\n",
    "\n",
    "# options(repr.plot.width = 7, repr.plot.height = 6)\n",
    "# VlnPlot(\n",
    "#   object = merged_cog,\n",
    "#   features = 'File',\n",
    "#   pt.size=0,  \n",
    "#   split.by='sex',\n",
    "#   split.plot=TRUE\n",
    "#   # group.by = 'seurat_clusters',\n",
    "#   # cols = viridis(length(unique(merged_cog$seurat_clusters)), option = 'D'),\n",
    "# )\n"
   ]
  },
  {
   "cell_type": "code",
   "execution_count": null,
   "id": "1735a0da-77bc-4fda-a08c-f4aee33af8c2",
   "metadata": {},
   "outputs": [],
   "source": [
    "# head(merged_seurat@meta.data)\n",
    "pd_df <- data.frame(DonorID = rownames(pd_cluster@meta.data),pd_clusters = pd_cluster@meta.data$seurat_clusters)\n",
    "# head(df2)\n",
    "# seurat_clusters <- merge(df, cluster_df, by = \"DonorID\", all.x = TRUE)\n",
    "pd <- merge(ms,pd_df, by = \"DonorID\", all.x = TRUE)\n",
    "tail(pd)\n",
    "write.csv(pd, file = '/home/jupyter-n.mekkes@gmail.com-f6d87/clinical_analysis/data/seurat_output.csv', row.names = FALSE)\n"
   ]
  },
  {
   "cell_type": "code",
   "execution_count": null,
   "id": "c326e001-97ba-4bc6-8dcf-8cde9eba431f",
   "metadata": {
    "tags": []
   },
   "outputs": [],
   "source": [
    "# options(repr.plot.width = 7, repr.plot.height = 6)\n",
    "# VlnPlot(\n",
    "#   object = pd_cluster,\n",
    "#   features = 'Age',\n",
    "#   pt.size=0,  \n",
    "#   split.by='sex',\n",
    "#   split.plot=TRUE\n",
    "#   # group.by = 'seurat_clusters',\n",
    "#   # cols = viridis(length(unique(merged_cog$seurat_clusters)), option = 'D'),\n",
    "# )\n",
    "\n",
    "# # options(repr.plot.width = 7, repr.plot.height = 6)\n",
    "# # VlnPlot(\n",
    "# #   object = pd_cluster,\n",
    "# #   features = 'File',\n",
    "# #   pt.size=0,  \n",
    "# #   split.by='sex',\n",
    "# #   split.plot=TRUE\n",
    "# #   # group.by = 'seurat_clusters',\n",
    "# #   # cols = viridis(length(unique(merged_cog$seurat_clusters)), option = 'D'),\n",
    "# # )\n",
    "# ad <- data.frame(cluster = Idents(pd_cluster), Age=pd_cluster@meta.data$Age)\n",
    "# mean_age_per_cluster <- ad %>%\n",
    "#   group_by(cluster) %>%\n",
    "#   summarise(mean_age = mean(Age),std_age = sd(Age),max=max(Age))\n",
    "# pairwise_kruskal <- pairwise.wilcox.test(ad$Age, ad$cluster, p.adjust.method = \"bonferroni\")\n",
    "# significant_pairs <- data.frame(from = character(), to = character(), p.value = numeric())\n",
    "# print(mean_age_per_cluster)\n",
    "# for (i in 1:nrow(pairwise_kruskal$p.value)) {\n",
    "#   for (j in 1:ncol(pairwise_kruskal$p.value)) {\n",
    "#     if (!is.na(pairwise_kruskal$p.value[i, j]) && pairwise_kruskal$p.value[i, j] < 0.05) {\n",
    "#       significant_pairs <- rbind(significant_pairs, data.frame(from = rownames(pairwise_kruskal$p.value)[i],\n",
    "#                                                                to = colnames(pairwise_kruskal$p.value)[j],\n",
    "#                                                                p.value = pairwise_kruskal$p.value[i, j]))\n",
    "#     }\n",
    "#   }\n",
    "# }\n",
    "# significant_pairs$to = as.integer(significant_pairs$to)\n",
    "# significant_pairs$dist = abs(as.integer(significant_pairs$to) - as.integer(significant_pairs$from))\n",
    "# significant_pairs <- significant_pairs %>%\n",
    "#   arrange(desc(dist),to)%>%\n",
    "#   mutate(height = 150 - (row_number() -1) * 5)\n",
    "# significant_pairs$p.star[significant_pairs$p.value < 0.05] <- \"*\"\n",
    "# significant_pairs$p.star[significant_pairs$p.value < 0.005] <- \"**\"\n",
    "# significant_pairs$p.star[significant_pairs$p.value < 0.0005] <- \"***\"\n",
    "# significant_pairs#$to\n",
    "# g <- VlnPlot(\n",
    "#   object = pd_cluster,\n",
    "#   features = 'Age',\n",
    "#   pt.size=0,  \n",
    "#   split.by='sex',\n",
    "#   split.plot=TRUE\n",
    "#   )+ scale_y_continuous(limits = c(0,150))+ geom_signif(\n",
    "#     y_position = significant_pairs$height, xmin = significant_pairs$to+1, xmax = significant_pairs$from,\n",
    "#     annotation = significant_pairs$p.star, tip_length = 0.02\n",
    "#   )\n",
    "# g\n",
    "\n",
    "#############################################################################################################\n",
    "# ## to do: zoek de verschillen tussen MS-SP\n",
    "# pd <- data.frame(cluster = Idents(pd_cluster), diagnosis = pd_cluster$simplified_diagnosis,Age=pd_cluster@meta.data$Age)\n",
    "# pd <- pd %>%\n",
    "#   filter(diagnosis == \"PD\" )\n",
    "# head(pd) \n",
    "# mean_age_per_cluster <- pd %>%\n",
    "#   group_by(cluster) %>%\n",
    "#   summarise(mean_age = mean(Age),std_age = sd(Age))\n",
    "\n",
    "# print(mean_age_per_cluster)\n",
    "# cluster_1 <- subset(pd, cluster == \"0\")\n",
    "# cluster_2 <- subset(pd, cluster == \"1\")\n",
    "\n",
    "# # Perform Mann-Whitney U test\n",
    "# mwu_result <- wilcox.test(cluster_1$Age, cluster_2$Age)\n",
    "\n",
    "# # Summarize Mann-Whitney U test results\n",
    "# print(mwu_result)\n",
    "\n",
    "# ggplot(pd, aes(x = cluster, y = Age, fill = cluster)) +\n",
    "#   geom_violin() +\n",
    "#   labs(x = \"Cluster\", y = \"Age\") + theme_minimal()\n"
   ]
  },
  {
   "cell_type": "markdown",
   "id": "f1e54cd8-0bd4-43a1-a070-f22915e861df",
   "metadata": {},
   "source": [
    "### PSYCH cluster"
   ]
  },
  {
   "cell_type": "code",
   "execution_count": null,
   "id": "a3346b02-8ef4-4df7-b2ab-7a218df54e0e",
   "metadata": {
    "tags": []
   },
   "outputs": [],
   "source": [
    "psych_cluster <- subset(merged_seurat, idents = c(5))\n",
    "Assays(psych_cluster)"
   ]
  },
  {
   "cell_type": "code",
   "execution_count": null,
   "id": "aa288382-3e42-40a4-9ee2-36f2b905292e",
   "metadata": {},
   "outputs": [],
   "source": [
    "# seurat_object[['simplified_diagnosis']] <- meta_data[match(names(seurat_object$orig.ident), rownames(meta_data)),'simplified_diagnosis']\n",
    "psych_cluster$psych_cluster_diagnosis <- psych_cluster$diagnosis\n",
    "\n",
    "\n",
    "psych_cluster$psych_cluster_diagnosis <- gsub(\"AD,DLB\", \"other_dem\", psych_cluster$psych_cluster_diagnosis)\n",
    "psych_cluster$psych_cluster_diagnosis <- gsub(\"DLB,SICC\", \"FTD\", psych_cluster$psych_cluster_diagnosis)\n",
    "psych_cluster$psych_cluster_diagnosis <- gsub(\"FTD,FTD-TDP\", \"FTD\", psych_cluster$psych_cluster_diagnosis)\n",
    "psych_cluster$psych_cluster_diagnosis <- gsub(\"FTD,FTD-TAU,TAU\", \"FTD\", psych_cluster$psych_cluster_diagnosis)\n",
    "psych_cluster$psych_cluster_diagnosis <- gsub(\"FTD-A,PROG\", \"FTD\", psych_cluster$psych_cluster_diagnosis)\n",
    "psych_cluster$psych_cluster_diagnosis <- gsub(\"MS,MS-PP\", \"MS\", psych_cluster$psych_cluster_diagnosis)\n",
    "psych_cluster$psych_cluster_diagnosis <- gsub(\"MS,MS-SP\", \"MS\", psych_cluster$psych_cluster_diagnosis)\n",
    "psych_cluster$psych_cluster_diagnosis <- gsub(\"MND,ALS\", \"MND\", psych_cluster$psych_cluster_diagnosis)\n",
    "psych_cluster$psych_cluster_diagnosis <- gsub(\"FTD,FTD-TDP_undefined\", \"FTD\", psych_cluster$psych_cluster_diagnosis)\n",
    "psych_cluster$psych_cluster_diagnosis <- gsub(\"FTD_undefined\", \"FTD\", psych_cluster$psych_cluster_diagnosis)\n",
    "psych_cluster$psych_cluster_diagnosis <- gsub(\"MS_undefined\", \"MS\", psych_cluster$psych_cluster_diagnosis)\n",
    "\n",
    "table(psych_cluster[['psych_cluster_diagnosis']])\n",
    "table(psych_cluster[['simplified_diagnosis']])\n",
    "# ms_cluster[['ms_cluster_diagnosis']]"
   ]
  },
  {
   "cell_type": "code",
   "execution_count": null,
   "id": "b4e389f0-dff8-4722-a57f-dca0688a2449",
   "metadata": {
    "tags": []
   },
   "outputs": [],
   "source": [
    "DefaultAssay(psych_cluster) <- 'FLAT'\n",
    "all.symptombins <- rownames(psych_cluster[[\"FLAT\"]])\n",
    "psych_cluster <- NormalizeData(psych_cluster,normalization.method = \"LogNormalize\", scale.factor = 100)\n",
    "psych_cluster <- ScaleData(psych_cluster, features = all.symptombins,do.center = TRUE,scale.max = 10, model.use = \"linear\")\n",
    "psych_cluster <- FindVariableFeatures(psych_cluster, selection.method = \"vst\", nfeatures = 1500)\n",
    "psych_cluster <- perform_pca_and_visualization(psych_cluster,rname='pca')\n",
    "print(ElbowPlot(psych_cluster,reduction='pca'))\n",
    "psych_cluster <- JackStraw(psych_cluster, num.replicate = 100,assay='FLAT')\n",
    "psych_cluster <- ScoreJackStraw(psych_cluster, dims = 1:20)\n",
    "print(JackStrawPlot(psych_cluster, dims = 1:20))"
   ]
  },
  {
   "cell_type": "code",
   "execution_count": null,
   "id": "7c477fe2-7317-402a-a04f-3ee0809f688a",
   "metadata": {
    "tags": []
   },
   "outputs": [],
   "source": [
    "DefaultAssay(psych_cluster) <- 'TEMP'\n",
    "all.symptombins <- rownames(psych_cluster[[\"TEMP\"]])\n",
    "psych_cluster <- NormalizeData(psych_cluster,normalization.method = \"LogNormalize\", scale.factor = 100)\n",
    "psych_cluster <- ScaleData(psych_cluster, features = all.symptombins,do.center = TRUE,scale.max = 10, model.use = \"linear\")\n",
    "psych_cluster <- FindVariableFeatures(psych_cluster, selection.method = \"vst\", nfeatures = 1500)\n",
    "psych_cluster <- perform_pca_and_visualization(psych_cluster,rname='apca') ## change to pca for plots\n",
    "print(ElbowPlot(psych_cluster,reduction='apca')) ## change to pcs for plots\n",
    "# psych_cluster <- JackStraw(psych_cluster, num.replicate = 100,assay='TEMP')\n",
    "# psych_cluster <- ScoreJackStraw(psych_cluster, dims = 1:20)\n",
    "# print(JackStrawPlot(psych_cluster, dims = 1:20))"
   ]
  },
  {
   "cell_type": "code",
   "execution_count": null,
   "id": "0b9d90ec-6b07-4988-927b-f2f80822150a",
   "metadata": {
    "tags": []
   },
   "outputs": [],
   "source": []
  },
  {
   "cell_type": "code",
   "execution_count": null,
   "id": "c9a0f1b6-a72b-49bd-8324-9758496766cd",
   "metadata": {
    "tags": []
   },
   "outputs": [],
   "source": [
    "psych_cluster <- FindMultiModalNeighbors(\n",
    "    psych_cluster,\n",
    "    reduction.list = list(\"pca\", \"apca\"), #, \"apca\"\n",
    "    # dims.list = list(1:5, c(2:7)),#\n",
    "    # dims.list = list(1:4, 1:4),#\n",
    "    dims.list = list(1:4, 1:4),#\n",
    "    k.nn = 8,\n",
    "    knn.range = 120,\n",
    "    modality.weight.name = list(\"FLAT.weight\",\"TEMP.weight\") #\n",
    ")\n",
    "\n",
    "# DefaultAssay(psych_cluster) <- 'FLAT'\n",
    "# DimPlot(psych_cluster, reduction = \"pca\")\n",
    "# psych_cluster <- FindNeighbors(psych_cluster, dims = 1:5,reduction='pca')\n",
    "# psych_cluster <- FindClusters(psych_cluster, reduction='pca', resolution = 0.5)\n",
    "# psych_cluster <- RunUMAP(psych_cluster, dims = 1:5)\n",
    "# DimPlot(psych_cluster, reduction = \"umap\")"
   ]
  },
  {
   "cell_type": "code",
   "execution_count": null,
   "id": "3d34b81d-a3a5-4dc4-888d-847cedbd57ab",
   "metadata": {},
   "outputs": [],
   "source": [
    "psych_cluster <- RunUMAP(psych_cluster,\n",
    "                      # dims = 1:10,\n",
    "                      nn.name = \"weighted.nn\",\n",
    "                      reduction.name = \"wnn.umap\",\n",
    "                      reduction.key = \"wnnUMAP_\",\n",
    "                      verbose=FALSE  \n",
    ")\n"
   ]
  },
  {
   "cell_type": "code",
   "execution_count": null,
   "id": "f0d10919-6ea0-4ac3-b1ac-9c91c7fa17bf",
   "metadata": {
    "tags": []
   },
   "outputs": [],
   "source": [
    "psych_cluster <- FindClusters(psych_cluster,\n",
    "                              resolution = 0.3,\n",
    "                              graph.name = \"wsnn\",\n",
    "                              algorithm = 3,\n",
    "                              verbose = TRUE)"
   ]
  },
  {
   "cell_type": "code",
   "execution_count": null,
   "id": "b12cabfe-2428-42da-b608-079aaec8b339",
   "metadata": {},
   "outputs": [],
   "source": [
    "colnames(psych_cluster@meta.data)\n",
    "# Assuming your DataFrame is named df\n",
    "selected_rows <- psych_cluster@meta.data[psych_cluster@meta.data$psych_cluster_diagnosis == 'FTD_undefined', ]\n",
    "selected_rows[,'diagnosis' ]"
   ]
  },
  {
   "cell_type": "code",
   "execution_count": null,
   "id": "1e4fb217-d1b8-4822-a48e-3727b6b21a86",
   "metadata": {},
   "outputs": [],
   "source": [
    "w = 12\n",
    "h = 7.5\n",
    "pticksize = 40\n",
    "options(repr.plot.width = w, repr.plot.height = h)\n",
    "p1 <- DimPlot(psych_cluster, reduction = 'wnn.umap', label = FALSE,shape.by = 'clin_coherence',\n",
    "              repel = TRUE, label.size = 5,pt.size=4,cols=\"Dark2\",shuffle=TRUE) +\n",
    "            theme(axis.title.x = element_text(size = pticksize),\n",
    "                axis.title.y = element_text(size = pticksize),\n",
    "                legend.text = element_text(size = pticksize),\n",
    "                axis.text.x = element_text(size = pticksize),\n",
    "          # legend.position = \"none\",\n",
    "               axis.text.y = element_text(size = pticksize))#+ #coord_cartesian(xlim = c(-3, 3.5), ylim = c(-3, 3))+\n",
    "    # scale_x_continuous(breaks = c(-3,-2,-1, 0,1,2, 3)) + # Add x-axis tick marks at -3, 0, and 3+\n",
    "    # scale_y_continuous(breaks = c(-3,-2,-1, 0,1,2, 3))  # Add x-axis tick marks at -3, 0, and 3\n",
    "\n",
    "\n",
    "# p2 <- DimPlot(psych_cluster, reduction = 'wnn.umap', group.by = 'ms_cluster_diagnosis', label = TRUE, repel = TRUE, label.size = 2.5,cols=diagnosis_colors) \n",
    "p3 <- DimPlot(psych_cluster, reduction = 'wnn.umap', group.by = 'psych_cluster_diagnosis', label = FALSE, #cog_cluster_diagnosis\n",
    "              raster = NULL,pt.size=3,shuffle=TRUE,seed=3,label.box=FALSE,# shape.by = 'model_and_clinic3',\n",
    "              repel = TRUE, label.size = 4,cols=diagnosis_colors) +\n",
    "    theme(axis.title.x = element_text(size = pticksize),\n",
    "               axis.title.y = element_text(size = pticksize),\n",
    "               legend.text = element_text(size = pticksize),\n",
    "          legend.position = \"none\",\n",
    "               axis.text.x = element_text(size = pticksize),\n",
    "               axis.text.y = element_text(size = pticksize))+ #coord_cartesian(xlim = c(-3, 3.5), ylim = c(-3, 3))+\n",
    "    # scale_x_continuous(breaks = c(-3,-2,-1, 0,1,2, 3)) + # Add x-axis tick marks at -3, 0, and 3+\n",
    "    # scale_y_continuous(breaks = c(-3,-2,-1, 0,1,2, 3)) + # Add x-axis tick marks at -3, 0, and 3\n",
    "    labs(title = \"\")  # Remove plot title\n",
    "p1\n",
    "# w = 20\n",
    "# h = 12\n",
    "options(repr.plot.width = w, repr.plot.height = h)\n",
    "p3\n",
    "\n",
    "# Save p1 to a PDF file\n",
    "ggsave(\"/home/jupyter-n.mekkes@gmail.com-f6d87/clinical_history/final_predictions/figures/seurat/psych/dimplot_psych_cluster.pdf\", plot = p1, width = w, height = h,dpi=300)\n",
    "\n",
    "# Save p3 to a PDF file\n",
    "ggsave(\"/home/jupyter-n.mekkes@gmail.com-f6d87/clinical_history/final_predictions/figures/seurat/psych/dimplot_psych_diagnosis.pdf\", plot = p3, width = w, height = h,dpi=300)"
   ]
  },
  {
   "cell_type": "code",
   "execution_count": null,
   "id": "bc5f69cd-9e3b-4ee9-aa35-53de29d8ea88",
   "metadata": {},
   "outputs": [],
   "source": [
    "\n",
    "## add circle\n",
    "# w = 20\n",
    "# h = 12\n",
    "diagnoses <- table(psych_cluster$psych_cluster_diagnosis) #cog_cluster_diagnosis\n",
    "diagnoses\n",
    "diagnoses <- c('PSYCH,PTSD','PSYCH,SCZ','CON','PSYCH,BP','PSYCH,OCD','PSYCH,ASD','PSYCH,MDD')\n",
    "# diagnoses <- names(unique_diagnoses[unique_diagnoses > 30])\n",
    "\n",
    "diagnoses\n",
    "options(repr.plot.width = w, repr.plot.height = h)\n",
    "# ############### FUNCTION TO MAKE A DIMPLOT WITH CIRCLES AROUND DIAGNOSES OF INTEREST #######\n",
    "# ## returns a plot and a list of donorids for each diagnosis that are 'outside' the circle\n",
    "returns <- generate_dim_plot(psych_cluster, diagnoses,diag='psych_cluster_diagnosis',p3) #cog_cluster_diagnosis\n",
    "returns[[2]]\n",
    "ggsave(\"/home/jupyter-n.mekkes@gmail.com-f6d87/clinical_history/final_predictions/figures/seurat/psych/dimplot_psych_diagnosis.pdf\", plot = returns[[2]], width = w, height = h,dpi=300)\n",
    "\n",
    "\n",
    "\n"
   ]
  },
  {
   "cell_type": "markdown",
   "id": "8b06337f-94fe-4e3f-94a0-e9b06729b223",
   "metadata": {},
   "source": [
    "##### plot on original cluster"
   ]
  },
  {
   "cell_type": "code",
   "execution_count": null,
   "id": "ffd32a9b-a023-40d3-b759-7fb53dafe638",
   "metadata": {},
   "outputs": [],
   "source": [
    "# copy_of_merged <- merged_seurat\n",
    "# # copy_of_merged\n",
    "# # colnames(copy_of_merged@meta.data)\n",
    "# # colnames(psych_cluster@meta.data)\n",
    "# original_rownames <- colnames(copy_of_merged@meta.data)\n",
    "# copy_of_merged@meta.data <- merge(copy_of_merged@meta.data, psych_cluster@meta.data[, c(\"seurat_clusters\",\"psych_cluster_diagnosis\",\"simplified_diagnosis\"), drop = FALSE], by = \"row.names\", all.x = TRUE)\n",
    "# colnames(copy_of_merged@meta.data)[colnames(copy_of_merged@meta.data) == \"seurat_clusters.y\"] <- \"psych_clusters\"\n",
    "# colnames(copy_of_merged@meta.data)[colnames(copy_of_merged@meta.data) == \"seurat_clusters.x\"] <- \"seurat_clusters\"\n",
    "# colnames(copy_of_merged@meta.data)[colnames(copy_of_merged@meta.data) == \"simplified_diagnosis.y\"] <- \"cog_simplified\"\n",
    "# colnames(copy_of_merged@meta.data)[colnames(copy_of_merged@meta.data) == \"simplified_diagnosis.x\"] <- \"simplified_diagnosis\"\n",
    "# rownames(copy_of_merged@meta.data) <- copy_of_merged@meta.data$Row.names\n",
    "# copy_of_merged@meta.data$Row.names <- NULL\n",
    "# # original_rownames\n",
    "# # head(copy_of_merged@meta.data)\n",
    "# head(copy_of_merged@meta.data[copy_of_merged@meta.data$seurat_clusters == 5, ])"
   ]
  },
  {
   "cell_type": "markdown",
   "id": "4540b178-1746-4aff-a5f5-d0874a8daee1",
   "metadata": {},
   "source": [
    "##### identity bars\n",
    "for psych we dont have clin diag to compare with, so we do not do the coherence analysis"
   ]
  },
  {
   "cell_type": "code",
   "execution_count": null,
   "id": "af7b7092-fa15-4073-af09-49bd2f8afab7",
   "metadata": {
    "tags": []
   },
   "outputs": [],
   "source": [
    "w = 15\n",
    "h = 7\n",
    "# options(repr.plot.width = w, repr.plot.height = h)\n",
    "# p_values_df <- calculate_p_values(psych_cluster,diagnosis_column = \"psych_cluster_diagnosis\")\n",
    "# p_values_df\n",
    "# corrected_p_values_df <- p_values_df %>%\n",
    "#   mutate(across(everything(), ~ p.adjust(.x, method = \"BH\")))\n",
    "# corrected_p_values_df\n",
    "# # unique(rownames(p_values_df))\n",
    "# diagnoses <- c('PSYCH,ASD','PSYCH,BP','PSYCH,MDD','PSYCH,OCD','PSYCH,PTSD','PSYCH,SCZ','CON')\n",
    "# diagnoses <- unique(rownames(p_values_df))\n",
    "\n",
    "# # p_values_df <- p_values_df[rownames(p_values_df) %in% diagnoses, ]\n",
    "\n",
    "\n",
    "# # corrected_p_values_df\n",
    "# identity_psych <- plot_cluster_diagnosis(psych_cluster,p_values_df,diagnosis_column = \"psych_cluster_diagnosis\",color='white')\n",
    "# identity_psych\n",
    "# ggsave(\"/home/jupyter-n.mekkes@gmail.com-f6d87/clinical_history/final_predictions/figures/seurat/psych/identitybars_psych_cluster.pdf\",\n",
    "#        plot = identity_psych, width = w, height = h,dpi=300)\n",
    "\n",
    "\n",
    "table(psych_cluster@meta.data$psych_cluster_diagnosis)\n",
    "diagnoses <- rownames(table(psych_cluster@meta.data$psych_cluster_diagnosis))\n",
    "print(list(diagnoses))\n",
    "known_clin_diag <-  c('AD',\"AD,DLB\",\"DLB\",\"FTD\",\"MSA\",\"PD\",\"PSP\")\n",
    "print(known_clin_diag)\n",
    "# diagnoses <- c('MS')\n",
    "p_values <- calculate_p_values_diag(psych_cluster,diagnosis_column = \"psych_cluster_diagnosis\",variable_to_loop='clin_coherence',diagnoses, known_clin_diag, verbose=FALSE)\n",
    "# p_values_df_diag\n",
    "\n",
    "p_values_diagnoses <- p_values$p_values\n",
    "p_values_coherence <- p_values$p_values_diag\n",
    "\n",
    "p_values_diagnoses <- p_values_diagnoses %>%\n",
    "  spread(key = Cluster, value = P_Value)\n",
    "rownames(p_values_diagnoses) <- p_values_diagnoses$Diagnosis\n",
    "p_values_diagnoses <- p_values_diagnoses[, -1]\n",
    "# print(p_values_diagnoses)\n",
    "p_values_diagnoses <- p_values_diagnoses %>%\n",
    "  mutate(across(everything(), ~ p.adjust(.x, method = \"BH\")))\n",
    "p_values_diagnoses\n",
    "\n",
    "p_values_coherence <- p_values_coherence %>%\n",
    "  spread(key = Cluster, value = P_Value)\n",
    "rownames(p_values_coherence) <- p_values_coherence$Diagnosis\n",
    "p_values_coherence <- p_values_coherence[, -1]\n",
    "# print(p_values_coherence)\n",
    "p_values_coherence <- p_values_coherence %>%\n",
    "  mutate(across(everything(), ~ p.adjust(.x, method = \"BH\")))\n",
    "p_values_coherence\n",
    "\n",
    "\n",
    "\n",
    "identitybars <- plot_cluster_diagnosis_diag(psych_cluster,p_values_diagnoses,diagnosis_column = \"psych_cluster_diagnosis\",color='white',p_values_coherence)     \n",
    "identitybars <- identitybars + theme(axis.title.x = element_text(size = 24),\n",
    "           axis.title.y = element_text(size = 24),\n",
    "           legend.text = element_text(size = 24),\n",
    "           axis.text.x = element_text(size = 24),\n",
    "           axis.text.y = element_text(size = 24))#+ coord_cartesian(xlim = c(-6, 6), ylim = c(-6, 6))\n",
    "identitybars\n",
    "ggsave(\"/home/jupyter-n.mekkes@gmail.com-f6d87/clinical_history/final_predictions/figures/seurat/psych/identitybars_psych_cluster.pdf\", plot = identitybars, width = w, height = h,dpi=300)\n",
    "\n"
   ]
  },
  {
   "cell_type": "markdown",
   "id": "5323adaa-f835-4bc9-876e-c70cf82fa74c",
   "metadata": {},
   "source": [
    "##### heatmap"
   ]
  },
  {
   "cell_type": "code",
   "execution_count": null,
   "id": "6040cb6a-555d-408a-ab2b-c6127833bbe6",
   "metadata": {},
   "outputs": [],
   "source": [
    "DefaultAssay(psych_cluster) <- 'FLAT'\n",
    "extended_cluster_markers_flat = find_extended_cluster_markers(psych_cluster,0.05,method='all',assay='FLAT',verbose=FALSE) \n",
    "\n",
    "DefaultAssay(psych_cluster) <- 'TEMP'\n",
    "extended_cluster_markers_temp = find_extended_cluster_markers(psych_cluster,0.05,method='all',assay='TEMP',verbose=FALSE) \n",
    "\n",
    "file_path <- \"/home/jupyter-n.mekkes@gmail.com-f6d87/clinical_analysis/clustermarkers/\"\n",
    "file_name_flat <- \"psychclustermarkerflattened.xlsx\"\n",
    "file_name_temp <- \"psychclustermarkertemporal.xlsx\"\n",
    "flat_path <- paste0(file_path, file_name_flat)\n",
    "temp_path <- paste0(file_path, file_name_temp)\n",
    "write.xlsx(extended_cluster_markers_flat, flat_path, row.names = FALSE)\n",
    "write.xlsx(extended_cluster_markers_temp, temp_path, row.names = FALSE)"
   ]
  },
  {
   "cell_type": "code",
   "execution_count": null,
   "id": "959b0b59-63e8-47f0-8327-b89668b4ac48",
   "metadata": {},
   "outputs": [],
   "source": [
    "returns <- create_marker_df(extended_cluster_markers_temp, extended_cluster_markers_flat, sup3)\n",
    "w=8\n",
    "h=10\n",
    "combined_marker_list <- returns[[1]]\n",
    "# combined_marker_list\n",
    "# # combined_marker_list\n",
    "annotation_df <- returns[[2]]\n",
    "# annotation_df\n",
    "savepath_main = \"/home/jupyter-n.mekkes@gmail.com-f6d87/clinical_history/final_predictions/figures/seurat/psych/heatmap_psych_cluster.pdf\"\n",
    "returns <- generate_heatmap_plot(psych_cluster,assay='FLAT', combined_marker_list, annotation_df,6,savepath=savepath_main)\n",
    "mainmarkers <- \"/home/jupyter-n.mekkes@gmail.com-f6d87/clinical_analysis/clustermarkers/combined_psychmarkers.txt\"\n",
    "writeLines(returns, con = mainmarkers)\n",
    "returns"
   ]
  },
  {
   "cell_type": "code",
   "execution_count": null,
   "id": "efd7276f-c571-4a37-9c25-bca03846bed8",
   "metadata": {},
   "outputs": [],
   "source": [
    "# head(merged_seurat@meta.data)\n",
    "psych_df <- data.frame(DonorID = rownames(psych_cluster@meta.data),psych_clusters = psych_cluster@meta.data$seurat_clusters)\n",
    "# head(df2)\n",
    "# seurat_clusters <- merge(df, cluster_df, by = \"DonorID\", all.x = TRUE)\n",
    "psych <- merge(pd, psych_df, by = \"DonorID\", all.x = TRUE)\n",
    "tail(psych)\n",
    "write.csv(psych, file = '/home/jupyter-n.mekkes@gmail.com-f6d87/clinical_analysis/data/seurat_output.csv', row.names = FALSE)\n"
   ]
  },
  {
   "cell_type": "code",
   "execution_count": null,
   "id": "652e45aa-cb97-44d0-bdd2-68ab87a13afc",
   "metadata": {},
   "outputs": [],
   "source": [
    "w = 10\n",
    "h = 7.5\n",
    "options(repr.plot.width = w, repr.plot.height = h)\n",
    "pticksize = 40\n",
    "psychcells <- WhichCells(merged_seurat, idents = c( \"5\"))\n",
    "psych_highlight <- DimPlot(merged_seurat, reduction = 'wnn.umap',label = FALSE,cells.highlight = psychcells,cols.highlight='black',sizes.highlight=2,\n",
    "              raster = NULL,pt.size=1.5,shuffle=TRUE,seed=3,label.box=FALSE,\n",
    "              repel = TRUE, label.size = 4)\n",
    "\n",
    "psych_highlight\n",
    "# Save to a PDF file\n",
    "ggsave(\"/home/jupyter-n.mekkes@gmail.com-f6d87/clinical_history/final_predictions/figures/seurat/psych/highlight.pdf\", plot = psych_highlight, width = w, height = h,dpi=300)\n",
    "\n",
    "# # Save p3 to a PDF file\n",
    "# ggsave(\"/home/jupyter-n.mekkes@gmail.com-f6d87/clinical_history/final_predictions/figures/seurat/main/dimplot_main_diagnosis.pdf\", plot = p3, width = w, height = h,dpi=300)"
   ]
  },
  {
   "cell_type": "code",
   "execution_count": null,
   "id": "cb4a2916-b32c-45c2-9fa1-3c887f3b6f13",
   "metadata": {
    "tags": []
   },
   "outputs": [],
   "source": [
    "options(repr.plot.width = 7, repr.plot.height = 6)\n",
    "VlnPlot(\n",
    "  object = psych_cluster,\n",
    "  features = 'Age',\n",
    "  pt.size=0,  \n",
    "  split.by='sex',\n",
    "  split.plot=TRUE\n",
    "  # group.by = 'seurat_clusters',\n",
    "  # cols = viridis(length(unique(merged_cog$seurat_clusters)), option = 'D'),\n",
    ")\n",
    "\n",
    "options(repr.plot.width = 7, repr.plot.height = 6)\n",
    "VlnPlot(\n",
    "  object = psych_cluster,\n",
    "  features = 'File',\n",
    "  pt.size=0,  \n",
    "  split.by='sex',\n",
    "  split.plot=TRUE\n",
    "  # group.by = 'seurat_clusters',\n",
    "  # cols = viridis(length(unique(merged_cog$seurat_clusters)), option = 'D'),\n",
    ")\n"
   ]
  },
  {
   "cell_type": "code",
   "execution_count": null,
   "id": "aa8cc1c4-d13a-4389-996c-17c0a52ce19d",
   "metadata": {
    "tags": []
   },
   "outputs": [],
   "source": [
    "# ad <- data.frame(cluster = Idents(psych_cluster), Age=psych_cluster@meta.data$Age)\n",
    "# mean_age_per_cluster <- ad %>%\n",
    "#   group_by(cluster) %>%\n",
    "#   summarise(mean_age = mean(Age),std_age = sd(Age),max=max(Age))\n",
    "# pairwise_kruskal <- pairwise.wilcox.test(ad$Age, ad$cluster, p.adjust.method = \"bonferroni\")\n",
    "# significant_pairs <- data.frame(from = character(), to = character(), p.value = numeric())\n",
    "# print(mean_age_per_cluster)\n",
    "# for (i in 1:nrow(pairwise_kruskal$p.value)) {\n",
    "#   for (j in 1:ncol(pairwise_kruskal$p.value)) {\n",
    "#     if (!is.na(pairwise_kruskal$p.value[i, j]) && pairwise_kruskal$p.value[i, j] < 0.05) {\n",
    "#       significant_pairs <- rbind(significant_pairs, data.frame(from = rownames(pairwise_kruskal$p.value)[i],\n",
    "#                                                                to = colnames(pairwise_kruskal$p.value)[j],\n",
    "#                                                                p.value = pairwise_kruskal$p.value[i, j]))\n",
    "#     }\n",
    "#   }\n",
    "# }\n",
    "# significant_pairs$to = as.integer(significant_pairs$to)\n",
    "# significant_pairs$dist = abs(as.integer(significant_pairs$to) - as.integer(significant_pairs$from))\n",
    "# significant_pairs <- significant_pairs %>%\n",
    "#   arrange(desc(dist),to)%>%\n",
    "#   mutate(height = 150 - (row_number() -1) * 5)\n",
    "# significant_pairs$p.star[significant_pairs$p.value < 0.05] <- \"*\"\n",
    "# significant_pairs$p.star[significant_pairs$p.value < 0.005] <- \"**\"\n",
    "# significant_pairs$p.star[significant_pairs$p.value < 0.0005] <- \"***\"\n",
    "# significant_pairs#$to\n",
    "# g <- VlnPlot(\n",
    "#   object = psych_cluster,\n",
    "#   features = 'Age',\n",
    "#   pt.size=0,  \n",
    "#   split.by='sex',\n",
    "#   split.plot=TRUE\n",
    "#   )+ scale_y_continuous(limits = c(0,150))+ geom_signif(\n",
    "#     y_position = significant_pairs$height, xmin = significant_pairs$to+1, xmax = significant_pairs$from,\n",
    "#     annotation = significant_pairs$p.star, tip_length = 0.02\n",
    "#   )\n",
    "# g\n",
    "\n",
    "####################################################################################\n",
    "# rownames(psych_cluster)\n",
    "# which(rownames(psych_cluster@assays$TEMP) == 'Mania.15.45')\n",
    "# which(rownames(psych_cluster@assays$TEMP) == 'Mania.30.60')\n",
    "# which(rownames(psych_cluster@assays$TEMP) == 'Mania.55.85')\n",
    "# GetAssayData(object = psych_cluster[[\"TEMP\"]], slot = \"data\")[711,]\n",
    "\n",
    "####################################################################################\n",
    "## to do: zoek de verschillen tussen MS-SP\n",
    "# psych <- data.frame(cluster = Idents(psych_cluster), diagnosis = psych_cluster$psych_cluster_diagnosis,\n",
    "#                     Age=psych_cluster@meta.data$Age,\n",
    "#                     manic3060=GetAssayData(object = psych_cluster[[\"TEMP\"]], slot = \"data\")[714,],\n",
    "#                     manic5585=GetAssayData(object = psych_cluster[[\"TEMP\"]], slot = \"data\")[719,],\n",
    "#                     manic1545=GetAssayData(object = psych_cluster[[\"TEMP\"]], slot = \"data\")[711,])\n",
    "# psych <- psych %>%\n",
    "#   filter(diagnosis == \"PSYCH,BP\" )\n",
    "# write.xlsx(psych, 'psych_mania.xlsx', row.names = TRUE)\n",
    "# psych \n",
    "# result <- psych %>%\n",
    "#   filter(diagnosis == \"PSYCH,BP\") %>%\n",
    "#   group_by(cluster) %>%\n",
    "#   summarise(mean_manic = mean(manic))\n",
    "\n",
    "# print(result)\n",
    "# mean_age_per_cluster <- psych %>%\n",
    "#   group_by(cluster) %>%\n",
    "#   summarise(mean_age = mean(Age),std_age = sd(Age))\n",
    "\n",
    "# print(mean_age_per_cluster)\n",
    "# cluster_1 <- subset(psych, cluster == \"2\")\n",
    "# cluster_2 <- subset(psych, cluster == \"1\")\n",
    "\n",
    "# # Perform Mann-Whitney U test\n",
    "# mwu_result <- wilcox.test(cluster_1$Age, cluster_2$Age)\n",
    "\n",
    "# # Summarize Mann-Whitney U test results\n",
    "# print(mwu_result)\n",
    "\n",
    "# ggplot(psych, aes(x = cluster, y = Age, fill = cluster)) +\n",
    "#   geom_violin() +\n",
    "#   labs(x = \"Cluster\", y = \"Age\") + theme_minimal()\n",
    "\n",
    "####################################################################################\n",
    "# VlnPlot(psych_cluster, features='Mania.15.45')\n",
    "# VlnPlot(psych_cluster, features='Mania.30.60')\n",
    "# VlnPlot(psych_cluster, features='Mania.65.95')\n",
    "# FeaturePlot(psych_cluster, features='Mania.15.45')\n",
    "\n",
    "####################################################################################\n",
    "# cluster_markers <- FindMarkers(psych_cluster, ident.1 = 5, min.pct = 0.1)\n",
    "# FeaturePlot(psych_cluster, features = 'Suicidal-ideation')"
   ]
  },
  {
   "cell_type": "markdown",
   "id": "a0727e7c-172c-49ad-ad65-a1f81adbf124",
   "metadata": {},
   "source": [
    "### CON cluster"
   ]
  },
  {
   "cell_type": "code",
   "execution_count": null,
   "id": "567c41c0-f265-4ce5-8eb5-d0b94484c3fe",
   "metadata": {
    "tags": []
   },
   "outputs": [],
   "source": [
    "con_cluster <- subset(merged_seurat, idents = c(3))\n",
    "Assays(con_cluster)"
   ]
  },
  {
   "cell_type": "code",
   "execution_count": null,
   "id": "59ff2fb5-9c26-4351-9d2d-83628e1a4be1",
   "metadata": {
    "tags": []
   },
   "outputs": [],
   "source": [
    "DefaultAssay(con_cluster) <- 'FLAT'\n",
    "all.symptombins <- rownames(con_cluster[[\"FLAT\"]])\n",
    "con_cluster <- NormalizeData(con_cluster,normalization.method = \"LogNormalize\", scale.factor = 100)\n",
    "con_cluster <- ScaleData(con_cluster, features = all.symptombins,do.center = TRUE,scale.max = 10, model.use = \"linear\")\n",
    "con_cluster <- FindVariableFeatures(con_cluster, selection.method = \"vst\", nfeatures = 1500)\n",
    "con_cluster <- perform_pca_and_visualization(con_cluster,rname='pca')\n",
    "print(ElbowPlot(con_cluster,reduction='pca'))\n",
    "con_cluster <- JackStraw(con_cluster, num.replicate = 100,assay='FLAT')\n",
    "con_cluster <- ScoreJackStraw(con_cluster, dims = 1:20)\n",
    "print(JackStrawPlot(con_cluster, dims = 1:20))"
   ]
  },
  {
   "cell_type": "code",
   "execution_count": null,
   "id": "e7daad56-446c-4624-9fb7-677941ea0e7b",
   "metadata": {},
   "outputs": [],
   "source": [
    "# str(con_cluster)"
   ]
  },
  {
   "cell_type": "code",
   "execution_count": null,
   "id": "3fa556fd-a767-4aa4-950f-ef5e50cff875",
   "metadata": {
    "tags": []
   },
   "outputs": [],
   "source": [
    "DefaultAssay(con_cluster) <- 'TEMP'\n",
    "all.symptombins <- rownames(con_cluster[[\"TEMP\"]])\n",
    "con_cluster <- NormalizeData(con_cluster,normalization.method = \"LogNormalize\", scale.factor = 100)\n",
    "con_cluster <- ScaleData(con_cluster, features = all.symptombins,do.center = TRUE,scale.max = 10, model.use = \"linear\")\n",
    "con_cluster <- FindVariableFeatures(con_cluster, selection.method = \"vst\", nfeatures = 1500)\n",
    "con_cluster <- perform_pca_and_visualization(con_cluster,rname='apca') ## change to pca for plots\n",
    "# print(ElbowPlot(temp,reduction='pca')) ## change to pcs for plots\n",
    "# temp <- JackStraw(temp, num.replicate = 100,assay='TEMP')\n",
    "# temp <- ScoreJackStraw(temp, dims = 1:20)\n",
    "# print(JackStrawPlot(temp, dims = 1:20))"
   ]
  },
  {
   "cell_type": "code",
   "execution_count": null,
   "id": "c8887529-1e60-490a-8f31-bbf9046f0efd",
   "metadata": {
    "tags": []
   },
   "outputs": [],
   "source": [
    "con_cluster <- FindMultiModalNeighbors(\n",
    "    con_cluster,\n",
    "    reduction.list = list(\"pca\", \"apca\"),\n",
    "    dims.list = list(1:10, 1:20),\n",
    "    k.nn = 20,\n",
    "    knn.range = 200,\n",
    "    modality.weight.name = list(\"FLAT.weight\",\"TEMP.weight\")\n",
    ")"
   ]
  },
  {
   "cell_type": "code",
   "execution_count": null,
   "id": "6715481f-a406-4160-90df-84af7d14aa07",
   "metadata": {},
   "outputs": [],
   "source": [
    "con_cluster <- RunUMAP(con_cluster,\n",
    "                      # dims = 1:10,\n",
    "                      nn.name = \"weighted.nn\",\n",
    "                      reduction.name = \"wnn.umap\",\n",
    "                      reduction.key = \"wnnUMAP_\",\n",
    "                      verbose=FALSE  \n",
    ")\n"
   ]
  },
  {
   "cell_type": "code",
   "execution_count": null,
   "id": "8c90e6e3-8a1f-4cae-a75c-3054764e8c69",
   "metadata": {
    "tags": []
   },
   "outputs": [],
   "source": [
    "con_cluster <- FindClusters(con_cluster,\n",
    "                              resolution = 0.5,\n",
    "                              graph.name = \"wsnn\",\n",
    "                              algorithm = 3,\n",
    "                              verbose = TRUE)"
   ]
  },
  {
   "cell_type": "code",
   "execution_count": null,
   "id": "5931beb0-b9f5-483c-8aeb-170544655359",
   "metadata": {
    "tags": []
   },
   "outputs": [],
   "source": [
    "options(repr.plot.width = 7, repr.plot.height = 6)\n",
    "p1 <- DimPlot(con_cluster, reduction = 'wnn.umap', label = TRUE, repel = TRUE, label.size = 2.5) \n",
    "p2 <- DimPlot(con_cluster, reduction = 'wnn.umap', group.by = 'simplified_diagnosis', label = TRUE, repel = TRUE, label.size = 2.5,cols=diagnosis_colors) \n",
    "p1\n",
    "p2"
   ]
  },
  {
   "cell_type": "code",
   "execution_count": null,
   "id": "ebd43ab5-3eb0-4cd2-a9ea-7d5529ddb8ee",
   "metadata": {
    "tags": []
   },
   "outputs": [],
   "source": [
    "options(repr.plot.width = 7, repr.plot.height = 6)\n",
    "p_values_df <- calculate_p_values(con_cluster, diagnosis_column = 'simplified_diagnosis')\n",
    "plot_cluster_diagnosis(con_cluster,p_values_df,diagnosis_column = 'simplified_diagnosis')"
   ]
  },
  {
   "cell_type": "code",
   "execution_count": null,
   "id": "08d398f3-d446-4bec-a205-55203800aca4",
   "metadata": {
    "tags": []
   },
   "outputs": [],
   "source": [
    "options(repr.plot.width = 7, repr.plot.height = 6)\n",
    "VlnPlot(\n",
    "  object = con_cluster,\n",
    "  features = 'Age',\n",
    "  # group.by = 'seurat_clusters',\n",
    "  # cols = viridis(length(unique(con_cluster$seurat_clusters)), option = 'D'),\n",
    "  pt.size = 0\n",
    ")\n",
    "VlnPlot(\n",
    "  object = con_cluster,\n",
    "  features = 'File',\n",
    "  # group.by = 'seurat_clusters',\n",
    "  # cols = viridis(length(unique(con_cluster$seurat_clusters)), option = 'D'),\n",
    "  pt.size = 0\n",
    ")"
   ]
  },
  {
   "cell_type": "code",
   "execution_count": null,
   "id": "ebf44319-e23e-41f0-8e0f-85e62abea658",
   "metadata": {
    "tags": []
   },
   "outputs": [],
   "source": [
    "options(repr.plot.width = 10, repr.plot.height = 12)\n",
    "sup3_small <- sup3[c(\"ITname\", \"Domain\", \"Grouping\")]\n",
    "DefaultAssay(con_cluster) <- 'FLAT'\n",
    "extended_cluster_markers = find_extended_cluster_markers(con_cluster,0.05,method='sign',assay='FLAT',verbose=FALSE) \n",
    "# print(extended_cluster_markers)\n",
    "sub_M1 <- subset(con_cluster, cells = Cells(con_cluster), features = extended_cluster_markers)\n",
    "DoHeatmap(subset(sub_M1, downsample = 100), features = extended_cluster_markers, size = 4)\n",
    "generate_heatmap_plot(con_cluster,assay='FLAT', extended_cluster_markers, sup3_small,10)"
   ]
  },
  {
   "cell_type": "code",
   "execution_count": null,
   "id": "d60e1454-b283-4853-9cb3-9ff34ee4d88c",
   "metadata": {
    "tags": []
   },
   "outputs": [],
   "source": [
    "options(repr.plot.width = 10, repr.plot.height = 12)\n",
    "sup3_small <- sup3[c(\"ITname\", \"Domain\", \"Grouping\")]\n",
    "DefaultAssay(con_cluster) <- 'TEMP'\n",
    "extended_cluster_markers = find_extended_cluster_markers(con_cluster,0.05,method='sign',assay='TEMP') \n",
    "# print(extended_cluster_markers)\n",
    "sub_M1 <- subset(con_cluster, cells = Cells(con_cluster), features = extended_cluster_markers)\n",
    "DoHeatmap(subset(sub_M1, downsample = 100), features = extended_cluster_markers, size = 4)\n",
    "generate_heatmap_plot(con_cluster,assay='TEMP', extended_cluster_markers, sup3_small,2)"
   ]
  },
  {
   "cell_type": "code",
   "execution_count": null,
   "id": "cfcc4703-6a24-49bb-9dc0-418ed902b6e3",
   "metadata": {},
   "outputs": [],
   "source": []
  },
  {
   "cell_type": "markdown",
   "id": "fef914aa-5039-4f5a-bf06-44153d565722",
   "metadata": {},
   "source": [
    "# OLD"
   ]
  },
  {
   "cell_type": "markdown",
   "id": "539ebcbf-3d4a-4679-8060-e02e19258a7c",
   "metadata": {},
   "source": [
    "#### QC and visualizations"
   ]
  },
  {
   "cell_type": "code",
   "execution_count": null,
   "id": "95751cc1-dff4-4869-9d56-7c16f9a6d9af",
   "metadata": {
    "tags": []
   },
   "outputs": [],
   "source": [
    "# Visualize QC metrics as a violin plot\n",
    "VlnPlot(flattened_seurat, features = c(\"nFeature_RNA\", \"nCount_RNA\", \"percent.dementia\"), ncol = 3)\n",
    "VlnPlot(temporal_seurat, features = c(\"nFeature_RNA\", \"nCount_RNA\", \"percent.dementia\"), ncol = 3)\n",
    "## nFeatureRNA: a QC metric that represents the number of detected RNA features (genes) in each cell\n",
    "## here: a QC metric that represents the number of detected symptombins in each donor. so some donor have many symptombins and others fewer\n",
    "\n",
    "## nCount_RNA:  QC metric in scRNA-seq data analysis that represents the total number of RNA molecules (counts) detected in each cell\n",
    "## here: represents the total number of observations summed over all symptombins in each donor. so many donors have few observations\n",
    "\n",
    "## percent.dementia: represents the percentage of donors that exhibit a dementia symptombin? hard to interpret?"
   ]
  },
  {
   "cell_type": "code",
   "execution_count": null,
   "id": "104e7f8e-cb65-4a60-aaa0-9b2a902caa99",
   "metadata": {
    "tags": []
   },
   "outputs": [],
   "source": [
    "## shows the relationship between the percentages of donors expressing the \"dementia\" symptombins and the \"executive dysfunction\" symptombins\n",
    "## It provides a scatter plot where each point represents a donor\n",
    "plot1 <- FeatureScatter(flattened_seurat, feature1 = \"percent.dementia\", feature2 = \"percent.executive_dysfunction\")\n",
    "plot2 <- FeatureScatter(flattened_seurat, feature1 = \"percent.dementia\", feature2 = \"percent.memory\")\n",
    "plot1"
   ]
  },
  {
   "cell_type": "code",
   "execution_count": null,
   "id": "710b55a1-ec41-4dd9-9af8-88396b5d9cb0",
   "metadata": {},
   "outputs": [],
   "source": [
    "temporal_seurat <- NormalizeData(temporal_seurat, normalization.method = \"LogNormalize\", scale.factor = 100)\n",
    "all.symptombins <- rownames(temporal_seurat)\n",
    "temporal_seurat <- ScaleData(temporal_seurat, features = all.symptombins,\n",
    "                do.center = TRUE, # default TRUE\n",
    "                scale.max = 10, # default 10\n",
    "                model.use = \"linear\", ## default linear\n",
    "               )"
   ]
  },
  {
   "cell_type": "code",
   "execution_count": null,
   "id": "f36bddf7-bdc8-47fd-85ea-0fd624b519d8",
   "metadata": {
    "tags": []
   },
   "outputs": [],
   "source": [
    "### OOK leuk voor als clusters er zijn!! #######\n",
    "# Access the column data by column name\n",
    "features <- c(most_observations_flattened)\n",
    "VlnPlot(flattened_seurat, features = features, ncol = 2)\n",
    "\n",
    "## LogNormalize of the raw observation numbers\n",
    "flattened_seurat <- NormalizeData(flattened_seurat, normalization.method = \"LogNormalize\", scale.factor = 100)\n",
    "VlnPlot(flattened_seurat, features = features, ncol = 2)\n",
    "\n",
    "## data scaling using z-score normalization, on already normalized data.\n",
    "## It standardizes the observations of symptombins within each donor based on the mean and standard deviation\n",
    "all.symptombins <- rownames(flattened_seurat)\n",
    "flattened_seurat <- ScaleData(flattened_seurat, \n",
    "                features = all.symptombins,\n",
    "                do.center = TRUE, # default TRUE\n",
    "                scale.max = 10, # default 10\n",
    "                model.use = \"linear\", ## default linear\n",
    "               )\n",
    "VlnPlot(flattened_seurat, features = features, ncol = 2)"
   ]
  },
  {
   "cell_type": "markdown",
   "id": "c7df67c1-2d6a-4a8f-8c3e-d4137e69ca48",
   "metadata": {},
   "source": [
    "#### variable features"
   ]
  },
  {
   "cell_type": "code",
   "execution_count": null,
   "id": "68cb6d24-cd86-4088-8f4d-5ea2faaebc84",
   "metadata": {},
   "outputs": [],
   "source": [
    "flattened_seurat <- FindVariableFeatures(flattened_seurat, selection.method = \"vst\", nfeatures = 1500)\n",
    "temporal_seurat <- FindVariableFeatures(temporal_seurat, selection.method = \"vst\", nfeatures = 1500)"
   ]
  },
  {
   "cell_type": "code",
   "execution_count": null,
   "id": "ba64df56-370a-48a7-adc1-69c1460515be",
   "metadata": {
    "tags": []
   },
   "outputs": [],
   "source": [
    "# M1 <- FindVariableFeatures(M1, selection.method = \"vst\", nfeatures = 1500)\n",
    "\n",
    "## we can have over 1500 features (e.g. for overlapping bins). nfeatures has a large influence!\n",
    "## VST is useful when you expect the variance of the features to be related to their mean expression levels. \n",
    "## I think that translates to: when you expect the variance of the symptombin to be expected to the mean lvl of the symptom bin\n",
    "## e.g. would dementia, which has a higher count, also have a higher variance? I think this is the case, but we should also try the others\n",
    "## mvp selects very few. dispersion (disp): selects the symptombins with the highest dispersion values.\n",
    "## It focuses on identifying features with the largest variation across samples. \n",
    "\n",
    "\n",
    "print(paste(\"Number of Variable Features: \",length(x = VariableFeatures(object = temporal_seurat))));\n",
    "# Identify the 10 most highly variable genes\n",
    "top10 <- head(VariableFeatures(temporal_seurat), 20)\n",
    "plot1 <- VariableFeaturePlot(temporal_seurat)\n",
    "plot2 <- LabelPoints(plot = plot1, points = top10, repel = TRUE)\n",
    "plot2\n",
    "\n",
    "print(paste(\"Number of Variable Features: \",length(x = VariableFeatures(object = flattened_seurat))));\n",
    "# Identify the 10 most highly variable genes\n",
    "top10 <- head(VariableFeatures(flattened_seurat), 20)\n",
    "plot1 <- VariableFeaturePlot(flattened_seurat)\n",
    "plot2 <- LabelPoints(plot = plot1, points = top10, repel = TRUE)\n",
    "plot2"
   ]
  },
  {
   "cell_type": "markdown",
   "id": "280a299e-77ef-499d-9f6d-d6b0d8cb0381",
   "metadata": {},
   "source": [
    "#### ICA"
   ]
  },
  {
   "cell_type": "code",
   "execution_count": null,
   "id": "afaaf197-5412-45f6-ab87-fb61702cbeaa",
   "metadata": {},
   "outputs": [],
   "source": [
    "# M1 <- RunICA(object = M1, verbose = FALSE,features = VariableFeatures(object = M1),\n",
    "#              nics = 50, # default is 50\n",
    "#             )\n",
    "# print(M1[[\"ica\"]], dims = 1:5, nfeatures = 5)\n",
    "# options(repr.plot.width = 12, repr.plot.height = 8)\n",
    "# VizDimLoadings(M1, dims = 1:3, reduction = \"ica\")\n",
    "# DimPlot(M1, reduction = \"ica\",dims=c(1,2),group.by = \"diagnosis\")\n",
    "# M1 <- RunUMAP(M1, \n",
    "#               dims = 1:20,\n",
    "#               reduction = 'ica', # default pca\n",
    "#              )\n",
    "# generate_dim_plot(M1)"
   ]
  },
  {
   "cell_type": "markdown",
   "id": "bf87e868-cb4f-4d49-a127-d5b881c85a2b",
   "metadata": {},
   "source": [
    "### PCA"
   ]
  },
  {
   "cell_type": "code",
   "execution_count": null,
   "id": "31d09f77-7d1c-4617-8a88-942ed9b07e3b",
   "metadata": {},
   "outputs": [],
   "source": []
  },
  {
   "cell_type": "code",
   "execution_count": null,
   "id": "5df8264c-76fe-456c-b120-aa7d925fccc6",
   "metadata": {
    "tags": []
   },
   "outputs": [],
   "source": [
    "flattened_seurat <- perform_pca_and_visualization(flattened_seurat)"
   ]
  },
  {
   "cell_type": "code",
   "execution_count": null,
   "id": "e6901d6f-7089-49fd-8d57-85071ba11c65",
   "metadata": {
    "tags": []
   },
   "outputs": [],
   "source": [
    "temporal_seurat <- perform_pca_and_visualization(temporal_seurat)"
   ]
  },
  {
   "cell_type": "markdown",
   "id": "183912c9-51bd-4ebf-bb3c-78a746cc48bb",
   "metadata": {},
   "source": [
    "## cluster flattened"
   ]
  },
  {
   "cell_type": "code",
   "execution_count": null,
   "id": "e9bdff0f-ad71-42e3-99b7-6a2b241ae331",
   "metadata": {},
   "outputs": [],
   "source": [
    "## based on PCs computed earlie5\n",
    "## uit ervaring, minder pcs geeft wat mooiere wolken, meer PCs wat 'intuitievere' plaatsing van wolken\n",
    "## clustering on the nearest neighbor graph. \n",
    "## The resolution parameter determines the granularity of the clustering, with higher values resulting in more fine-grained clusters.\n",
    "##  Higher values result in more clusters, while lower values yield fewer, but potentially more general clusters."
   ]
  },
  {
   "cell_type": "code",
   "execution_count": null,
   "id": "09a12549-4177-4ec0-a196-5b64e6ac8938",
   "metadata": {
    "tags": []
   },
   "outputs": [],
   "source": [
    "flattened_seurat <- FindNeighbors(flattened_seurat, dims = 1:10,reduction='pca')\n",
    "flattened_seurat <- FindClusters(flattened_seurat, reduction='pca', resolution = 0.5)"
   ]
  },
  {
   "cell_type": "markdown",
   "id": "49a82a53-3344-404a-80db-b9ea3ef2bf44",
   "metadata": {},
   "source": [
    "##### UMAP"
   ]
  },
  {
   "cell_type": "code",
   "execution_count": null,
   "id": "59b61358-2800-4ec8-ad8f-64dfbb53a53e",
   "metadata": {
    "tags": []
   },
   "outputs": [],
   "source": [
    "# If you haven't installed UMAP, you can do so via reticulate::py_install(packages =\n",
    "# 'umap-learn')\n",
    "flattened_seurat <- RunUMAP(flattened_seurat, dims = 1:10,reduction = 'pca',)"
   ]
  },
  {
   "cell_type": "markdown",
   "id": "2c0a8c96-798c-41e1-a3ac-e2325f259278",
   "metadata": {},
   "source": [
    "##### vizualise UMAP clusters"
   ]
  },
  {
   "cell_type": "code",
   "execution_count": null,
   "id": "29de20e5-276e-42e6-ab05-d41bf23d6d97",
   "metadata": {
    "tags": []
   },
   "outputs": [],
   "source": [
    "generate_dim_plot(flattened_seurat)\n",
    "# FeaturePlot(M1, features = \"MS_PRS\", reduction = \"umap\", cols = viridis::viridis(10))\n",
    "# DimPlot(M1, reduction = \"umap\", group.by = \"diagnosisPD\")+coord_fixed(ratio = 1.5)\n",
    "# DimPlot(M1, reduction = \"umap\", group.by = \"diagnosisAD\")\n",
    "# DimPlot(M1, reduction = \"umap\", group.by = \"diagnosisFTD\")+coord_fixed(ratio = 1.5)\n",
    "# DimPlot(M1, reduction = \"umap\", group.by = \"diagnosisMS\")\n",
    "# DimPlot(M1, reduction = \"umap\", group.by = \"clin_diagnosis\")\n",
    "# DimPlot(M1, reduction = \"umap\", group.by = \"sex\")"
   ]
  },
  {
   "cell_type": "markdown",
   "id": "c8194ae9-5c39-40d7-8d75-cd0de0866d73",
   "metadata": {},
   "source": [
    "##### cluster identiy"
   ]
  },
  {
   "cell_type": "code",
   "execution_count": null,
   "id": "5c9fe3e9-fc00-4470-bfad-8e55ebf911d4",
   "metadata": {
    "tags": []
   },
   "outputs": [],
   "source": [
    "p_values_df <- calculate_p_values(flattened_seurat)\n",
    "plot_cluster_diagnosis(flattened_seurat,p_values_df)"
   ]
  },
  {
   "cell_type": "markdown",
   "id": "c96f89c2-3ad4-4d84-b610-cc996a02de86",
   "metadata": {},
   "source": [
    "We see 6 clusters:\n",
    "- 0: mainly AD\n",
    "- 1: mainly PD\n",
    "- 2: mainly control\n",
    "- 3: mainly MS\n",
    "- 4: mainly AD+FTD\n",
    "- 5: mainly psych\n",
    "- 6: mainly AD "
   ]
  },
  {
   "cell_type": "markdown",
   "id": "bbfbd961-a3b5-4100-941e-a917d42f111d",
   "metadata": {},
   "source": [
    "## cluster temporal"
   ]
  },
  {
   "cell_type": "code",
   "execution_count": null,
   "id": "231b27b5-d46d-44ce-a2b4-22819586c0aa",
   "metadata": {
    "tags": []
   },
   "outputs": [],
   "source": [
    "temporal_seurat <- FindNeighbors(temporal_seurat, dims = 1:25,reduction='pca')\n",
    "temporal_seurat <- FindClusters(temporal_seurat, reduction='pca', resolution = 0.5)"
   ]
  },
  {
   "cell_type": "code",
   "execution_count": null,
   "id": "777e1e28-1ea8-47e0-af2d-fa5a45ed6b8f",
   "metadata": {
    "tags": []
   },
   "outputs": [],
   "source": [
    "temporal_seurat <- RunUMAP(temporal_seurat, dims = 1:25,reduction = 'pca',)"
   ]
  },
  {
   "cell_type": "code",
   "execution_count": null,
   "id": "f471a8a1-0252-4c3d-943b-598fd5460f13",
   "metadata": {
    "tags": []
   },
   "outputs": [],
   "source": [
    "generate_dim_plot(temporal_seurat)"
   ]
  },
  {
   "cell_type": "code",
   "execution_count": null,
   "id": "7fbddd45-ae28-4576-aad5-f28d8c0a32ec",
   "metadata": {
    "tags": []
   },
   "outputs": [],
   "source": [
    "p_values_df <- calculate_p_values(temporal_seurat)\n",
    "plot_cluster_diagnosis(temporal_seurat,p_values_df)"
   ]
  },
  {
   "cell_type": "markdown",
   "id": "175f63ff-a892-4e49-a543-15bdd42944f9",
   "metadata": {},
   "source": [
    "## project temporal on flattened"
   ]
  },
  {
   "cell_type": "code",
   "execution_count": null,
   "id": "bc633f68-32fd-4a77-9c9e-de7126b12090",
   "metadata": {},
   "outputs": [],
   "source": [
    "flattened_clusters <- flattened_seurat@meta.data$seurat_clusters\n",
    "head(colnames(flattened_seurat))\n",
    "temporal_seurat$flattened_clusters <- flattened_clusters"
   ]
  },
  {
   "cell_type": "code",
   "execution_count": null,
   "id": "c5aa47f3-d7bc-4f11-8283-10daf7c40d95",
   "metadata": {
    "tags": []
   },
   "outputs": [],
   "source": [
    "DimPlot(temporal_seurat, reduction = \"umap\", group.by = \"flattened_clusters\") +\n",
    "theme(legend.key.size = unit(2, \"lines\"),\n",
    "      legend.text = element_text(size = 14)) +\n",
    "theme(plot.margin = margin(0.1, 0.1, 0.1, 0.5, \"cm\")) +\n",
    "labs(title = \"temporal_clusters flattened coloring\") +\n",
    "coord_fixed(ratio = 1.5)\n"
   ]
  },
  {
   "cell_type": "markdown",
   "id": "a3e83251-59fd-44b2-8fd8-65f19800947f",
   "metadata": {},
   "source": [
    "## project flattened on temporal"
   ]
  },
  {
   "cell_type": "code",
   "execution_count": null,
   "id": "47e67a93-6cbc-4ffd-b31b-ad051582178b",
   "metadata": {
    "tags": []
   },
   "outputs": [],
   "source": [
    "temporal_clusters <- temporal_seurat@meta.data$seurat_clusters\n",
    "head(colnames(temporal_seurat))\n",
    "flattened_seurat$temporal_clusters <- temporal_clusters\n",
    "\n",
    "DimPlot(flattened_seurat, reduction = \"umap\", group.by = \"temporal_clusters\") +\n",
    "theme(legend.key.size = unit(2, \"lines\"),\n",
    "      legend.text = element_text(size = 14)) +\n",
    "theme(plot.margin = margin(0.1, 0.1, 0.1, 0.5, \"cm\")) +\n",
    "labs(title = \"flattened_clusters temporal coloring\") +\n",
    "coord_fixed(ratio = 1.5)\n"
   ]
  },
  {
   "cell_type": "markdown",
   "id": "63a444f3-ae23-4769-a065-938c37495670",
   "metadata": {},
   "source": [
    "## flattened: select AD/FTDetc."
   ]
  },
  {
   "cell_type": "code",
   "execution_count": null,
   "id": "612ab86e-ed4d-4911-889a-c9825b1d7768",
   "metadata": {
    "tags": []
   },
   "outputs": [],
   "source": [
    "flattened_seurat_cog <- subset(flattened_seurat, idents = c(0,4,6))\n",
    "flattened_seurat_cog <- NormalizeData(flattened_seurat_cog, normalization.method = \"LogNormalize\", scale.factor = 100)\n",
    "all.symptombins <- rownames(flattened_seurat_cog)\n",
    "flattened_seurat_cog <- ScaleData(flattened_seurat_cog, features = all.symptombins,\n",
    "                do.center = TRUE, # default TRUE\n",
    "                scale.max = 10, # default 10\n",
    "                model.use = \"linear\", ## default linear\n",
    "               )\n",
    "flattened_seurat_cog <- FindVariableFeatures(flattened_seurat_cog, selection.method = \"vst\", nfeatures = 1500)\n",
    "flattened_seurat_cog <- perform_pca_and_visualization(flattened_seurat_cog)"
   ]
  },
  {
   "cell_type": "code",
   "execution_count": null,
   "id": "c90b998b-e0c9-4dbd-9728-c382495e129e",
   "metadata": {
    "tags": []
   },
   "outputs": [],
   "source": [
    "flattened_seurat_cog <- FindNeighbors(flattened_seurat_cog, dims = 1:12,reduction='pca')\n",
    "flattened_seurat_cog <- FindClusters(flattened_seurat_cog, reduction='pca', resolution = 0.5)"
   ]
  },
  {
   "cell_type": "code",
   "execution_count": null,
   "id": "136fe0ad-faaa-4bae-8e72-fcdf427aa17b",
   "metadata": {
    "tags": []
   },
   "outputs": [],
   "source": [
    "flattened_seurat_cog <- RunUMAP(flattened_seurat_cog, dims = 1:12,reduction = 'pca',verbose=FALSE)"
   ]
  },
  {
   "cell_type": "code",
   "execution_count": null,
   "id": "13a247ae-a513-4eba-bd56-736a68bc9492",
   "metadata": {
    "tags": []
   },
   "outputs": [],
   "source": [
    "generate_dim_plot(flattened_seurat_cog)"
   ]
  },
  {
   "cell_type": "code",
   "execution_count": null,
   "id": "d145522e-36d9-4a21-b2c6-56ca0ef1cba3",
   "metadata": {
    "tags": []
   },
   "outputs": [],
   "source": [
    "p_values_df <- calculate_p_values(flattened_seurat_cog)\n",
    "plot_cluster_diagnosis(flattened_seurat_cog,p_values_df)"
   ]
  },
  {
   "cell_type": "markdown",
   "id": "eb737072-7d55-48ad-bc08-95dd729cca04",
   "metadata": {},
   "source": [
    "#### project temporal on flattened"
   ]
  },
  {
   "cell_type": "code",
   "execution_count": null,
   "id": "72887998-4cfe-4cf8-86dd-6f38a6335112",
   "metadata": {},
   "outputs": [],
   "source": [
    "flattened_seurat_cog$temporal_clusters_cog <- NA\n",
    "matching_rows <- match(rownames(flattened_seurat_cog@meta.data), rownames(temporal_seurat_cog@meta.data))\n",
    "flattened_seurat_cog$temporal_clusters_cog <- temporal_seurat_cog@meta.data$seurat_clusters[matching_rows]\n",
    "# head(flattened_seurat_cog@meta.data)\n",
    "\n",
    "DimPlot(flattened_seurat_cog, reduction = \"umap\", group.by = \"temporal_clusters_cog\") +\n",
    "theme(legend.key.size = unit(2, \"lines\"),\n",
    "      legend.text = element_text(size = 14)) +\n",
    "theme(plot.margin = margin(0.1, 0.1, 0.1, 0.5, \"cm\")) +\n",
    "labs(title = \"flattened_clusters temporal coloring\") +\n",
    "coord_fixed(ratio = 1.5)\n"
   ]
  },
  {
   "cell_type": "markdown",
   "id": "d34f8bce-fe03-4e59-876b-fb8061d85815",
   "metadata": {},
   "source": [
    "## temporal: select AD/FTDetc."
   ]
  },
  {
   "cell_type": "code",
   "execution_count": null,
   "id": "15dbf63e-ba97-443b-ab3f-aeb40dc85857",
   "metadata": {
    "tags": []
   },
   "outputs": [],
   "source": [
    "temporal_seurat_cog <- subset(temporal_seurat, idents = c(0,3,6))\n",
    "temporal_seurat_cog <- NormalizeData(temporal_seurat_cog, normalization.method = \"LogNormalize\", scale.factor = 100)\n",
    "all.symptombins <- rownames(temporal_seurat_cog)\n",
    "temporal_seurat_cog <- ScaleData(temporal_seurat_cog, features = all.symptombins,\n",
    "                do.center = TRUE, # default TRUE\n",
    "                scale.max = 10, # default 10\n",
    "                model.use = \"linear\", ## default linear\n",
    "               )\n",
    "temporal_seurat_cog <- FindVariableFeatures(temporal_seurat_cog, selection.method = \"vst\", nfeatures = 1500)\n",
    "temporal_seurat_cog <- perform_pca_and_visualization(temporal_seurat_cog)"
   ]
  },
  {
   "cell_type": "code",
   "execution_count": null,
   "id": "86381389-1d28-4683-ace0-27fea5de1ab8",
   "metadata": {
    "tags": []
   },
   "outputs": [],
   "source": [
    "temporal_seurat_cog <- FindNeighbors(temporal_seurat_cog, dims = 1:20,reduction='pca')\n",
    "temporal_seurat_cog <- FindClusters(temporal_seurat_cog, reduction='pca', resolution = 0.5)"
   ]
  },
  {
   "cell_type": "code",
   "execution_count": null,
   "id": "98c05f90-bf85-4226-85d6-d5a51031a761",
   "metadata": {},
   "outputs": [],
   "source": [
    "temporal_seurat_cog <- RunUMAP(temporal_seurat_cog, dims = 1:20,reduction = 'pca',verbose=FALSE)"
   ]
  },
  {
   "cell_type": "code",
   "execution_count": null,
   "id": "8f5c06aa-d745-419c-bcad-2ab67e4bbbde",
   "metadata": {
    "tags": []
   },
   "outputs": [],
   "source": [
    "generate_dim_plot(temporal_seurat_cog)"
   ]
  },
  {
   "cell_type": "code",
   "execution_count": null,
   "id": "2116e3eb-8575-45d1-8116-1a9fe9509469",
   "metadata": {
    "tags": []
   },
   "outputs": [],
   "source": [
    "p_values_df <- calculate_p_values(temporal_seurat_cog)\n",
    "plot_cluster_diagnosis(temporal_seurat_cog,p_values_df)"
   ]
  },
  {
   "cell_type": "markdown",
   "id": "3f472ef9-5f4c-4153-8623-f4b00f3c3183",
   "metadata": {},
   "source": [
    "#### project flattened on temporal"
   ]
  },
  {
   "cell_type": "code",
   "execution_count": null,
   "id": "cfebe517-e6ac-427e-ab67-a0bc7ae14690",
   "metadata": {},
   "outputs": [],
   "source": [
    "temporal_seurat_cog$temporal_clusters_cog <- NA\n",
    "matching_rows <- match(rownames(temporal_seurat_cog@meta.data), rownames(flattened_seurat_cog@meta.data))\n",
    "temporal_seurat_cog$flattened_clusters_cog <- flattened_seurat_cog@meta.data$seurat_clusters[matching_rows]\n",
    "# head(flattened_seurat_cog@meta.data)\n",
    "\n",
    "DimPlot(temporal_seurat_cog, reduction = \"umap\", group.by = \"flattened_clusters_cog\") +\n",
    "theme(legend.key.size = unit(2, \"lines\"),\n",
    "      legend.text = element_text(size = 14)) +\n",
    "theme(plot.margin = margin(0.1, 0.1, 0.1, 0.5, \"cm\")) +\n",
    "labs(title = \"flattened_clusters temporal coloring\") +\n",
    "coord_fixed(ratio = 1.5)"
   ]
  },
  {
   "cell_type": "markdown",
   "id": "7b494eee-1464-4afd-bf14-e784b5c3e31e",
   "metadata": {},
   "source": [
    "### weighted nearest neighbor analysis"
   ]
  },
  {
   "cell_type": "markdown",
   "id": "c7ecb047-ac32-4ba3-b267-52bc7961b997",
   "metadata": {},
   "source": [
    "- : Independent preprocessing and dimensional reduction of each modality individually <br>\n",
    "- : Learning cell-specific modality ‘weights’, and constructing a WNN graph that integrates the modalities <br>\n",
    "- : Downstream analysis (i.e. visualization, clustering, etc.) of the WNN graph <br>"
   ]
  },
  {
   "cell_type": "code",
   "execution_count": null,
   "id": "c3e65fea-9268-477c-aef8-b92c50b100e7",
   "metadata": {},
   "outputs": [],
   "source": []
  },
  {
   "cell_type": "code",
   "execution_count": null,
   "id": "f597246a-6b48-4409-ae60-fdbfa3f155e8",
   "metadata": {},
   "outputs": [],
   "source": []
  },
  {
   "cell_type": "markdown",
   "id": "6615781e-424e-42a2-9396-e3c5558dc8ca",
   "metadata": {},
   "source": [
    "#### give clusters more informative names"
   ]
  },
  {
   "cell_type": "code",
   "execution_count": null,
   "id": "a4635570-d08c-4218-95ac-e81903f9e6ef",
   "metadata": {},
   "outputs": [],
   "source": [
    "# M1 <- RenameIdents(object = M1,\"0\" = \"AD\",\"1\" = \"PD\",\"2\" = \"CONTROL\",\"3\" = \"AD.FTD\",\"4\" = \"MS\", \"5\" = \"PSYCH\")"
   ]
  },
  {
   "cell_type": "code",
   "execution_count": null,
   "id": "d8e91091-d706-4baa-a613-cee99696f0a5",
   "metadata": {},
   "outputs": [],
   "source": [
    "# head(M1@meta.data)\n",
    "# hist(M1_with_PRS@meta.data$MS_PRS)"
   ]
  },
  {
   "cell_type": "markdown",
   "id": "23f36be2-2b10-4f42-84c4-88b68459252e",
   "metadata": {},
   "source": [
    "#### we can examine which symptombins are important for the current clustering "
   ]
  },
  {
   "cell_type": "code",
   "execution_count": null,
   "id": "936dcd8c-7e7f-442c-b6d1-00d930095587",
   "metadata": {},
   "outputs": [],
   "source": [
    "# # ## for example for MS cluster\n",
    "# cluster_number <- 5\n",
    "\n",
    "# # # # Subset the data to include only cluster 2\n",
    "# # cluster03 <- subset(M1, idents = c(0,3))\n",
    "# # # de_markers <- FindMarkers(cluster03, ident.1 = 0, ident.2 = 3, min.pct = 0.1)\n",
    "# # # de_markers <- de_markers %>% arrange(desc(pct.1))\n",
    "# # # de_markers <- de_markers %>% arrange(p_val_adj)\n",
    "# # # de_markers\n",
    "\n",
    "# # # # Perform differential expression analysis using the symptoms as features\n",
    "# cluster_markers <- FindMarkers(M1, ident.1 = cluster_number, min.pct = 0.1)\n",
    "# cluster_markers <- cluster_markers %>% arrange(desc(avg_log2FC))\n",
    "# # cluster_markers <- head(cluster_markers %>% arrange(desc(pct.1)),5)\n",
    "# # cluster_markers <- cluster_markers %>% filter(p_val_adj < 0.05)\n",
    "# cluster_markers <- head(cluster_markers %>% arrange(p_val_adj))\n",
    "# head(cluster_markers)\n"
   ]
  },
  {
   "cell_type": "code",
   "execution_count": null,
   "id": "7fd34e63-7156-44d6-92dd-93cc7280fe24",
   "metadata": {},
   "outputs": [],
   "source": []
  },
  {
   "cell_type": "markdown",
   "id": "41f096f9-f963-48e0-947c-e8e1949a0833",
   "metadata": {},
   "source": [
    "#### we can then vizualise these symtpombins individually, or together"
   ]
  },
  {
   "cell_type": "code",
   "execution_count": null,
   "id": "92ee194b-eba6-4c79-b804-85914148e28e",
   "metadata": {},
   "outputs": [],
   "source": [
    "# # ## MS cluster\n",
    "# # features = c('Muscle.Weakness.0.30BD','Muscle.Weakness.35.65','Dementia.0.10BD','Dementia.65.95')\n",
    "\n",
    "# # ## PD cluster\n",
    "# # features = c('Parkinsonism.0.10BD','Parkinsonism.60.90','Parkinsonism.5.15BD')\n",
    "\n",
    "# FeaturePlot(M1, features = rownames(cluster_markers),reduction = \"umap\",ncol=3)\n",
    "# # FeaturePlot(M1, features = c('Dementia.60.90','Dementia.0.10BD'), blend = TRUE)"
   ]
  },
  {
   "cell_type": "markdown",
   "id": "b346368e-c0aa-4395-a343-d82cceb13f33",
   "metadata": {},
   "source": [
    "#### We can do this for all clusters and make a heatmap of the n most important features"
   ]
  },
  {
   "cell_type": "code",
   "execution_count": null,
   "id": "c6f1b478-a175-4d30-ac7d-dd9fd6fc37c7",
   "metadata": {},
   "outputs": [],
   "source": [
    "quant_features <- colnames(flattened_data)\n",
    "quant_features <- quant_features[quant_features != \"DonorID\"]\n",
    "quant_features <- as.character(quant_features)"
   ]
  },
  {
   "cell_type": "code",
   "execution_count": null,
   "id": "f7e7b741-2790-421a-b335-9b8029ee9844",
   "metadata": {},
   "outputs": [],
   "source": [
    "sup3_small <- sup3[c(\"ITname\", \"Domain\", \"Grouping\")]\n",
    "# head(sup3_small,30)"
   ]
  },
  {
   "cell_type": "code",
   "execution_count": null,
   "id": "a6746e87-78ff-4517-a31b-2327be25c27a",
   "metadata": {},
   "outputs": [],
   "source": [
    "sup3_small <- sup3[c(\"ITname\", \"Domain\", \"Grouping\")]\n",
    "extended_cluster_markers = find_extended_cluster_markers(M1,1e-20,method='sign',quant=TRUE) \n",
    "# print(extended_cluster_markers)\n",
    "sub_M1 <- subset(M1, cells = Cells(M1), features = extended_cluster_markers)\n",
    "DoHeatmap(subset(sub_M1, downsample = 100), features = extended_cluster_markers, size = 4)\n",
    "generate_heatmap_plot(M1, extended_cluster_markers, sup3_small,3)"
   ]
  },
  {
   "cell_type": "code",
   "execution_count": null,
   "id": "c38631ec-7285-4b88-93bd-639232428b74",
   "metadata": {},
   "outputs": [],
   "source": [
    "extended_cluster_markers = find_extended_cluster_markers(M1,10,method='topn',quant=FALSE) \n",
    "# print(extended_cluster_markers)\n",
    "sub_M1 <- subset(M1, cells = Cells(M1), features = extended_cluster_markers)\n",
    "DoHeatmap(subset(sub_M1, downsample = 100), features = extended_cluster_markers, size = 4)\n",
    "generate_heatmap_plot(M1, extended_cluster_markers, sup3_small,3)"
   ]
  },
  {
   "cell_type": "markdown",
   "id": "addeec22-4d84-42d1-a95b-038c5e4b90ce",
   "metadata": {},
   "source": [
    "#### rerun for specific clusters"
   ]
  },
  {
   "cell_type": "code",
   "execution_count": null,
   "id": "d942ce5b-27e1-40bf-86d8-7e1399c876a3",
   "metadata": {},
   "outputs": [],
   "source": [
    "M1_filtered <- subset(M1, idents = c(0,4,6)) ## AD\n",
    "selected_donorIDs <- colnames(M1_filtered)\n",
    "# selected_donorIDs <- gsub(\" \", \"\", selected_donorIDs)\n",
    "head(selected_donorIDs)"
   ]
  },
  {
   "cell_type": "code",
   "execution_count": null,
   "id": "8957e3cb-5d9f-46f3-9b72-bdae9d271341",
   "metadata": {},
   "outputs": [],
   "source": []
  },
  {
   "cell_type": "code",
   "execution_count": null,
   "id": "3873e544-3bfa-4d7b-8c21-ee2d6741ea81",
   "metadata": {
    "tags": []
   },
   "outputs": [],
   "source": [
    "merged_data <- merge(age_reshaped, flattened_data, by = \"DonorID\", all = TRUE)\n",
    "# merged_data <- age_reshaped\n",
    "# merged_data <- flattened_data\n",
    "rownames(merged_data) <- merged_data$DonorID ##set rownames\n",
    "head(rownames(merged_data))\n",
    "dim(merged_data)\n",
    "cog_clust <- merged_data[rownames(merged_data) %in% selected_donorIDs, ]\n",
    "\n",
    "# head(cog_clust)\n",
    "cog_clust$DonorID <- NULL\n",
    "cog_clust$Age <-NULL\n",
    "dim(cog_clust)\n",
    "cog_clust = t(cog_clust)\n",
    "M2 <- CreateSeuratObject(counts = cog_clust, project = \"NND\", min.cells = 10, min.features = 1)\n",
    "\n",
    "M2\n",
    "# calculates the percentage of donors with symptombins related to dementia and adds this information as a new metadata column\n",
    "M2[[\"percent.dementia\"]] <- PercentageFeatureSet(M2, pattern = \"Dementia\")\n",
    "M2[[\"percent.executive_dysfunction\"]] <- PercentageFeatureSet(M2, pattern = \"Execut\")\n",
    "M2[[\"percent.memory\"]] <- PercentageFeatureSet(M2, pattern = \"Memory\")\n",
    "\n",
    "##  assigns the sex information from the external metadata table (meta_data) to the Seurat object\n",
    "M2[['sex']] = meta_data[match(names(M2$orig.ident), rownames(meta_data)),'sex']\n",
    "M2[['Age_bin']] = meta_data[match(names(M2$orig.ident), rownames(meta_data)),'age_bin']\n",
    "M2[['Age']] = meta_data[match(names(M2$orig.ident), rownames(meta_data)),'age_at_death']\n",
    "M2[['perfect_diagnosis']] = meta_data[match(names(M2$orig.ident), rownames(meta_data)),'perfect_diagnosis']\n",
    "M2[['wrong_diagnosis']] = meta_data[match(names(M2$orig.ident), rownames(meta_data)),'wrong_diagnosis']\n",
    "M2[['diagnosis']] <- meta_data[match(names(M2$orig.ident), rownames(meta_data)),'neuropathological_diagnosis']\n",
    "\n",
    "\n",
    "\n",
    "# ## LogNormalize of the raw observation numbers\n",
    "M2 <- NormalizeData(M2, normalization.method = \"LogNormalize\", scale.factor = 100)\n",
    "\n",
    "# ## data scaling using z-score normalization, on already normalized data.\n",
    "# ## It standardizes the observations of symptombins within each donor based on the mean and standard deviation\n",
    "all.symptombins <- rownames(M2)\n",
    "M2 <- ScaleData(M2, \n",
    "                features = all.symptombins,\n",
    "                do.center = TRUE, # default TRUE\n",
    "                scale.max = 10, # default 10\n",
    "                model.use = \"linear\", ## default linear\n",
    "               )\n",
    "M2 <- FindVariableFeatures(M2, selection.method = \"vst\", nfeatures = 1500)\n",
    "M2 <- RunPCA(object = M2, verbose = FALSE,features = VariableFeatures(object = M2),\n",
    "             npcs = 50, # default is 50\n",
    "            )\n",
    "M2 <- JackStraw(M2, num.replicate = 100)\n",
    "M2 <- ScoreJackStraw(M2, dims = 1:20)\n",
    "JackStrawPlot(M2, dims = 1:20)\n",
    "ElbowPlot(M2)\n",
    "\n",
    "\n"
   ]
  },
  {
   "cell_type": "code",
   "execution_count": null,
   "id": "30bab580-612a-411e-b4b7-c10fbf63d1cc",
   "metadata": {
    "tags": []
   },
   "outputs": [],
   "source": [
    "M2 <- FindNeighbors(M2, dims = 1:15)\n",
    "M2 <- FindClusters(M2, resolution = 0.5) ## defualt is 0.8)\n",
    "M2 <- RunUMAP(M2,dims = 1:15,reduction = 'pca') # default pca"
   ]
  },
  {
   "cell_type": "code",
   "execution_count": null,
   "id": "93a95467-5e54-46fd-8196-b6d10e02dcc2",
   "metadata": {
    "tags": []
   },
   "outputs": [],
   "source": [
    "generate_dim_plot(M2)"
   ]
  },
  {
   "cell_type": "code",
   "execution_count": null,
   "id": "538d5358-54c4-4227-83cf-da66f5513fdf",
   "metadata": {
    "tags": []
   },
   "outputs": [],
   "source": [
    "p_values_df <- calculate_p_values(M2)\n",
    "plot_cluster_diagnosis(M2,p_values_df)\n"
   ]
  },
  {
   "cell_type": "code",
   "execution_count": null,
   "id": "2897b092-73a1-4d69-93aa-bdf2a60c9242",
   "metadata": {},
   "outputs": [],
   "source": []
  },
  {
   "cell_type": "code",
   "execution_count": null,
   "id": "0e95adac-16bf-4f3b-87e6-73779561e02e",
   "metadata": {
    "tags": []
   },
   "outputs": [],
   "source": [
    "extended_cluster_markers = find_extended_cluster_markers(M2,1e-20,method='sign') \n",
    "sub_M2 <- subset(M2, cells = Cells(M2), features = extended_cluster_markers)\n",
    "DoHeatmap(subset(sub_M2, downsample = 100), features = extended_cluster_markers, size = 4)\n",
    "generate_heatmap_plot(M2, extended_cluster_markers, sup3_small,6)"
   ]
  },
  {
   "cell_type": "code",
   "execution_count": null,
   "id": "5ab766f2-a3b4-41c6-82c4-aae76d4c3370",
   "metadata": {
    "tags": []
   },
   "outputs": [],
   "source": [
    "extended_cluster_markers = find_extended_cluster_markers(M2,0.01,method='sign',quant=TRUE) \n",
    "sub_M2 <- subset(M2, cells = Cells(M2), features = extended_cluster_markers)\n",
    "DoHeatmap(subset(sub_M2, downsample = 100), features = extended_cluster_markers, size = 4)"
   ]
  },
  {
   "cell_type": "code",
   "execution_count": null,
   "id": "fddfa511-2e5c-4521-b74f-716dbcde82c3",
   "metadata": {},
   "outputs": [],
   "source": []
  },
  {
   "cell_type": "code",
   "execution_count": null,
   "id": "3bd22f5f-c210-469f-9cda-8cc641650823",
   "metadata": {},
   "outputs": [],
   "source": []
  },
  {
   "cell_type": "code",
   "execution_count": null,
   "id": "44e234b3-e1fd-44b7-b8e2-ed3cb86a8e51",
   "metadata": {},
   "outputs": [],
   "source": []
  },
  {
   "cell_type": "markdown",
   "id": "449d7a4c-b5a1-42fd-921c-6c5f5727edbe",
   "metadata": {},
   "source": [
    "### others"
   ]
  },
  {
   "cell_type": "code",
   "execution_count": null,
   "id": "1c0e564b-9e78-4e0d-8124-231280558318",
   "metadata": {
    "tags": []
   },
   "outputs": [],
   "source": [
    "# M1_filtered <- subset(M1, idents = c(0,1,2,3,4,6,7,8,9))\n",
    "## e.g. is there any clustering within the MS cluster?\n",
    "M1_filtered <- subset(M1, idents = c(0,1,3)) ## AD\n",
    "# M1_filtered <- subset(M1, idents = c(1)) ## PD\n",
    "M1_filtered\n",
    "M1_filtered <- NormalizeData(M1_filtered, normalization.method = \"LogNormalize\", scale.factor = 100)\n",
    "M1_filtered <- ScaleData(M1_filtered, features = all.symptombins)\n",
    "M1_filtered <- FindVariableFeatures(M1_filtered, selection.method = \"vst\", nfeatures = 1500)\n",
    "M1_filtered <- RunPCA(M1_filtered, features = VariableFeatures(object = M1_filtered),verbose=FALSE)\n",
    "M1_filtered <- JackStraw(M1_filtered, num.replicate = 100)\n",
    "M1_filtered <- ScoreJackStraw(M1_filtered, dims = 1:20)\n",
    "\n",
    "JackStrawPlot(M1_filtered, dims = 1:20)\n",
    "ElbowPlot(M1_filtered)"
   ]
  },
  {
   "cell_type": "code",
   "execution_count": null,
   "id": "57c66826-40c6-468a-af80-ed47bd352ef9",
   "metadata": {},
   "outputs": [],
   "source": [
    "M1_filtered <- FindNeighbors(M1_filtered, dims = 1:15)\n",
    "M1_filtered <- FindClusters(M1_filtered, resolution = 0.3)\n",
    "M1_filtered <- RunUMAP(M1_filtered, dims = 1:15,verbose=FALSE)"
   ]
  },
  {
   "cell_type": "code",
   "execution_count": null,
   "id": "3c2c4a91-fd54-4d4f-8268-f25675d619f1",
   "metadata": {
    "tags": []
   },
   "outputs": [],
   "source": [
    "generate_dim_plot(M1_filtered)"
   ]
  },
  {
   "cell_type": "code",
   "execution_count": null,
   "id": "1b17147b-0884-4295-b62c-d2b43e772853",
   "metadata": {},
   "outputs": [],
   "source": [
    "p_values_df <- calculate_p_values(M1_filtered)\n",
    "plot_cluster_diagnosis(M1_filtered,p_values_df)"
   ]
  },
  {
   "cell_type": "code",
   "execution_count": null,
   "id": "9f1ac99d-f604-4164-9f97-bbbd68989a22",
   "metadata": {
    "tags": []
   },
   "outputs": [],
   "source": [
    "extended_cluster_markers = find_extended_cluster_markers(M1_filtered,0.01,method='sign',quant=TRUE) \n",
    "sub_M1 <- subset(M1_filtered, cells = Cells(M1_filtered), features = extended_cluster_markers)\n",
    "DoHeatmap(subset(sub_M1, downsample = 100), features = extended_cluster_markers, size = 4)\n",
    "generate_heatmap_plot(M1_filtered, extended_cluster_markers, sup3_small,3)"
   ]
  },
  {
   "cell_type": "code",
   "execution_count": null,
   "id": "dac1e6c6-4d0e-4c08-bca4-57800318ff50",
   "metadata": {
    "tags": []
   },
   "outputs": [],
   "source": [
    "extended_cluster_markers = find_extended_cluster_markers(M1_filtered,20,method='topn') \n",
    "sub_M1 <- subset(M1_filtered, cells = Cells(M1_filtered), features = extended_cluster_markers)\n",
    "DoHeatmap(subset(sub_M1, downsample = 100), features = extended_cluster_markers, size = 4)\n",
    "generate_heatmap_plot(M1_filtered, extended_cluster_markers, sup3_small,3)"
   ]
  },
  {
   "cell_type": "code",
   "execution_count": null,
   "id": "ea8f90a1-a127-496d-8120-369a37488332",
   "metadata": {},
   "outputs": [],
   "source": [
    "FTD_cluster <- subset(M1_filtered, idents = c(1)) ## AD\n",
    "FTDdonors <- colnames(FTD_cluster)\n",
    "head(FTDdonors)\n",
    "\n",
    "FTD_other <-subset(M1_filtered, idents = c(0,2,3)) ## AD\n",
    "FTD_other <- colnames(FTD_other)\n",
    "head(FTD_other)"
   ]
  },
  {
   "cell_type": "code",
   "execution_count": null,
   "id": "92bdf3de-23a0-4160-aa6c-50a825e07f43",
   "metadata": {},
   "outputs": [],
   "source": [
    "meta_data_FTD <- meta_data %>%\n",
    "  filter(neuropathological_diagnosis == \"FTD\")\n",
    "\n",
    "meta_data_FTD <- meta_data_FTD %>%\n",
    "  mutate(FTDcluster = ifelse(rownames(meta_data_FTD) %in% FTDdonors, 1, 0))\n",
    "\n",
    "grouped_data <- meta_data_FTD %>%\n",
    "  group_by(FTDcluster)\n",
    "# head(meta_data_FTD)\n",
    "# Calculate the count for each column within each group\n",
    "summary_data <- grouped_data %>%\n",
    "  summarise(\n",
    "    count_perfect_diagnosis = sum(perfect_diagnosis),\n",
    "    count_medium_diagnosis = sum(medium_diagnosis),\n",
    "    count_wrong_diagnosis = sum(wrong_diagnosis)\n",
    "  )\n",
    "\n",
    "print(summary_data)\n",
    "\n",
    "\n",
    "# Assuming your tibble is named 'summary_data', you can do the following:\n",
    "summary_data <- summary_data %>%\n",
    "  rowwise() %>%\n",
    "  mutate(\n",
    "    percent_perfect_diagnosis = count_perfect_diagnosis / sum(c(count_perfect_diagnosis, count_medium_diagnosis, count_wrong_diagnosis)) * 100,\n",
    "    percent_medium_diagnosis = count_medium_diagnosis / sum(c(count_perfect_diagnosis, count_medium_diagnosis, count_wrong_diagnosis)) * 100,\n",
    "    percent_wrong_diagnosis = count_wrong_diagnosis / sum(c(count_perfect_diagnosis, count_medium_diagnosis, count_wrong_diagnosis)) * 100\n",
    "  ) %>%\n",
    "  select(-starts_with(\"count_\"))  # Remove the count columns\n",
    "\n",
    "\n",
    "\n",
    "# Print the updated tibble with percentages\n",
    "print(summary_data)\n",
    "melted_data <- reshape2::melt(summary_data, id.vars = \"FTDcluster\")\n",
    "\n",
    "# Create a grouped bar chart\n",
    "ggplot(melted_data, aes(x = factor(FTDcluster), y = value, fill = variable)) +\n",
    "  geom_bar(stat = \"identity\", position = \"dodge\") +\n",
    "  labs(title = \"Percentage of Diagnosis by FTDcluster\",\n",
    "       x = \"FTDcluster\",\n",
    "       y = \"Percentage (%)\") +\n",
    "  scale_fill_discrete(name = \"Diagnosis Type\") +\n",
    "  theme_minimal()"
   ]
  },
  {
   "cell_type": "code",
   "execution_count": null,
   "id": "8848e34e-c95b-4462-b535-97a36e443a9e",
   "metadata": {},
   "outputs": [],
   "source": []
  },
  {
   "cell_type": "code",
   "execution_count": null,
   "id": "aaf1cb14-9711-4e95-a564-b983958efeec",
   "metadata": {},
   "outputs": [],
   "source": [
    "features = c('Compulsive.behavior')\n",
    "FeaturePlot(M1_filtered, features = features,reduction = \"umap\",ncol=3)"
   ]
  },
  {
   "cell_type": "code",
   "execution_count": null,
   "id": "f6c8f79d-ca00-4029-b2df-09875f0b9c7f",
   "metadata": {},
   "outputs": [],
   "source": []
  },
  {
   "cell_type": "markdown",
   "id": "8a147a88-09e8-434a-9706-cd5be346e7bb",
   "metadata": {},
   "source": [
    "#### vizualise PRS scores on the different clusters\n",
    "hypothesis: \n",
    "- cluster 0, which has mainly AD donors, might have a higher PRS score for AD as well\n",
    "- cluster 3, which has mainly FTD donors, might have a higher PRS score for FTD as well\n",
    "- cluster 4, which has mainly MS donors, might have a higher PRS score for MS as well"
   ]
  },
  {
   "cell_type": "code",
   "execution_count": null,
   "id": "533fd940-9252-4e3a-a94b-f6b633f8a4dd",
   "metadata": {},
   "outputs": [],
   "source": [
    "M1_with_PRS <- subset(M1, subset = (MS_PRS != 'exclude' & AD_PRS != 'exclude' & FTD_PRS != 'exclude' ))\n",
    "M1_with_PRS$MS_PRS <- as.numeric(M1_with_PRS$MS_PRS)\n",
    "M1_with_PRS$AD_PRS <- as.numeric(M1_with_PRS$AD_PRS)\n",
    "M1_with_PRS$FTD_PRS <- as.numeric(M1_with_PRS$FTD_PRS)\n",
    "M1_with_PRS@meta.data$seurat_clusters <- factor(M1_with_PRS@meta.data$seurat_clusters,\n",
    "                                               levels = c(\"0\", \"1\", \"2\", \"3\", \"4\", \"5\"),\n",
    "                                               labels = c(\"AD\", \"PD\", \"CONTROL\", \"AD.FTD\", \"MS\", \"PSYCH\"))\n",
    "\n",
    "VlnPlot(M1_with_PRS, features = c(\"AD_PRS\",\"FTD_PRS\",\"MS_PRS\"), ncol = 3)\n",
    "DotPlot(M1_with_PRS, features = c(\"MS_PRS\",\"AD_PRS\",\"FTD_PRS\"),\n",
    "        scale.min=0.9999,\n",
    "        scale.max=1,\n",
    "        dot.scale=10,\n",
    "        col.min = -5,\n",
    "        col.max = 5,\n",
    "        cols = 'RdGy'\n",
    "       ) + \n",
    "RotatedAxis() +\n",
    "coord_flip()\n",
    "## average expression: indicates the average number of observations of a particular symptombin within each cluster, or in this case average PRS score. \n",
    "## Percent Expressed: This value represents the percentage of donors within each cluster that have observations for that symptombin, or in this case PRS. \n",
    "## It provides an estimation of the proportion of donors in the cluster where the symptombin is detected or expressed. \n",
    "## The percentage is calculated by dividing the number of donors with the symptombin by the total number of donors in the cluster and multiplying by 100.\n",
    "\n",
    "\n",
    "cluster_identity <- M1_with_PRS@meta.data$seurat_clusters\n",
    "# cluster_identity <- Idents(M1)\n",
    "ms_prs <- M1_with_PRS@meta.data$MS_PRS\n",
    "ad_prs <- M1_with_PRS@meta.data$AD_PRS\n",
    "ftd_prs <- M1_with_PRS@meta.data$FTD_PRS\n",
    "temp <- data.frame(Cluster = cluster_identity, MS_PRS = ms_prs, AD_PRS = ad_prs,  FTD_PRS = ftd_prs)\n",
    "print(head(temp,10))\n",
    "print(table(temp$Cluster))\n",
    "average_values <- temp %>%\n",
    "  group_by(Cluster) %>%\n",
    "  summarize(\n",
    "    mean_MS_PRS = mean(MS_PRS),\n",
    "    mean_AD_PRS = mean(AD_PRS),\n",
    "    mean_FTD_PRS = mean(FTD_PRS)\n",
    "  )\n",
    "print(average_values)\n",
    "heatmap_data <- as.data.frame(average_values)\n",
    "heatmap_data_long <- reshape2::melt(heatmap_data, id.vars = \"Cluster\")\n",
    "heatmap_plot <- ggplot(heatmap_data_long, aes(x = variable, y = Cluster, fill = value)) +\n",
    "  geom_tile() +\n",
    "  scale_fill_viridis_c() +  # Use the viridis color palette\n",
    "  labs(x = \"Clusters\", y = \"Markers\")  +coord_flip()# Set x and y axis labels\n",
    "\n",
    "print(heatmap_plot)"
   ]
  },
  {
   "cell_type": "markdown",
   "id": "6f3b02d6-3446-49be-8533-00a583c847a7",
   "metadata": {},
   "source": []
  },
  {
   "cell_type": "code",
   "execution_count": null,
   "id": "e1e3809f-a11b-4ec4-87fe-f0e41764b53c",
   "metadata": {
    "tags": []
   },
   "outputs": [],
   "source": []
  },
  {
   "cell_type": "code",
   "execution_count": null,
   "id": "9824f5a2-323f-4ae5-9d06-2d5ffca5db85",
   "metadata": {},
   "outputs": [],
   "source": []
  },
  {
   "cell_type": "markdown",
   "id": "3b0d1b83-2a15-4140-9828-503e9468721d",
   "metadata": {},
   "source": [
    "### within the MS cluster we see two subgroups, seemingly based on age (and when symtpoms first occur)"
   ]
  },
  {
   "cell_type": "code",
   "execution_count": null,
   "id": "3f598266-4217-4c8b-b8b6-ac2bbcd34abf",
   "metadata": {},
   "outputs": [],
   "source": []
  },
  {
   "cell_type": "markdown",
   "id": "f3834e1c-d7de-43cd-8602-9dfb318c718f",
   "metadata": {},
   "source": [
    "#### cluster identity"
   ]
  },
  {
   "cell_type": "code",
   "execution_count": null,
   "id": "a97b4b9b-e1f2-4e70-845b-3a2899fd10c6",
   "metadata": {},
   "outputs": [],
   "source": []
  },
  {
   "cell_type": "markdown",
   "id": "19d9af90-cd6c-41c9-85e7-01d19009beaf",
   "metadata": {},
   "source": [
    "#### what drives the subclusters?"
   ]
  },
  {
   "cell_type": "code",
   "execution_count": null,
   "id": "39142d9b-f808-4600-91fa-404b686e025e",
   "metadata": {
    "tags": []
   },
   "outputs": [],
   "source": []
  },
  {
   "cell_type": "code",
   "execution_count": null,
   "id": "c6761e31-0a4e-4a0a-8be8-4f25a5d1c3c3",
   "metadata": {},
   "outputs": [],
   "source": [
    "meta <- as.data.frame(M1_filtered@meta.data$MS_PRS,row.names = rownames(M1_filtered@meta.data))\n",
    "UMAP_test <- as.data.frame(Embeddings(M1_filtered,reduction='umap'))\n",
    "head(UMAP_test)\n",
    "# head(meta)\n",
    "linear_model <- lm(UMAP_2 ~ UMAP_1, data = UMAP_test)  # Perform linear regression\n",
    "scatter_plot <- ggplot(data = UMAP_test, aes(x = UMAP_1, y = UMAP_2)) +\n",
    "  geom_point()  # Add points to the plot\n",
    "\n",
    "slope <- coef(linear_model)[[\"UMAP_1\"]]  # Extract the slope\n",
    "intercept <- coef(linear_model)[[\"(Intercept)\"]]  # Extract the intercept\n",
    "regression_line <- geom_abline(slope = slope, intercept = intercept, color = \"red\", linetype = \"dashed\")  # Add regression line\n",
    "\n",
    "scatter_plot + regression_line\n",
    "\n",
    "\n",
    "# Define x-coordinates for the two points\n",
    "x1 <- -3\n",
    "x2 <- 3\n",
    "\n",
    "# Calculate the corresponding y-coordinates using the regression line equation\n",
    "y1 <- slope * x1 + intercept\n",
    "y2 <- slope * x2 + intercept\n",
    "\n",
    "# Print the coordinates of the two points on the line\n",
    "point1 <- c(x1, y1)\n",
    "point2 <- c(x2, y2)\n",
    "\n",
    "p4 <- function(p1, p2, p3) {\n",
    "  x1 <- p1[1]\n",
    "  y1 <- p1[2]\n",
    "  x2 <- p2[1]\n",
    "  y2 <- p2[2]\n",
    "  x3 <- p3[1]\n",
    "  y3 <- p3[2]\n",
    "  dx <- x2 - x1\n",
    "  dy <- y2 - y1\n",
    "  det <- dx*dx + dy*dy\n",
    "  a <- (dy * (y3 - y1) + dx * (x3 - x1)) / det\n",
    "  return(list(x1 + a * dx, y1 + a * dy))\n",
    "}\n",
    "\n",
    "\n",
    "# p4(point1,point2,c(0.8231990,-0.1644701))\n",
    "UMAP_test$x <- apply(UMAP_test,1,function(row){p4(c(-1.0, 1.0), c(1.0, -1.0), c(row[\"UMAP_1\"], row[\"UMAP_2\"])) })\n",
    "UMAP_test <- cbind(UMAP_test, do.call(rbind, UMAP_test$x))\n",
    "colnames(UMAP_test)[4:5] <- c(\"x_coordinate\", \"y_coordinate\")\n",
    "\n",
    "\n",
    "# Plot the values in the \"x\" column\n",
    "# Create an empty plot\n",
    "plot(NA, xlim = range(UMAP_test$UMAP_1), ylim = range(UMAP_test$UMAP_2), xlab = \"UMAP_1\", ylab = \"UMAP_2\")\n",
    "\n",
    "# Plot the points\n",
    "for (i in 1:nrow(UMAP_test)) {\n",
    "  points(UMAP_test$UMAP_1[i], UMAP_test$UMAP_2[i], col = \"blue\")  # Plot the original points\n",
    "  points(UMAP_test$x[[i]][1], UMAP_test$x[[i]][2], col = \"red\")  # Plot the points from the \"x\" column\n",
    "}\n",
    "UMAP_test$x_coordinate <- sapply(UMAP_test$x_coordinate, `[[`, 1)\n",
    "UMAP_test$y_coordinate <- sapply(UMAP_test$y_coordinate, `[[`, 1)\n",
    "# Add a legend\n",
    "legend(\"topright\", legend = c(\"Original Points\", \"Points from x\"), col = c(\"blue\", \"red\"), pch = 1)\n",
    "\n",
    "UMAP_test$y2 <- UMAP_test$y_coordinate - UMAP_test$y_coordinate\n",
    "UMAP_test <- merge(UMAP_test, meta, by = \"row.names\", all = TRUE)\n",
    "colnames(UMAP_test)[8] <- \"PRS\"\n",
    "\n",
    "UMAP_test <- UMAP_test[UMAP_test$PRS != 'exclude', ]\n",
    "UMAP_test$PRS <- as.numeric(UMAP_test$PRS)\n",
    "head(UMAP_test,10)\n",
    "linear_model <- lm(PRS ~ x_coordinate, data = UMAP_test)  # Perform linear regression\n",
    "summary(linear_model)\n",
    "scatter_plot <- ggplot(data = UMAP_test, aes(x = x_coordinate, y = PRS)) +\n",
    "  geom_point()  # Add points to the plot\n",
    "\n",
    "slope <- coef(linear_model)[[\"x_coordinate\"]]  # Extract the slope\n",
    "intercept <- coef(linear_model)[[\"(Intercept)\"]]  # Extract the intercept\n",
    "regression_line <- geom_abline(slope = slope, intercept = intercept, color = \"red\", linetype = \"dashed\")  # Add regression line\n",
    "\n",
    "scatter_plot + regression_line"
   ]
  },
  {
   "cell_type": "code",
   "execution_count": null,
   "id": "92c9c2cb-99eb-43f6-bb8c-88d8cadca7fe",
   "metadata": {},
   "outputs": [],
   "source": []
  },
  {
   "cell_type": "code",
   "execution_count": null,
   "id": "c0a728be-1b16-41e4-8afa-8892743dfc4c",
   "metadata": {},
   "outputs": [],
   "source": [
    "# M1_MS <- subset(M1_filtered, subset = (MS_PRS > 0 | MS_PRS < 0 | MS_PRS == 0))\n",
    "# cluster_identity <- M1_MS@meta.data$seurat_clusters\n",
    "# ms_prs <- M1_MS@meta.data$MS_PRS\n",
    "# ad_prs <- M1_MS@meta.data$AD_PRS\n",
    "# ftd_prs <- M1_MS@meta.data$FTD_PRS\n",
    "# temp <- data.frame(Cluster = cluster_identity, MS_PRS = ms_prs, AD_PRS = ad_prs,  FTD_PRS = ftd_prs)\n",
    "# head(temp)\n",
    "\n",
    "# average_values <- temp %>%\n",
    "#   group_by(Cluster) %>%\n",
    "#   summarize(\n",
    "#     mean_MS_PRS = mean(MS_PRS),\n",
    "#     mean_AD_PRS = mean(AD_PRS),\n",
    "#     mean_FTD_PRS = mean(FTD_PRS)\n",
    "#   )\n",
    "# print(average_values)\n",
    "# heatmap_data <- as.data.frame(average_values)\n",
    "# # rownames(heatmap_data) <- NULL\n",
    "# heatmap_data_long <- reshape2::melt(heatmap_data, id.vars = \"Cluster\")\n",
    "# print(heatmap_data)\n",
    "# print(heatmap_data_long)\n",
    "# heatmap_plot <- ggplot(heatmap_data_long, aes(x = variable, y = Cluster, fill = value)) +\n",
    "#   geom_tile() +\n",
    "#   scale_fill_viridis_c() +  # Use the viridis color palette\n",
    "#   labs(x = \"Clusters\", y = \"Markers\")  # Set x and y axis labels\n",
    "# print(heatmap_plot)"
   ]
  },
  {
   "cell_type": "markdown",
   "id": "37b936dd-5e91-4c54-8933-96f6faeb50f6",
   "metadata": {},
   "source": [
    "#### are there differences in MS PRS between the two groups?"
   ]
  },
  {
   "cell_type": "code",
   "execution_count": null,
   "id": "75a13e5d-76b3-48c0-a471-644f57dbf2c6",
   "metadata": {},
   "outputs": [],
   "source": [
    "M1_with_PRS <- subset(M1_filtered, subset = (MS_PRS != 'exclude'))\n",
    "M1_with_PRS$MS_PRS <- as.numeric(M1_with_PRS$MS_PRS)\n",
    "M1_with_PRS@meta.data$seurat_clusters <- factor(M1_with_PRS@meta.data$seurat_clusters,\n",
    "                                               levels = c(\"0\", \"1\"))\n",
    "\n",
    "VlnPlot(M1_with_PRS, features = c(\"MS_PRS\"), ncol = 1)\n",
    "DotPlot(M1_with_PRS, features = c(\"MS_PRS\"),\n",
    "        scale.min=0,\n",
    "        scale.max=1,\n",
    "        # dot.scale=10,\n",
    "        col.min = 0,\n",
    "        col.max = 1,\n",
    "        cols = 'RdGy'\n",
    "       ) + \n",
    "RotatedAxis() +\n",
    "coord_flip()\n",
    "\n",
    "cluster_identity <- M1_with_PRS@meta.data$seurat_clusters\n",
    "# cluster_identity <- Idents(M1)\n",
    "ms_prs <- M1_with_PRS@meta.data$MS_PRS\n",
    "temp <- data.frame(Cluster = cluster_identity, MS_PRS = ms_prs)\n",
    "# print(head(temp,10))\n",
    "cluster_0 <- temp$MS_PRS[temp$Cluster == 0]\n",
    "cluster_1 <- temp$MS_PRS[temp$Cluster == 1]\n",
    "\n",
    "# Perform t-test\n",
    "t_test_result <- t.test(cluster_0, cluster_1)\n",
    "\n",
    "# Print the t-test result\n",
    "print(t_test_result)\n",
    "# print(table(temp$Cluster))\n",
    "# average_values <- temp %>%\n",
    "#   group_by(Cluster) %>%\n",
    "#   summarize(\n",
    "#     mean_MS_PRS = mean(MS_PRS)\n",
    "#   )\n",
    "# print(average_values)\n",
    "# heatmap_data <- as.data.frame(average_values)\n",
    "# heatmap_data_long <- reshape2::melt(heatmap_data, id.vars = \"Cluster\")\n",
    "# heatmap_plot <- ggplot(heatmap_data_long, aes(x = variable, y = Cluster, fill = value)) +\n",
    "#   geom_tile() +\n",
    "#   scale_fill_viridis_c(limits = c(0, 1)) +  # Set the color range limits\n",
    "#   labs(x = \"Clusters\", y = \"Markers\") +\n",
    "#   coord_flip()\n",
    "\n",
    "# print(heatmap_plot)\n"
   ]
  },
  {
   "cell_type": "code",
   "execution_count": null,
   "id": "89a50658-e365-48e4-97b1-c5d6587f42dc",
   "metadata": {},
   "outputs": [],
   "source": [
    "VlnPlot(M1_filtered, features = features, ncol = 2)\n",
    "# FeaturePlot(M1_filtered, features = \"MS_PRS\", reduction = \"umap\", cols = viridis::viridis(10))"
   ]
  },
  {
   "cell_type": "code",
   "execution_count": null,
   "id": "539dae87-a1a7-4421-914f-85d6a6994ae7",
   "metadata": {},
   "outputs": [],
   "source": [
    "cluster_number <- 5\n",
    "\n",
    "# Subset the data to include only cluster 2\n",
    "# cluster2 <- subset(M1, ident.1 == cluster_number)\n",
    "\n",
    "# Perform differential expression analysis using the symptoms as features\n",
    "cluster2_markers <- FindMarkers(M1_filtered, ident.1 = cluster_number, min.pct = 0.1)\n",
    "cluster2_markers <- cluster2_markers %>% arrange(desc(avg_log2FC))\n",
    "cluster2_markers <- cluster2_markers %>% arrange(pct.1)\n",
    "cluster2_markers <- cluster2_markers %>% arrange(p_val_adj)\n",
    "cluster2_markers"
   ]
  },
  {
   "cell_type": "code",
   "execution_count": null,
   "id": "49c5bdb1-60c1-409f-8876-5ea7d822a37e",
   "metadata": {},
   "outputs": [],
   "source": []
  },
  {
   "cell_type": "code",
   "execution_count": null,
   "id": "b1176ce6-edea-461f-80cd-1f5cc97c99e5",
   "metadata": {},
   "outputs": [],
   "source": []
  }
 ],
 "metadata": {
  "kernelspec": {
   "display_name": "R",
   "language": "R",
   "name": "ir"
  },
  "language_info": {
   "codemirror_mode": "r",
   "file_extension": ".r",
   "mimetype": "text/x-r-source",
   "name": "R",
   "pygments_lexer": "r",
   "version": "4.2.2"
  }
 },
 "nbformat": 4,
 "nbformat_minor": 5
}
